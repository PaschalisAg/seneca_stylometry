{
 "cells": [
  {
   "cell_type": "code",
   "execution_count": null,
   "metadata": {},
   "outputs": [
    {
     "ename": "",
     "evalue": "",
     "output_type": "error",
     "traceback": [
      "\u001b[1;31mRunning cells with 'Python 3.12.0' requires the ipykernel package.\n",
      "\u001b[1;31mRun the following command to install 'ipykernel' into the Python environment. \n",
      "\u001b[1;31mCommand: '/opt/homebrew/bin/python3.12 -m pip install ipykernel -U --user --force-reinstall'"
     ]
    }
   ],
   "source": [
    "import pandas as pd\n",
    "import matplotlib.pyplot as plt\n",
    "from sklearn import metrics\n",
    "import seaborn as sns\n",
    "\n",
    "\n",
    "# set seaborn color palette to colorblind for accessibility\n",
    "sns.set_palette('colorblind')\n",
    "\n",
    "# read excel file\n",
    "val_gi_res_cosd = pd.read_excel(\"../results/results_imposters_valid_cosine.xlsx\")\n",
    "\n",
    "# extract true and predicted authors from the dataframe; capitalise the first letter `title()`\n",
    "true_authors = val_gi_res_cosd['real_author'].str.title()\n",
    "predicted_authors = val_gi_res_cosd['attributed_author'].str.title()\n",
    "\n",
    "# get unique class names for the confusion matrix and sort them alphabetically\n",
    "class_names = sorted(true_authors.unique())\n",
    "\n",
    "\n",
    "# confusion matrix\n",
    "disp = metrics.ConfusionMatrixDisplay.from_predictions(\n",
    "    true_authors,\n",
    "    predicted_authors,\n",
    "    cmap='binary',  # color map for the confusion matrix\n",
    "    xticks_rotation=45,  # rotate x-axis labels for better visibility\n",
    "    normalize=None  # do not normalize the confusion matrix (show counts)\n",
    ")\n",
    "\n",
    "# adjust title and labels for the confusion matrix plot\n",
    "disp.ax_.set_title('Confusion matrix (imposters method; 88 texts)')\n",
    "disp.ax_.set(xlabel='Predicted author', ylabel='True author')\n",
    "# adjust figure size\n",
    "fig = disp.figure_\n",
    "fig.set_figwidth(9)\n",
    "fig.set_figheight(8)\n",
    "plt.tight_layout()\n",
    "plt.savefig('../results/heatm_eval_gi.png', dpi=500)  # run before `plt.show()` otherwise it is not working\n",
    "plt.savefig('../results/heatm_eval_gi.pdf', dpi=500)  # journal version plot\n",
    "plt.show()\n",
    "\n",
    "# display classification report for precision, recall, and F1-score\n",
    "print(metrics.classification_report(true_authors,\n",
    "                                    predicted_authors,\n",
    "                                    zero_division=0,  # handle divisions by zero gracefully\n",
    "                                    digits=2))  # show metrics with 2 decimal places"
   ]
  }
 ],
 "metadata": {
  "colab": {
   "provenance": []
  },
  "kernelspec": {
   "display_name": "Python 3 (ipykernel)",
   "language": "python",
   "name": "python3"
  },
  "language_info": {
   "codemirror_mode": {
    "name": "ipython",
    "version": 3
   },
   "file_extension": ".py",
   "mimetype": "text/x-python",
   "name": "python",
   "nbconvert_exporter": "python",
   "pygments_lexer": "ipython3",
   "version": "3.11.7"
  },
  "toc": {
   "base_numbering": 1,
   "nav_menu": {},
   "number_sections": true,
   "sideBar": true,
   "skip_h1_title": false,
   "title_cell": "Table of Contents",
   "title_sidebar": "Contents",
   "toc_cell": false,
   "toc_position": {},
   "toc_section_display": true,
   "toc_window_display": false
  },
  "varInspector": {
   "cols": {
    "lenName": 16,
    "lenType": 16,
    "lenVar": 40
   },
   "kernels_config": {
    "python": {
     "delete_cmd_postfix": "",
     "delete_cmd_prefix": "del ",
     "library": "var_list.py",
     "varRefreshCmd": "print(var_dic_list())"
    },
    "r": {
     "delete_cmd_postfix": ") ",
     "delete_cmd_prefix": "rm(",
     "library": "var_list.r",
     "varRefreshCmd": "cat(var_dic_list()) "
    }
   },
   "types_to_exclude": [
    "module",
    "function",
    "builtin_function_or_method",
    "instance",
    "_Feature"
   ],
   "window_display": false
  }
 },
 "nbformat": 4,
 "nbformat_minor": 4
}

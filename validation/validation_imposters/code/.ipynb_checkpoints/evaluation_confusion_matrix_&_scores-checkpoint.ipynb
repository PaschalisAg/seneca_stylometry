{
 "cells": [
  {
   "cell_type": "code",
   "execution_count": 9,
   "metadata": {
    "ExecuteTime": {
     "end_time": "2023-12-11T22:24:39.862328Z",
     "start_time": "2023-12-11T22:24:38.753253Z"
    },
    "colab": {
     "base_uri": "https://localhost:8080/"
    },
    "id": "q-lFP2bhpJwA",
    "outputId": "6d1b2376-4865-41ee-ce64-af30dd1ca6d2"
   },
   "outputs": [],
   "source": [
    "import pandas as pd\n",
    "import matplotlib.pyplot as plt\n",
    "from sklearn import metrics\n",
    "import seaborn as sns\n",
    "# from google.colab import drive\n",
    "# drive.mount('/content/drive')"
   ]
  },
  {
   "cell_type": "code",
   "execution_count": 10,
   "metadata": {
    "ExecuteTime": {
     "end_time": "2023-12-11T22:24:51.491076Z",
     "start_time": "2023-12-11T22:24:51.349898Z"
    },
    "id": "0Ra1JwK_vRgU"
   },
   "outputs": [],
   "source": [
    "# read excel file imposters 2000 MFCs 4grams\n",
    "validation_imposters_results_cosine_delta = pd.read_excel(\n",
    "    \"../results/results_imposters_valid_cosine_delta.xlsx\")"
   ]
  },
  {
   "cell_type": "code",
   "execution_count": 11,
   "metadata": {
    "ExecuteTime": {
     "end_time": "2023-12-11T22:24:52.634504Z",
     "start_time": "2023-12-11T22:24:52.615634Z"
    },
    "colab": {
     "base_uri": "https://localhost:8080/",
     "height": 424
    },
    "id": "nlYhgSemlrIc",
    "outputId": "f1c1cbb7-298b-4d3c-9a2f-9b5c6d323a52"
   },
   "outputs": [
    {
     "data": {
      "text/html": [
       "<div>\n",
       "<style scoped>\n",
       "    .dataframe tbody tr th:only-of-type {\n",
       "        vertical-align: middle;\n",
       "    }\n",
       "\n",
       "    .dataframe tbody tr th {\n",
       "        vertical-align: top;\n",
       "    }\n",
       "\n",
       "    .dataframe thead th {\n",
       "        text-align: right;\n",
       "    }\n",
       "</style>\n",
       "<table border=\"1\" class=\"dataframe\">\n",
       "  <thead>\n",
       "    <tr style=\"text-align: right;\">\n",
       "      <th></th>\n",
       "      <th>document</th>\n",
       "      <th>author</th>\n",
       "      <th>attributed_author</th>\n",
       "      <th>p1</th>\n",
       "      <th>p2</th>\n",
       "      <th>result</th>\n",
       "    </tr>\n",
       "  </thead>\n",
       "  <tbody>\n",
       "    <tr>\n",
       "      <th>0</th>\n",
       "      <td>luc_phars_1.txt</td>\n",
       "      <td>lucan</td>\n",
       "      <td>lucan</td>\n",
       "      <td>0.35</td>\n",
       "      <td>0.64</td>\n",
       "      <td>1.00</td>\n",
       "    </tr>\n",
       "    <tr>\n",
       "      <th>1</th>\n",
       "      <td>luc_phars_10.txt</td>\n",
       "      <td>lucan</td>\n",
       "      <td>lucan</td>\n",
       "      <td>0.35</td>\n",
       "      <td>0.64</td>\n",
       "      <td>1.00</td>\n",
       "    </tr>\n",
       "    <tr>\n",
       "      <th>2</th>\n",
       "      <td>luc_phars_2.txt</td>\n",
       "      <td>lucan</td>\n",
       "      <td>lucan</td>\n",
       "      <td>0.35</td>\n",
       "      <td>0.64</td>\n",
       "      <td>1.00</td>\n",
       "    </tr>\n",
       "    <tr>\n",
       "      <th>3</th>\n",
       "      <td>luc_phars_3.txt</td>\n",
       "      <td>lucan</td>\n",
       "      <td>lucan</td>\n",
       "      <td>0.35</td>\n",
       "      <td>0.64</td>\n",
       "      <td>1.00</td>\n",
       "    </tr>\n",
       "    <tr>\n",
       "      <th>4</th>\n",
       "      <td>luc_phars_4.txt</td>\n",
       "      <td>lucan</td>\n",
       "      <td>lucan</td>\n",
       "      <td>0.35</td>\n",
       "      <td>0.64</td>\n",
       "      <td>1.00</td>\n",
       "    </tr>\n",
       "    <tr>\n",
       "      <th>...</th>\n",
       "      <td>...</td>\n",
       "      <td>...</td>\n",
       "      <td>...</td>\n",
       "      <td>...</td>\n",
       "      <td>...</td>\n",
       "      <td>...</td>\n",
       "    </tr>\n",
       "    <tr>\n",
       "      <th>83</th>\n",
       "      <td>valflac_argon_4.txt</td>\n",
       "      <td>valerius flaccus</td>\n",
       "      <td>valerius flaccus</td>\n",
       "      <td>0.35</td>\n",
       "      <td>0.64</td>\n",
       "      <td>1.00</td>\n",
       "    </tr>\n",
       "    <tr>\n",
       "      <th>84</th>\n",
       "      <td>valflac_argon_5.txt</td>\n",
       "      <td>valerius flaccus</td>\n",
       "      <td>valerius flaccus</td>\n",
       "      <td>0.35</td>\n",
       "      <td>0.64</td>\n",
       "      <td>1.00</td>\n",
       "    </tr>\n",
       "    <tr>\n",
       "      <th>85</th>\n",
       "      <td>valflac_argon_6.txt</td>\n",
       "      <td>valerius flaccus</td>\n",
       "      <td>valerius flaccus</td>\n",
       "      <td>0.35</td>\n",
       "      <td>0.64</td>\n",
       "      <td>0.99</td>\n",
       "    </tr>\n",
       "    <tr>\n",
       "      <th>86</th>\n",
       "      <td>valflac_argon_7.txt</td>\n",
       "      <td>valerius flaccus</td>\n",
       "      <td>valerius flaccus</td>\n",
       "      <td>0.35</td>\n",
       "      <td>0.64</td>\n",
       "      <td>1.00</td>\n",
       "    </tr>\n",
       "    <tr>\n",
       "      <th>87</th>\n",
       "      <td>valflac_argon_8.txt</td>\n",
       "      <td>valerius flaccus</td>\n",
       "      <td>valerius flaccus</td>\n",
       "      <td>0.35</td>\n",
       "      <td>0.64</td>\n",
       "      <td>1.00</td>\n",
       "    </tr>\n",
       "  </tbody>\n",
       "</table>\n",
       "<p>88 rows × 6 columns</p>\n",
       "</div>"
      ],
      "text/plain": [
       "               document            author attributed_author    p1    p2  \\\n",
       "0       luc_phars_1.txt             lucan             lucan  0.35  0.64   \n",
       "1      luc_phars_10.txt             lucan             lucan  0.35  0.64   \n",
       "2       luc_phars_2.txt             lucan             lucan  0.35  0.64   \n",
       "3       luc_phars_3.txt             lucan             lucan  0.35  0.64   \n",
       "4       luc_phars_4.txt             lucan             lucan  0.35  0.64   \n",
       "..                  ...               ...               ...   ...   ...   \n",
       "83  valflac_argon_4.txt  valerius flaccus  valerius flaccus  0.35  0.64   \n",
       "84  valflac_argon_5.txt  valerius flaccus  valerius flaccus  0.35  0.64   \n",
       "85  valflac_argon_6.txt  valerius flaccus  valerius flaccus  0.35  0.64   \n",
       "86  valflac_argon_7.txt  valerius flaccus  valerius flaccus  0.35  0.64   \n",
       "87  valflac_argon_8.txt  valerius flaccus  valerius flaccus  0.35  0.64   \n",
       "\n",
       "    result  \n",
       "0     1.00  \n",
       "1     1.00  \n",
       "2     1.00  \n",
       "3     1.00  \n",
       "4     1.00  \n",
       "..     ...  \n",
       "83    1.00  \n",
       "84    1.00  \n",
       "85    0.99  \n",
       "86    1.00  \n",
       "87    1.00  \n",
       "\n",
       "[88 rows x 6 columns]"
      ]
     },
     "execution_count": 11,
     "metadata": {},
     "output_type": "execute_result"
    }
   ],
   "source": [
    "validation_imposters_results_cosine_delta"
   ]
  },
  {
   "cell_type": "code",
   "execution_count": 12,
   "metadata": {
    "ExecuteTime": {
     "end_time": "2023-12-11T22:25:08.436118Z",
     "start_time": "2023-12-11T22:25:08.428528Z"
    },
    "colab": {
     "base_uri": "https://localhost:8080/"
    },
    "id": "hAlezDsa4C-D",
    "outputId": "81629d12-c937-4e8d-e75e-c0bbe466957d"
   },
   "outputs": [
    {
     "data": {
      "text/plain": [
       "['Lucan',\n",
       " 'Manilius',\n",
       " 'Ovid',\n",
       " 'Persius',\n",
       " 'Phaedrus',\n",
       " 'Seneca',\n",
       " 'Silius Italicus',\n",
       " 'Statius',\n",
       " 'Valerius Flaccus']"
      ]
     },
     "execution_count": 12,
     "metadata": {},
     "output_type": "execute_result"
    }
   ],
   "source": [
    "# the lists of true authors and predicted authors\n",
    "true_authors = validation_imposters_results_cosine_delta['author'].str.title()\n",
    "predicted_authors = validation_imposters_results_cosine_delta[\n",
    "    'attributed_author'].str.title()\n",
    "\n",
    "class_names = sorted(true_authors.unique())\n",
    "class_names"
   ]
  },
  {
   "cell_type": "markdown",
   "metadata": {
    "id": "VWFeCK_Bu7Wz"
   },
   "source": [
    "## Confusion Matrix"
   ]
  },
  {
   "cell_type": "code",
   "execution_count": 13,
   "metadata": {
    "ExecuteTime": {
     "end_time": "2023-12-11T22:25:10.393243Z",
     "start_time": "2023-12-11T22:25:10.390500Z"
    },
    "id": "lLTPsj5tkpzv"
   },
   "outputs": [],
   "source": [
    "# set context to talk\n",
    "sns.set_palette('colorblind')"
   ]
  },
  {
   "cell_type": "code",
   "execution_count": 15,
   "metadata": {
    "ExecuteTime": {
     "end_time": "2023-12-11T22:25:45.587649Z",
     "start_time": "2023-12-11T22:25:44.540031Z"
    },
    "colab": {
     "base_uri": "https://localhost:8080/",
     "height": 789
    },
    "id": "jAwcJRtzmE5i",
    "outputId": "326e64ec-3b62-466b-9527-13d1fd3c31da"
   },
   "outputs": [
    {
     "data": {
      "image/png": "[encoded data removed]",
      "text/plain": [
       "<Figure size 900x800 with 2 Axes>"
      ]
     },
     "metadata": {},
     "output_type": "display_data"
    }
   ],
   "source": [
    "# Based on https://scikit-learn.org/stable/auto_examples/model_selection/plot_confusion_matrix.html\n",
    "disp = metrics.ConfusionMatrixDisplay.from_predictions(\n",
    "    true_authors,\n",
    "    predicted_authors,\n",
    "    cmap='binary',\n",
    "    xticks_rotation=45,\n",
    "    normalize='pred', # pred: positive predictive value (i.e., precision)\n",
    ")\n",
    "disp.ax_.set_title('Confusion matrix (imposters method; 88 texts)')\n",
    "disp.ax_.set(xlabel='Predicted author', ylabel='True author')\n",
    "\n",
    "fig = disp.figure_\n",
    "fig.set_figwidth(9)\n",
    "fig.set_figheight(8)\n",
    "\n",
    "# save figure\n",
    "plt.tight_layout()\n",
    "plt.savefig('../results/conf_matrix_eval_imposters_verse_corpus_cosdelta.pdf', dpi=500)\n",
    "plt.show()"
   ]
  },
  {
   "cell_type": "code",
   "execution_count": 8,
   "metadata": {
    "ExecuteTime": {
     "end_time": "2023-12-11T22:25:20.392227Z",
     "start_time": "2023-12-11T22:25:20.367769Z"
    },
    "colab": {
     "base_uri": "https://localhost:8080/",
     "height": 363
    },
    "id": "vQkv2EXSna4U",
    "outputId": "e0eaa980-28be-4899-f82f-0c23bb5aa1c0"
   },
   "outputs": [
    {
     "data": {
      "text/html": [
       "<div>\n",
       "<style scoped>\n",
       "    .dataframe tbody tr th:only-of-type {\n",
       "        vertical-align: middle;\n",
       "    }\n",
       "\n",
       "    .dataframe tbody tr th {\n",
       "        vertical-align: top;\n",
       "    }\n",
       "\n",
       "    .dataframe thead th {\n",
       "        text-align: right;\n",
       "    }\n",
       "</style>\n",
       "<table border=\"1\" class=\"dataframe\">\n",
       "  <thead>\n",
       "    <tr style=\"text-align: right;\">\n",
       "      <th>attributed_author</th>\n",
       "      <th>Lucan</th>\n",
       "      <th>Manilius</th>\n",
       "      <th>Ovid</th>\n",
       "      <th>Persius</th>\n",
       "      <th>Phaedrus</th>\n",
       "      <th>Seneca</th>\n",
       "      <th>Silius Italicus</th>\n",
       "      <th>Statius</th>\n",
       "      <th>Valerius Flaccus</th>\n",
       "    </tr>\n",
       "    <tr>\n",
       "      <th>author</th>\n",
       "      <th></th>\n",
       "      <th></th>\n",
       "      <th></th>\n",
       "      <th></th>\n",
       "      <th></th>\n",
       "      <th></th>\n",
       "      <th></th>\n",
       "      <th></th>\n",
       "      <th></th>\n",
       "    </tr>\n",
       "  </thead>\n",
       "  <tbody>\n",
       "    <tr>\n",
       "      <th>Lucan</th>\n",
       "      <td>10</td>\n",
       "      <td>0</td>\n",
       "      <td>0</td>\n",
       "      <td>0</td>\n",
       "      <td>0</td>\n",
       "      <td>0</td>\n",
       "      <td>0</td>\n",
       "      <td>0</td>\n",
       "      <td>0</td>\n",
       "    </tr>\n",
       "    <tr>\n",
       "      <th>Manilius</th>\n",
       "      <td>0</td>\n",
       "      <td>5</td>\n",
       "      <td>0</td>\n",
       "      <td>0</td>\n",
       "      <td>0</td>\n",
       "      <td>0</td>\n",
       "      <td>0</td>\n",
       "      <td>0</td>\n",
       "      <td>0</td>\n",
       "    </tr>\n",
       "    <tr>\n",
       "      <th>Ovid</th>\n",
       "      <td>0</td>\n",
       "      <td>0</td>\n",
       "      <td>10</td>\n",
       "      <td>0</td>\n",
       "      <td>0</td>\n",
       "      <td>0</td>\n",
       "      <td>0</td>\n",
       "      <td>0</td>\n",
       "      <td>0</td>\n",
       "    </tr>\n",
       "    <tr>\n",
       "      <th>Persius</th>\n",
       "      <td>0</td>\n",
       "      <td>0</td>\n",
       "      <td>0</td>\n",
       "      <td>6</td>\n",
       "      <td>0</td>\n",
       "      <td>0</td>\n",
       "      <td>0</td>\n",
       "      <td>0</td>\n",
       "      <td>0</td>\n",
       "    </tr>\n",
       "    <tr>\n",
       "      <th>Phaedrus</th>\n",
       "      <td>0</td>\n",
       "      <td>0</td>\n",
       "      <td>0</td>\n",
       "      <td>0</td>\n",
       "      <td>6</td>\n",
       "      <td>0</td>\n",
       "      <td>0</td>\n",
       "      <td>0</td>\n",
       "      <td>0</td>\n",
       "    </tr>\n",
       "    <tr>\n",
       "      <th>Seneca</th>\n",
       "      <td>0</td>\n",
       "      <td>0</td>\n",
       "      <td>0</td>\n",
       "      <td>0</td>\n",
       "      <td>0</td>\n",
       "      <td>8</td>\n",
       "      <td>0</td>\n",
       "      <td>0</td>\n",
       "      <td>0</td>\n",
       "    </tr>\n",
       "    <tr>\n",
       "      <th>Silius Italicus</th>\n",
       "      <td>0</td>\n",
       "      <td>0</td>\n",
       "      <td>0</td>\n",
       "      <td>0</td>\n",
       "      <td>0</td>\n",
       "      <td>0</td>\n",
       "      <td>17</td>\n",
       "      <td>0</td>\n",
       "      <td>0</td>\n",
       "    </tr>\n",
       "    <tr>\n",
       "      <th>Statius</th>\n",
       "      <td>0</td>\n",
       "      <td>0</td>\n",
       "      <td>0</td>\n",
       "      <td>0</td>\n",
       "      <td>0</td>\n",
       "      <td>0</td>\n",
       "      <td>0</td>\n",
       "      <td>18</td>\n",
       "      <td>0</td>\n",
       "    </tr>\n",
       "    <tr>\n",
       "      <th>Valerius Flaccus</th>\n",
       "      <td>0</td>\n",
       "      <td>0</td>\n",
       "      <td>0</td>\n",
       "      <td>0</td>\n",
       "      <td>0</td>\n",
       "      <td>0</td>\n",
       "      <td>0</td>\n",
       "      <td>0</td>\n",
       "      <td>8</td>\n",
       "    </tr>\n",
       "  </tbody>\n",
       "</table>\n",
       "</div>"
      ],
      "text/plain": [
       "attributed_author  Lucan  Manilius  Ovid  Persius  Phaedrus  Seneca  \\\n",
       "author                                                                \n",
       "Lucan                 10         0     0        0         0       0   \n",
       "Manilius               0         5     0        0         0       0   \n",
       "Ovid                   0         0    10        0         0       0   \n",
       "Persius                0         0     0        6         0       0   \n",
       "Phaedrus               0         0     0        0         6       0   \n",
       "Seneca                 0         0     0        0         0       8   \n",
       "Silius Italicus        0         0     0        0         0       0   \n",
       "Statius                0         0     0        0         0       0   \n",
       "Valerius Flaccus       0         0     0        0         0       0   \n",
       "\n",
       "attributed_author  Silius Italicus  Statius  Valerius Flaccus  \n",
       "author                                                         \n",
       "Lucan                            0        0                 0  \n",
       "Manilius                         0        0                 0  \n",
       "Ovid                             0        0                 0  \n",
       "Persius                          0        0                 0  \n",
       "Phaedrus                         0        0                 0  \n",
       "Seneca                           0        0                 0  \n",
       "Silius Italicus                 17        0                 0  \n",
       "Statius                          0       18                 0  \n",
       "Valerius Flaccus                 0        0                 8  "
      ]
     },
     "execution_count": 8,
     "metadata": {},
     "output_type": "execute_result"
    }
   ],
   "source": [
    "# Double-check with different method:\n",
    "pd.crosstab(true_authors, predicted_authors)"
   ]
  },
  {
   "cell_type": "markdown",
   "metadata": {
    "id": "0EhPWuUCvzjQ"
   },
   "source": [
    "## Classification scores (accuracy, f-scores)"
   ]
  },
  {
   "cell_type": "code",
   "execution_count": 15,
   "metadata": {
    "ExecuteTime": {
     "end_time": "2023-04-02T12:20:22.951185Z",
     "start_time": "2023-04-02T12:20:22.925112Z"
    },
    "colab": {
     "base_uri": "https://localhost:8080/"
    },
    "id": "HfCeUy745ROj",
    "outputId": "0c8ec1da-8646-4a0c-b020-f33f836085ab"
   },
   "outputs": [
    {
     "name": "stdout",
     "output_type": "stream",
     "text": [
      "                  precision    recall  f1-score   support\n",
      "\n",
      "           Lucan       1.00      1.00      1.00        10\n",
      "        Manilius       1.00      1.00      1.00         5\n",
      "            Ovid       1.00      1.00      1.00        10\n",
      "         Persius       1.00      1.00      1.00         6\n",
      "        Phaedrus       1.00      1.00      1.00         6\n",
      "          Seneca       1.00      1.00      1.00         8\n",
      " Silius Italicus       1.00      1.00      1.00        17\n",
      "         Statius       1.00      1.00      1.00        18\n",
      "Valerius Flaccus       1.00      1.00      1.00         8\n",
      "\n",
      "        accuracy                           1.00        88\n",
      "       macro avg       1.00      1.00      1.00        88\n",
      "    weighted avg       1.00      1.00      1.00        88\n",
      "\n"
     ]
    }
   ],
   "source": [
    "print(\n",
    "    metrics.classification_report(true_authors,\n",
    "                                  predicted_authors,\n",
    "                                  zero_division=0,\n",
    "                                  digits=2))"
   ]
  }
 ],
 "metadata": {
  "colab": {
   "provenance": []
  },
  "kernelspec": {
   "display_name": "Python 3 (ipykernel)",
   "language": "python",
   "name": "python3"
  },
  "language_info": {
   "codemirror_mode": {
    "name": "ipython",
    "version": 3
   },
   "file_extension": ".py",
   "mimetype": "text/x-python",
   "name": "python",
   "nbconvert_exporter": "python",
   "pygments_lexer": "ipython3",
   "version": "3.11.7"
  },
  "toc": {
   "base_numbering": 1,
   "nav_menu": {},
   "number_sections": true,
   "sideBar": true,
   "skip_h1_title": false,
   "title_cell": "Table of Contents",
   "title_sidebar": "Contents",
   "toc_cell": false,
   "toc_position": {},
   "toc_section_display": true,
   "toc_window_display": false
  },
  "varInspector": {
   "cols": {
    "lenName": 16,
    "lenType": 16,
    "lenVar": 40
   },
   "kernels_config": {
    "python": {
     "delete_cmd_postfix": "",
     "delete_cmd_prefix": "del ",
     "library": "var_list.py",
     "varRefreshCmd": "print(var_dic_list())"
    },
    "r": {
     "delete_cmd_postfix": ") ",
     "delete_cmd_prefix": "rm(",
     "library": "var_list.r",
     "varRefreshCmd": "cat(var_dic_list()) "
    }
   },
   "types_to_exclude": [
    "module",
    "function",
    "builtin_function_or_method",
    "instance",
    "_Feature"
   ],
   "window_display": false
  }
 },
 "nbformat": 4,
 "nbformat_minor": 4
}

{
 "cells": [
  {
   "cell_type": "code",
   "execution_count": 9,
   "metadata": {
    "ExecuteTime": {
     "end_time": "2023-03-11T11:22:50.946638Z",
     "start_time": "2023-03-11T11:22:50.938084Z"
    },
    "colab": {
     "base_uri": "https://localhost:8080/"
    },
    "id": "q-lFP2bhpJwA",
    "outputId": "be2a5f3f-04a1-4c8d-d135-c5dd3c7c9be3"
   },
   "outputs": [],
   "source": [
    "import pandas as pd\n",
    "import matplotlib.pyplot as plt\n",
    "from sklearn import metrics\n",
    "import seaborn as sns\n",
    "# from google.colab import drive\n",
    "# drive.mount('/content/drive')"
   ]
  },
  {
   "cell_type": "code",
   "execution_count": 19,
   "metadata": {
    "ExecuteTime": {
     "end_time": "2023-03-11T11:25:57.358355Z",
     "start_time": "2023-03-11T11:25:57.302795Z"
    },
    "colab": {
     "base_uri": "https://localhost:8080/"
    },
    "id": "0Ra1JwK_vRgU",
    "outputId": "77a55d64-5e7e-4b90-c4b6-8be5311537a4"
   },
   "outputs": [],
   "source": [
    "# read excel file\n",
    "validation_imposters_results = pd.read_excel(\n",
    "    '../validation/validation_imposters/results_imposters_test.xlsx')"
   ]
  },
  {
   "cell_type": "code",
   "execution_count": 20,
   "metadata": {
    "ExecuteTime": {
     "end_time": "2023-03-11T11:25:57.574973Z",
     "start_time": "2023-03-11T11:25:57.551974Z"
    },
    "colab": {
     "base_uri": "https://localhost:8080/",
     "height": 204
    },
    "id": "nlYhgSemlrIc",
    "outputId": "865a781c-471a-434c-8ee6-a1bf3f6ac260"
   },
   "outputs": [
    {
     "data": {
      "text/html": [
       "<div>\n",
       "<style scoped>\n",
       "    .dataframe tbody tr th:only-of-type {\n",
       "        vertical-align: middle;\n",
       "    }\n",
       "\n",
       "    .dataframe tbody tr th {\n",
       "        vertical-align: top;\n",
       "    }\n",
       "\n",
       "    .dataframe thead th {\n",
       "        text-align: right;\n",
       "    }\n",
       "</style>\n",
       "<table border=\"1\" class=\"dataframe\">\n",
       "  <thead>\n",
       "    <tr style=\"text-align: right;\">\n",
       "      <th></th>\n",
       "      <th>document</th>\n",
       "      <th>author</th>\n",
       "      <th>attributed_author</th>\n",
       "      <th>result</th>\n",
       "      <th>p1</th>\n",
       "      <th>p2</th>\n",
       "    </tr>\n",
       "  </thead>\n",
       "  <tbody>\n",
       "    <tr>\n",
       "      <th>83</th>\n",
       "      <td>valflac_argon_4.txt</td>\n",
       "      <td>flaccus</td>\n",
       "      <td>flaccus</td>\n",
       "      <td>0.98</td>\n",
       "      <td>0.41</td>\n",
       "      <td>0.57</td>\n",
       "    </tr>\n",
       "    <tr>\n",
       "      <th>84</th>\n",
       "      <td>valflac_argon_5.txt</td>\n",
       "      <td>flaccus</td>\n",
       "      <td>statius</td>\n",
       "      <td>0.75</td>\n",
       "      <td>0.41</td>\n",
       "      <td>0.57</td>\n",
       "    </tr>\n",
       "    <tr>\n",
       "      <th>85</th>\n",
       "      <td>valflac_argon_6.txt</td>\n",
       "      <td>flaccus</td>\n",
       "      <td>flaccus</td>\n",
       "      <td>0.75</td>\n",
       "      <td>0.41</td>\n",
       "      <td>0.57</td>\n",
       "    </tr>\n",
       "    <tr>\n",
       "      <th>86</th>\n",
       "      <td>valflac_argon_7.txt</td>\n",
       "      <td>flaccus</td>\n",
       "      <td>ovid</td>\n",
       "      <td>0.75</td>\n",
       "      <td>0.41</td>\n",
       "      <td>0.57</td>\n",
       "    </tr>\n",
       "    <tr>\n",
       "      <th>87</th>\n",
       "      <td>valflac_argon_8.txt</td>\n",
       "      <td>flaccus</td>\n",
       "      <td>ovid</td>\n",
       "      <td>0.70</td>\n",
       "      <td>0.41</td>\n",
       "      <td>0.57</td>\n",
       "    </tr>\n",
       "  </tbody>\n",
       "</table>\n",
       "</div>"
      ],
      "text/plain": [
       "               document   author attributed_author  result    p1    p2\n",
       "83  valflac_argon_4.txt  flaccus           flaccus    0.98  0.41  0.57\n",
       "84  valflac_argon_5.txt  flaccus           statius    0.75  0.41  0.57\n",
       "85  valflac_argon_6.txt  flaccus           flaccus    0.75  0.41  0.57\n",
       "86  valflac_argon_7.txt  flaccus              ovid    0.75  0.41  0.57\n",
       "87  valflac_argon_8.txt  flaccus              ovid    0.70  0.41  0.57"
      ]
     },
     "execution_count": 20,
     "metadata": {},
     "output_type": "execute_result"
    }
   ],
   "source": [
    "validation_imposters_results.tail()"
   ]
  },
  {
   "cell_type": "code",
   "execution_count": 21,
   "metadata": {
    "ExecuteTime": {
     "end_time": "2023-03-11T11:25:57.746519Z",
     "start_time": "2023-03-11T11:25:57.722762Z"
    },
    "colab": {
     "base_uri": "https://localhost:8080/",
     "height": 419
    },
    "id": "n8id0DmIldTP",
    "outputId": "1cbd68bf-54cc-48ea-8b2e-f39615bd93e4"
   },
   "outputs": [
    {
     "data": {
      "text/html": [
       "<div>\n",
       "<style scoped>\n",
       "    .dataframe tbody tr th:only-of-type {\n",
       "        vertical-align: middle;\n",
       "    }\n",
       "\n",
       "    .dataframe tbody tr th {\n",
       "        vertical-align: top;\n",
       "    }\n",
       "\n",
       "    .dataframe thead th {\n",
       "        text-align: right;\n",
       "    }\n",
       "</style>\n",
       "<table border=\"1\" class=\"dataframe\">\n",
       "  <thead>\n",
       "    <tr style=\"text-align: right;\">\n",
       "      <th></th>\n",
       "      <th>document</th>\n",
       "      <th>author</th>\n",
       "      <th>attributed_author</th>\n",
       "      <th>result</th>\n",
       "      <th>p1</th>\n",
       "      <th>p2</th>\n",
       "    </tr>\n",
       "  </thead>\n",
       "  <tbody>\n",
       "    <tr>\n",
       "      <th>0</th>\n",
       "      <td>luc_phars_1.txt</td>\n",
       "      <td>lucan</td>\n",
       "      <td>lucan</td>\n",
       "      <td>1.00</td>\n",
       "      <td>0.41</td>\n",
       "      <td>0.57</td>\n",
       "    </tr>\n",
       "    <tr>\n",
       "      <th>1</th>\n",
       "      <td>luc_phars_10.txt</td>\n",
       "      <td>lucan</td>\n",
       "      <td>lucan</td>\n",
       "      <td>1.00</td>\n",
       "      <td>0.41</td>\n",
       "      <td>0.57</td>\n",
       "    </tr>\n",
       "    <tr>\n",
       "      <th>2</th>\n",
       "      <td>luc_phars_2.txt</td>\n",
       "      <td>lucan</td>\n",
       "      <td>lucan</td>\n",
       "      <td>1.00</td>\n",
       "      <td>0.41</td>\n",
       "      <td>0.57</td>\n",
       "    </tr>\n",
       "    <tr>\n",
       "      <th>3</th>\n",
       "      <td>luc_phars_3.txt</td>\n",
       "      <td>lucan</td>\n",
       "      <td>lucan</td>\n",
       "      <td>1.00</td>\n",
       "      <td>0.41</td>\n",
       "      <td>0.57</td>\n",
       "    </tr>\n",
       "    <tr>\n",
       "      <th>4</th>\n",
       "      <td>luc_phars_4.txt</td>\n",
       "      <td>lucan</td>\n",
       "      <td>lucan</td>\n",
       "      <td>1.00</td>\n",
       "      <td>0.41</td>\n",
       "      <td>0.57</td>\n",
       "    </tr>\n",
       "    <tr>\n",
       "      <th>...</th>\n",
       "      <td>...</td>\n",
       "      <td>...</td>\n",
       "      <td>...</td>\n",
       "      <td>...</td>\n",
       "      <td>...</td>\n",
       "      <td>...</td>\n",
       "    </tr>\n",
       "    <tr>\n",
       "      <th>83</th>\n",
       "      <td>valflac_argon_4.txt</td>\n",
       "      <td>flaccus</td>\n",
       "      <td>flaccus</td>\n",
       "      <td>0.98</td>\n",
       "      <td>0.41</td>\n",
       "      <td>0.57</td>\n",
       "    </tr>\n",
       "    <tr>\n",
       "      <th>84</th>\n",
       "      <td>valflac_argon_5.txt</td>\n",
       "      <td>flaccus</td>\n",
       "      <td>statius</td>\n",
       "      <td>0.75</td>\n",
       "      <td>0.41</td>\n",
       "      <td>0.57</td>\n",
       "    </tr>\n",
       "    <tr>\n",
       "      <th>85</th>\n",
       "      <td>valflac_argon_6.txt</td>\n",
       "      <td>flaccus</td>\n",
       "      <td>flaccus</td>\n",
       "      <td>0.75</td>\n",
       "      <td>0.41</td>\n",
       "      <td>0.57</td>\n",
       "    </tr>\n",
       "    <tr>\n",
       "      <th>86</th>\n",
       "      <td>valflac_argon_7.txt</td>\n",
       "      <td>flaccus</td>\n",
       "      <td>ovid</td>\n",
       "      <td>0.75</td>\n",
       "      <td>0.41</td>\n",
       "      <td>0.57</td>\n",
       "    </tr>\n",
       "    <tr>\n",
       "      <th>87</th>\n",
       "      <td>valflac_argon_8.txt</td>\n",
       "      <td>flaccus</td>\n",
       "      <td>ovid</td>\n",
       "      <td>0.70</td>\n",
       "      <td>0.41</td>\n",
       "      <td>0.57</td>\n",
       "    </tr>\n",
       "  </tbody>\n",
       "</table>\n",
       "<p>88 rows × 6 columns</p>\n",
       "</div>"
      ],
      "text/plain": [
       "               document   author attributed_author  result    p1    p2\n",
       "0       luc_phars_1.txt    lucan             lucan    1.00  0.41  0.57\n",
       "1      luc_phars_10.txt    lucan             lucan    1.00  0.41  0.57\n",
       "2       luc_phars_2.txt    lucan             lucan    1.00  0.41  0.57\n",
       "3       luc_phars_3.txt    lucan             lucan    1.00  0.41  0.57\n",
       "4       luc_phars_4.txt    lucan             lucan    1.00  0.41  0.57\n",
       "..                  ...      ...               ...     ...   ...   ...\n",
       "83  valflac_argon_4.txt  flaccus           flaccus    0.98  0.41  0.57\n",
       "84  valflac_argon_5.txt  flaccus           statius    0.75  0.41  0.57\n",
       "85  valflac_argon_6.txt  flaccus           flaccus    0.75  0.41  0.57\n",
       "86  valflac_argon_7.txt  flaccus              ovid    0.75  0.41  0.57\n",
       "87  valflac_argon_8.txt  flaccus              ovid    0.70  0.41  0.57\n",
       "\n",
       "[88 rows x 6 columns]"
      ]
     },
     "execution_count": 21,
     "metadata": {},
     "output_type": "execute_result"
    }
   ],
   "source": [
    "# omit the calculations made after the 88th row\n",
    "validation_imposters_results = validation_imposters_results[:88]\n",
    "validation_imposters_results"
   ]
  },
  {
   "cell_type": "code",
   "execution_count": 22,
   "metadata": {
    "ExecuteTime": {
     "end_time": "2023-03-11T11:25:57.896989Z",
     "start_time": "2023-03-11T11:25:57.883950Z"
    },
    "colab": {
     "base_uri": "https://localhost:8080/"
    },
    "id": "hAlezDsa4C-D",
    "outputId": "5ecce6dc-7aa7-47eb-a0e3-98e367764f53"
   },
   "outputs": [
    {
     "data": {
      "text/plain": [
       "['Flaccus',\n",
       " 'Lucan',\n",
       " 'Manilius',\n",
       " 'Ovid',\n",
       " 'Persius',\n",
       " 'Phaedrus',\n",
       " 'Seneca',\n",
       " 'Silius',\n",
       " 'Statius']"
      ]
     },
     "execution_count": 22,
     "metadata": {},
     "output_type": "execute_result"
    }
   ],
   "source": [
    "# the lists of true authors and predicted authors\n",
    "true_authors = validation_imposters_results['author'].str.capitalize()\n",
    "predicted_authors = validation_imposters_results['attributed_author'].str.capitalize(\n",
    ")\n",
    "\n",
    "class_names = sorted(true_authors.unique())\n",
    "class_names"
   ]
  },
  {
   "cell_type": "markdown",
   "metadata": {
    "id": "VWFeCK_Bu7Wz"
   },
   "source": [
    "## Confusion Matrix"
   ]
  },
  {
   "cell_type": "code",
   "execution_count": 29,
   "metadata": {
    "ExecuteTime": {
     "end_time": "2023-03-11T11:27:22.607730Z",
     "start_time": "2023-03-11T11:27:22.597463Z"
    }
   },
   "outputs": [],
   "source": [
    "# set context to talk\n",
    "sns.set_context('talk')"
   ]
  },
  {
   "cell_type": "code",
   "execution_count": 30,
   "metadata": {
    "ExecuteTime": {
     "end_time": "2023-03-11T11:27:23.619455Z",
     "start_time": "2023-03-11T11:27:23.200895Z"
    },
    "colab": {
     "base_uri": "https://localhost:8080/",
     "height": 587
    },
    "id": "jAwcJRtzmE5i",
    "outputId": "f03aaa36-8882-47e4-f306-cf63cc029224"
   },
   "outputs": [
    {
     "data": {
      "image/png": "[encoded data removed]",
      "text/plain": [
       "<Figure size 900x800 with 2 Axes>"
      ]
     },
     "metadata": {},
     "output_type": "display_data"
    }
   ],
   "source": [
    "# Based on https://scikit-learn.org/stable/auto_examples/model_selection/plot_confusion_matrix.html\n",
    "disp = metrics.ConfusionMatrixDisplay.from_predictions(\n",
    "    true_authors, predicted_authors,\n",
    "    cmap=plt.cm.Reds,\n",
    "    xticks_rotation=45,\n",
    "    # normalize=normalize',\n",
    ")\n",
    "disp.ax_.set_title('Confusion matrix (imposters method; 88 texts)')\n",
    "\n",
    "fig = disp.figure_\n",
    "fig.set_figwidth(9)\n",
    "fig.set_figheight(8)\n",
    "\n",
    "# save figure\n",
    "plt.savefig('conf_matrix_eval_imposters_verse_corpus.png')"
   ]
  },
  {
   "cell_type": "code",
   "execution_count": 15,
   "metadata": {
    "ExecuteTime": {
     "end_time": "2023-03-11T11:22:51.522890Z",
     "start_time": "2023-03-11T11:22:51.502458Z"
    },
    "colab": {
     "base_uri": "https://localhost:8080/",
     "height": 359
    },
    "id": "vQkv2EXSna4U",
    "outputId": "22864460-ad17-4588-c4e2-1b38329eb51d"
   },
   "outputs": [
    {
     "data": {
      "text/html": [
       "<div>\n",
       "<style scoped>\n",
       "    .dataframe tbody tr th:only-of-type {\n",
       "        vertical-align: middle;\n",
       "    }\n",
       "\n",
       "    .dataframe tbody tr th {\n",
       "        vertical-align: top;\n",
       "    }\n",
       "\n",
       "    .dataframe thead th {\n",
       "        text-align: right;\n",
       "    }\n",
       "</style>\n",
       "<table border=\"1\" class=\"dataframe\">\n",
       "  <thead>\n",
       "    <tr style=\"text-align: right;\">\n",
       "      <th>attributed_author</th>\n",
       "      <th>Flaccus</th>\n",
       "      <th>Lucan</th>\n",
       "      <th>Manilius</th>\n",
       "      <th>Ovid</th>\n",
       "      <th>Persius</th>\n",
       "      <th>Phaedrus</th>\n",
       "      <th>Seneca</th>\n",
       "      <th>Silius</th>\n",
       "      <th>Statius</th>\n",
       "    </tr>\n",
       "    <tr>\n",
       "      <th>author</th>\n",
       "      <th></th>\n",
       "      <th></th>\n",
       "      <th></th>\n",
       "      <th></th>\n",
       "      <th></th>\n",
       "      <th></th>\n",
       "      <th></th>\n",
       "      <th></th>\n",
       "      <th></th>\n",
       "    </tr>\n",
       "  </thead>\n",
       "  <tbody>\n",
       "    <tr>\n",
       "      <th>Flaccus</th>\n",
       "      <td>4</td>\n",
       "      <td>0</td>\n",
       "      <td>0</td>\n",
       "      <td>2</td>\n",
       "      <td>0</td>\n",
       "      <td>0</td>\n",
       "      <td>0</td>\n",
       "      <td>0</td>\n",
       "      <td>2</td>\n",
       "    </tr>\n",
       "    <tr>\n",
       "      <th>Lucan</th>\n",
       "      <td>0</td>\n",
       "      <td>10</td>\n",
       "      <td>0</td>\n",
       "      <td>0</td>\n",
       "      <td>0</td>\n",
       "      <td>0</td>\n",
       "      <td>0</td>\n",
       "      <td>0</td>\n",
       "      <td>0</td>\n",
       "    </tr>\n",
       "    <tr>\n",
       "      <th>Manilius</th>\n",
       "      <td>0</td>\n",
       "      <td>0</td>\n",
       "      <td>5</td>\n",
       "      <td>0</td>\n",
       "      <td>0</td>\n",
       "      <td>0</td>\n",
       "      <td>0</td>\n",
       "      <td>0</td>\n",
       "      <td>0</td>\n",
       "    </tr>\n",
       "    <tr>\n",
       "      <th>Ovid</th>\n",
       "      <td>0</td>\n",
       "      <td>0</td>\n",
       "      <td>0</td>\n",
       "      <td>10</td>\n",
       "      <td>0</td>\n",
       "      <td>0</td>\n",
       "      <td>0</td>\n",
       "      <td>0</td>\n",
       "      <td>0</td>\n",
       "    </tr>\n",
       "    <tr>\n",
       "      <th>Persius</th>\n",
       "      <td>0</td>\n",
       "      <td>0</td>\n",
       "      <td>0</td>\n",
       "      <td>1</td>\n",
       "      <td>1</td>\n",
       "      <td>0</td>\n",
       "      <td>0</td>\n",
       "      <td>0</td>\n",
       "      <td>4</td>\n",
       "    </tr>\n",
       "    <tr>\n",
       "      <th>Phaedrus</th>\n",
       "      <td>0</td>\n",
       "      <td>0</td>\n",
       "      <td>0</td>\n",
       "      <td>0</td>\n",
       "      <td>0</td>\n",
       "      <td>6</td>\n",
       "      <td>0</td>\n",
       "      <td>0</td>\n",
       "      <td>0</td>\n",
       "    </tr>\n",
       "    <tr>\n",
       "      <th>Seneca</th>\n",
       "      <td>0</td>\n",
       "      <td>0</td>\n",
       "      <td>0</td>\n",
       "      <td>0</td>\n",
       "      <td>0</td>\n",
       "      <td>0</td>\n",
       "      <td>8</td>\n",
       "      <td>0</td>\n",
       "      <td>0</td>\n",
       "    </tr>\n",
       "    <tr>\n",
       "      <th>Silius</th>\n",
       "      <td>0</td>\n",
       "      <td>0</td>\n",
       "      <td>0</td>\n",
       "      <td>0</td>\n",
       "      <td>0</td>\n",
       "      <td>0</td>\n",
       "      <td>0</td>\n",
       "      <td>17</td>\n",
       "      <td>0</td>\n",
       "    </tr>\n",
       "    <tr>\n",
       "      <th>Statius</th>\n",
       "      <td>0</td>\n",
       "      <td>0</td>\n",
       "      <td>0</td>\n",
       "      <td>1</td>\n",
       "      <td>0</td>\n",
       "      <td>0</td>\n",
       "      <td>0</td>\n",
       "      <td>0</td>\n",
       "      <td>17</td>\n",
       "    </tr>\n",
       "  </tbody>\n",
       "</table>\n",
       "</div>"
      ],
      "text/plain": [
       "attributed_author  Flaccus  Lucan  Manilius  Ovid  Persius  Phaedrus  Seneca  \\\n",
       "author                                                                         \n",
       "Flaccus                  4      0         0     2        0         0       0   \n",
       "Lucan                    0     10         0     0        0         0       0   \n",
       "Manilius                 0      0         5     0        0         0       0   \n",
       "Ovid                     0      0         0    10        0         0       0   \n",
       "Persius                  0      0         0     1        1         0       0   \n",
       "Phaedrus                 0      0         0     0        0         6       0   \n",
       "Seneca                   0      0         0     0        0         0       8   \n",
       "Silius                   0      0         0     0        0         0       0   \n",
       "Statius                  0      0         0     1        0         0       0   \n",
       "\n",
       "attributed_author  Silius  Statius  \n",
       "author                              \n",
       "Flaccus                 0        2  \n",
       "Lucan                   0        0  \n",
       "Manilius                0        0  \n",
       "Ovid                    0        0  \n",
       "Persius                 0        4  \n",
       "Phaedrus                0        0  \n",
       "Seneca                  0        0  \n",
       "Silius                 17        0  \n",
       "Statius                 0       17  "
      ]
     },
     "execution_count": 15,
     "metadata": {},
     "output_type": "execute_result"
    }
   ],
   "source": [
    "# Double-check with different method:\n",
    "pd.crosstab(true_authors, predicted_authors)"
   ]
  },
  {
   "cell_type": "markdown",
   "metadata": {
    "id": "0EhPWuUCvzjQ"
   },
   "source": [
    "## Classification scores (accuracy, f-scores)"
   ]
  },
  {
   "cell_type": "code",
   "execution_count": 17,
   "metadata": {
    "ExecuteTime": {
     "end_time": "2023-03-11T11:22:51.660352Z",
     "start_time": "2023-03-11T11:22:51.653334Z"
    },
    "colab": {
     "base_uri": "https://localhost:8080/"
    },
    "id": "HfCeUy745ROj",
    "outputId": "dfe8accf-3535-4ce9-ce3e-afc102bb4765"
   },
   "outputs": [
    {
     "name": "stdout",
     "output_type": "stream",
     "text": [
      "              precision    recall  f1-score   support\n",
      "\n",
      "     Flaccus      1.000     0.500     0.667         8\n",
      "       Lucan      1.000     1.000     1.000        10\n",
      "    Manilius      1.000     1.000     1.000         5\n",
      "        Ovid      0.714     1.000     0.833        10\n",
      "     Persius      1.000     0.167     0.286         6\n",
      "    Phaedrus      1.000     1.000     1.000         6\n",
      "      Seneca      1.000     1.000     1.000         8\n",
      "      Silius      1.000     1.000     1.000        17\n",
      "     Statius      0.739     0.944     0.829        18\n",
      "\n",
      "    accuracy                          0.886        88\n",
      "   macro avg      0.939     0.846     0.846        88\n",
      "weighted avg      0.914     0.886     0.867        88\n",
      "\n"
     ]
    }
   ],
   "source": [
    "print(metrics.classification_report(true_authors,\n",
    "      predicted_authors, zero_division=0, digits=3))"
   ]
  }
 ],
 "metadata": {
  "colab": {
   "provenance": []
  },
  "kernelspec": {
   "display_name": "Python 3 (ipykernel)",
   "language": "python",
   "name": "python3"
  },
  "language_info": {
   "codemirror_mode": {
    "name": "ipython",
    "version": 3
   },
   "file_extension": ".py",
   "mimetype": "text/x-python",
   "name": "python",
   "nbconvert_exporter": "python",
   "pygments_lexer": "ipython3",
   "version": "3.8.2"
  },
  "toc": {
   "base_numbering": 1,
   "nav_menu": {},
   "number_sections": true,
   "sideBar": true,
   "skip_h1_title": false,
   "title_cell": "Table of Contents",
   "title_sidebar": "Contents",
   "toc_cell": false,
   "toc_position": {},
   "toc_section_display": true,
   "toc_window_display": false
  },
  "varInspector": {
   "cols": {
    "lenName": 16,
    "lenType": 16,
    "lenVar": 40
   },
   "kernels_config": {
    "python": {
     "delete_cmd_postfix": "",
     "delete_cmd_prefix": "del ",
     "library": "var_list.py",
     "varRefreshCmd": "print(var_dic_list())"
    },
    "r": {
     "delete_cmd_postfix": ") ",
     "delete_cmd_prefix": "rm(",
     "library": "var_list.r",
     "varRefreshCmd": "cat(var_dic_list()) "
    }
   },
   "types_to_exclude": [
    "module",
    "function",
    "builtin_function_or_method",
    "instance",
    "_Feature"
   ],
   "window_display": false
  }
 },
 "nbformat": 4,
 "nbformat_minor": 1
}

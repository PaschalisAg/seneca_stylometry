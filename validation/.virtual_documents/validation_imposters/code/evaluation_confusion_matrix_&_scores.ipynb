import pandas as pd
import matplotlib.pyplot as plt
from sklearn import metrics
import seaborn as sns
# from google.colab import drive
# drive.mount('/content/drive')


# read excel file imposters 2000 MFCs 4grams
validation_imposters_results_cosine_delta = pd.read_excel(
    "../results/results_imposters_valid_cosine_delta.xlsx")


validation_imposters_results_cosine_delta


# the lists of true authors and predicted authors
true_authors = validation_imposters_results_cosine_delta['author'].str.title()
predicted_authors = validation_imposters_results_cosine_delta[
    'attributed_author'].str.title()

class_names = sorted(true_authors.unique())
class_names





# set context to talk
sns.set_palette('colorblind')


# Based on https://scikit-learn.org/stable/auto_examples/model_selection/plot_confusion_matrix.html
disp = metrics.ConfusionMatrixDisplay.from_predictions(
    true_authors,
    predicted_authors,
    cmap='binary',
    xticks_rotation=45,
    normalize='pred', # pred: positive predictive value (i.e., precision)
)
disp.ax_.set_title('Confusion matrix (imposters method; 88 texts)')
disp.ax_.set(xlabel='Predicted author', ylabel='True author')

fig = disp.figure_
fig.set_figwidth(9)
fig.set_figheight(8)

# save figure
plt.tight_layout()
plt.savefig('../results/conf_matrix_eval_imposters_verse_corpus_cosdelta.pdf', dpi=500)
plt.show()


# Double-check with different method:
pd.crosstab(true_authors, predicted_authors)





print(
    metrics.classification_report(true_authors,
                                  predicted_authors,
                                  zero_division=0,
                                  digits=2))

{
 "cells": [
  {
   "cell_type": "markdown",
   "id": "fd97b24c",
   "metadata": {},
   "source": [
    "# Collection of data\n",
    "## Import libraries"
   ]
  },
  {
   "cell_type": "code",
   "execution_count": 1,
   "id": "e0ee1d60",
   "metadata": {
    "ExecuteTime": {
     "end_time": "2022-11-01T12:25:55.240315Z",
     "start_time": "2022-11-01T12:25:54.708721Z"
    }
   },
   "outputs": [],
   "source": [
    "import pandas as pd\n",
    "import csv\n",
    "import re\n",
    "\n",
    "# process .rtf format documents\n",
    "from striprtf.striprtf import rtf_to_text\n",
    "\n",
    "# process the txt files\n",
    "from glob import glob\n",
    "import os\n",
    "from os.path import basename\n",
    "\n",
    "# checks to the repository of the files\n",
    "from pathlib import Path\n",
    "import cmd"
   ]
  },
  {
   "cell_type": "markdown",
   "id": "7063806a",
   "metadata": {},
   "source": [
    "## Collecting the Seneca's the Younger tragoediae"
   ]
  },
  {
   "cell_type": "markdown",
   "id": "070a478c",
   "metadata": {},
   "source": [
    "The tragedies that are attributed to Seneca the Younger were all scraped using the library [`rperseus`](https://github.com/ropensci/rperseus) created by David Ranzolin.\n",
    "\n",
    "The following query was formulated:\n",
    "```\n",
    "urn <- \"urn:cts:latinLit:phi1017\"\n",
    "seneca <- perseus_catalog %>%\n",
    "    filter(group_name == \"Seneca, Lucius Annaeus (Plays)\",\n",
    "           language == \"lat\") %>% \n",
    "    pull(urn) %>% \n",
    "    map_df(get_perseus_text)`\n",
    "```\n",
    "The query above creates a tibble, which is basically an R-based table with columns and rows. In order to extract this table into a `.csv` format file, so that someone can access it and process it with Pandas using Python, it was reformatted into a `csv` file using the `write.csv` function in R:\n",
    "\n",
    "`write.csv(seneca, \"../raw_text/seneca.csv\")`\n",
    "\n",
    "The texts were all extracted from [Perseus Digital Library](http://www.perseus.tufts.edu/hopper/)."
   ]
  },
  {
   "cell_type": "code",
   "execution_count": 2,
   "id": "a4037c5c",
   "metadata": {
    "ExecuteTime": {
     "end_time": "2022-11-01T12:25:55.297819Z",
     "start_time": "2022-11-01T12:25:55.242282Z"
    }
   },
   "outputs": [
    {
     "data": {
      "text/html": [
       "<div>\n",
       "<style scoped>\n",
       "    .dataframe tbody tr th:only-of-type {\n",
       "        vertical-align: middle;\n",
       "    }\n",
       "\n",
       "    .dataframe tbody tr th {\n",
       "        vertical-align: top;\n",
       "    }\n",
       "\n",
       "    .dataframe thead th {\n",
       "        text-align: right;\n",
       "    }\n",
       "</style>\n",
       "<table border=\"1\" class=\"dataframe\">\n",
       "  <thead>\n",
       "    <tr style=\"text-align: right;\">\n",
       "      <th></th>\n",
       "      <th>text</th>\n",
       "      <th>urn</th>\n",
       "      <th>author</th>\n",
       "      <th>title</th>\n",
       "      <th>description</th>\n",
       "      <th>language</th>\n",
       "      <th>section</th>\n",
       "    </tr>\n",
       "  </thead>\n",
       "  <tbody>\n",
       "    <tr>\n",
       "      <th>1</th>\n",
       "      <td>Inter multos ac varios errores temere inconsul...</td>\n",
       "      <td>urn:cts:latinLit:phi1017.phi013.perseus-lat2</td>\n",
       "      <td>Seneca, Lucius Annaeus (Plays)</td>\n",
       "      <td>de Beneficiis, Moral essays Vol 3</td>\n",
       "      <td>Seneca, Lucius Annaeus, ca. 4 B.C.-65 A.D, cre...</td>\n",
       "      <td>lat</td>\n",
       "      <td>1</td>\n",
       "    </tr>\n",
       "    <tr>\n",
       "      <th>2</th>\n",
       "      <td>Liber II Inspiciamus, Liberalis virorum optime...</td>\n",
       "      <td>urn:cts:latinLit:phi1017.phi013.perseus-lat2</td>\n",
       "      <td>Seneca, Lucius Annaeus (Plays)</td>\n",
       "      <td>de Beneficiis, Moral essays Vol 3</td>\n",
       "      <td>Seneca, Lucius Annaeus, ca. 4 B.C.-65 A.D, cre...</td>\n",
       "      <td>lat</td>\n",
       "      <td>2</td>\n",
       "    </tr>\n",
       "    <tr>\n",
       "      <th>3</th>\n",
       "      <td>Liber III Non referre beneficiis gratiam et es...</td>\n",
       "      <td>urn:cts:latinLit:phi1017.phi013.perseus-lat2</td>\n",
       "      <td>Seneca, Lucius Annaeus (Plays)</td>\n",
       "      <td>de Beneficiis, Moral essays Vol 3</td>\n",
       "      <td>Seneca, Lucius Annaeus, ca. 4 B.C.-65 A.D, cre...</td>\n",
       "      <td>lat</td>\n",
       "      <td>3</td>\n",
       "    </tr>\n",
       "    <tr>\n",
       "      <th>4</th>\n",
       "      <td>Liber IV Ex omnibus, quae tractavimus, Aebuti ...</td>\n",
       "      <td>urn:cts:latinLit:phi1017.phi013.perseus-lat2</td>\n",
       "      <td>Seneca, Lucius Annaeus (Plays)</td>\n",
       "      <td>de Beneficiis, Moral essays Vol 3</td>\n",
       "      <td>Seneca, Lucius Annaeus, ca. 4 B.C.-65 A.D, cre...</td>\n",
       "      <td>lat</td>\n",
       "      <td>4</td>\n",
       "    </tr>\n",
       "    <tr>\n",
       "      <th>5</th>\n",
       "      <td>Liber V In prioribus libris videbar consummass...</td>\n",
       "      <td>urn:cts:latinLit:phi1017.phi013.perseus-lat2</td>\n",
       "      <td>Seneca, Lucius Annaeus (Plays)</td>\n",
       "      <td>de Beneficiis, Moral essays Vol 3</td>\n",
       "      <td>Seneca, Lucius Annaeus, ca. 4 B.C.-65 A.D, cre...</td>\n",
       "      <td>lat</td>\n",
       "      <td>5</td>\n",
       "    </tr>\n",
       "    <tr>\n",
       "      <th>...</th>\n",
       "      <td>...</td>\n",
       "      <td>...</td>\n",
       "      <td>...</td>\n",
       "      <td>...</td>\n",
       "      <td>...</td>\n",
       "      <td>...</td>\n",
       "      <td>...</td>\n",
       "    </tr>\n",
       "    <tr>\n",
       "      <th>1282</th>\n",
       "      <td>Alcm. Quot \"misera in uno condidi natos parens...</td>\n",
       "      <td>urn:cts:latinLit:phi1017.phi009.perseus-lat2</td>\n",
       "      <td>Seneca, Lucius Annaeus (Plays)</td>\n",
       "      <td>Hercules Oetaeus, Tragoediae</td>\n",
       "      <td>Seneca, Lucius Annaeus, ca. 4 B.C.-65 A.D, cre...</td>\n",
       "      <td>lat</td>\n",
       "      <td>149</td>\n",
       "    </tr>\n",
       "    <tr>\n",
       "      <th>1283</th>\n",
       "      <td>Vox Herculis et Alcmena Quid me tenentem regna...</td>\n",
       "      <td>urn:cts:latinLit:phi1017.phi009.perseus-lat2</td>\n",
       "      <td>Seneca, Lucius Annaeus (Plays)</td>\n",
       "      <td>Hercules Oetaeus, Tragoediae</td>\n",
       "      <td>Seneca, Lucius Annaeus, ca. 4 B.C.-65 A.D, cre...</td>\n",
       "      <td>lat</td>\n",
       "      <td>150</td>\n",
       "    </tr>\n",
       "    <tr>\n",
       "      <th>1284</th>\n",
       "      <td>Alcm. Vnde, unde sonus trepidas aures ferit? u...</td>\n",
       "      <td>urn:cts:latinLit:phi1017.phi009.perseus-lat2</td>\n",
       "      <td>Seneca, Lucius Annaeus (Plays)</td>\n",
       "      <td>Hercules Oetaeus, Tragoediae</td>\n",
       "      <td>Seneca, Lucius Annaeus, ca. 4 B.C.-65 A.D, cre...</td>\n",
       "      <td>lat</td>\n",
       "      <td>151</td>\n",
       "    </tr>\n",
       "    <tr>\n",
       "      <th>1285</th>\n",
       "      <td>Alcm. Mane parumper, cessit, ex oculis, abit, ...</td>\n",
       "      <td>urn:cts:latinLit:phi1017.phi009.perseus-lat2</td>\n",
       "      <td>Seneca, Lucius Annaeus (Plays)</td>\n",
       "      <td>Hercules Oetaeus, Tragoediae</td>\n",
       "      <td>Seneca, Lucius Annaeus, ca. 4 B.C.-65 A.D, cre...</td>\n",
       "      <td>lat</td>\n",
       "      <td>152</td>\n",
       "    </tr>\n",
       "    <tr>\n",
       "      <th>1286</th>\n",
       "      <td>Chorus Numquam Stygias fertur ad umbras inclit...</td>\n",
       "      <td>urn:cts:latinLit:phi1017.phi009.perseus-lat2</td>\n",
       "      <td>Seneca, Lucius Annaeus (Plays)</td>\n",
       "      <td>Hercules Oetaeus, Tragoediae</td>\n",
       "      <td>Seneca, Lucius Annaeus, ca. 4 B.C.-65 A.D, cre...</td>\n",
       "      <td>lat</td>\n",
       "      <td>153</td>\n",
       "    </tr>\n",
       "  </tbody>\n",
       "</table>\n",
       "<p>1286 rows × 7 columns</p>\n",
       "</div>"
      ],
      "text/plain": [
       "                                                   text  \\\n",
       "1     Inter multos ac varios errores temere inconsul...   \n",
       "2     Liber II Inspiciamus, Liberalis virorum optime...   \n",
       "3     Liber III Non referre beneficiis gratiam et es...   \n",
       "4     Liber IV Ex omnibus, quae tractavimus, Aebuti ...   \n",
       "5     Liber V In prioribus libris videbar consummass...   \n",
       "...                                                 ...   \n",
       "1282  Alcm. Quot \"misera in uno condidi natos parens...   \n",
       "1283  Vox Herculis et Alcmena Quid me tenentem regna...   \n",
       "1284  Alcm. Vnde, unde sonus trepidas aures ferit? u...   \n",
       "1285  Alcm. Mane parumper, cessit, ex oculis, abit, ...   \n",
       "1286  Chorus Numquam Stygias fertur ad umbras inclit...   \n",
       "\n",
       "                                               urn  \\\n",
       "1     urn:cts:latinLit:phi1017.phi013.perseus-lat2   \n",
       "2     urn:cts:latinLit:phi1017.phi013.perseus-lat2   \n",
       "3     urn:cts:latinLit:phi1017.phi013.perseus-lat2   \n",
       "4     urn:cts:latinLit:phi1017.phi013.perseus-lat2   \n",
       "5     urn:cts:latinLit:phi1017.phi013.perseus-lat2   \n",
       "...                                            ...   \n",
       "1282  urn:cts:latinLit:phi1017.phi009.perseus-lat2   \n",
       "1283  urn:cts:latinLit:phi1017.phi009.perseus-lat2   \n",
       "1284  urn:cts:latinLit:phi1017.phi009.perseus-lat2   \n",
       "1285  urn:cts:latinLit:phi1017.phi009.perseus-lat2   \n",
       "1286  urn:cts:latinLit:phi1017.phi009.perseus-lat2   \n",
       "\n",
       "                              author                              title  \\\n",
       "1     Seneca, Lucius Annaeus (Plays)  de Beneficiis, Moral essays Vol 3   \n",
       "2     Seneca, Lucius Annaeus (Plays)  de Beneficiis, Moral essays Vol 3   \n",
       "3     Seneca, Lucius Annaeus (Plays)  de Beneficiis, Moral essays Vol 3   \n",
       "4     Seneca, Lucius Annaeus (Plays)  de Beneficiis, Moral essays Vol 3   \n",
       "5     Seneca, Lucius Annaeus (Plays)  de Beneficiis, Moral essays Vol 3   \n",
       "...                              ...                                ...   \n",
       "1282  Seneca, Lucius Annaeus (Plays)       Hercules Oetaeus, Tragoediae   \n",
       "1283  Seneca, Lucius Annaeus (Plays)       Hercules Oetaeus, Tragoediae   \n",
       "1284  Seneca, Lucius Annaeus (Plays)       Hercules Oetaeus, Tragoediae   \n",
       "1285  Seneca, Lucius Annaeus (Plays)       Hercules Oetaeus, Tragoediae   \n",
       "1286  Seneca, Lucius Annaeus (Plays)       Hercules Oetaeus, Tragoediae   \n",
       "\n",
       "                                            description language  section  \n",
       "1     Seneca, Lucius Annaeus, ca. 4 B.C.-65 A.D, cre...      lat        1  \n",
       "2     Seneca, Lucius Annaeus, ca. 4 B.C.-65 A.D, cre...      lat        2  \n",
       "3     Seneca, Lucius Annaeus, ca. 4 B.C.-65 A.D, cre...      lat        3  \n",
       "4     Seneca, Lucius Annaeus, ca. 4 B.C.-65 A.D, cre...      lat        4  \n",
       "5     Seneca, Lucius Annaeus, ca. 4 B.C.-65 A.D, cre...      lat        5  \n",
       "...                                                 ...      ...      ...  \n",
       "1282  Seneca, Lucius Annaeus, ca. 4 B.C.-65 A.D, cre...      lat      149  \n",
       "1283  Seneca, Lucius Annaeus, ca. 4 B.C.-65 A.D, cre...      lat      150  \n",
       "1284  Seneca, Lucius Annaeus, ca. 4 B.C.-65 A.D, cre...      lat      151  \n",
       "1285  Seneca, Lucius Annaeus, ca. 4 B.C.-65 A.D, cre...      lat      152  \n",
       "1286  Seneca, Lucius Annaeus, ca. 4 B.C.-65 A.D, cre...      lat      153  \n",
       "\n",
       "[1286 rows x 7 columns]"
      ]
     },
     "execution_count": 2,
     "metadata": {},
     "output_type": "execute_result"
    }
   ],
   "source": [
    "seneca_df = pd.read_csv(\"../raw_text/seneca.csv\", index_col=0).rename(\n",
    "    columns={\"label\": \"title\", \"group_name\": \"author\"})\n",
    "seneca_df"
   ]
  },
  {
   "cell_type": "code",
   "execution_count": 3,
   "id": "c9ab48fb",
   "metadata": {
    "ExecuteTime": {
     "end_time": "2022-11-01T12:25:55.312949Z",
     "start_time": "2022-11-01T12:25:55.299476Z"
    }
   },
   "outputs": [
    {
     "data": {
      "text/html": [
       "<div>\n",
       "<style scoped>\n",
       "    .dataframe tbody tr th:only-of-type {\n",
       "        vertical-align: middle;\n",
       "    }\n",
       "\n",
       "    .dataframe tbody tr th {\n",
       "        vertical-align: top;\n",
       "    }\n",
       "\n",
       "    .dataframe thead th {\n",
       "        text-align: right;\n",
       "    }\n",
       "</style>\n",
       "<table border=\"1\" class=\"dataframe\">\n",
       "  <thead>\n",
       "    <tr style=\"text-align: right;\">\n",
       "      <th></th>\n",
       "      <th>text</th>\n",
       "      <th>urn</th>\n",
       "      <th>author</th>\n",
       "      <th>title</th>\n",
       "      <th>description</th>\n",
       "      <th>language</th>\n",
       "      <th>section</th>\n",
       "    </tr>\n",
       "  </thead>\n",
       "  <tbody>\n",
       "    <tr>\n",
       "      <th>20</th>\n",
       "      <td>Iam nocte Titan dubius expulsa redit et nube m...</td>\n",
       "      <td>urn:cts:latinLit:phi1017.phi006.perseus-lat2</td>\n",
       "      <td>Seneca, Lucius Annaeus (Plays)</td>\n",
       "      <td>Oedipus, Tragoediae</td>\n",
       "      <td>Seneca, Lucius Annaeus, ca. 4 B.C.-65 A.D, cre...</td>\n",
       "      <td>lat</td>\n",
       "      <td>1</td>\n",
       "    </tr>\n",
       "    <tr>\n",
       "      <th>21</th>\n",
       "      <td>Ioc. Quid iuvat, coniunx, mala gravare questu?...</td>\n",
       "      <td>urn:cts:latinLit:phi1017.phi006.perseus-lat2</td>\n",
       "      <td>Seneca, Lucius Annaeus (Plays)</td>\n",
       "      <td>Oedipus, Tragoediae</td>\n",
       "      <td>Seneca, Lucius Annaeus, ca. 4 B.C.-65 A.D, cre...</td>\n",
       "      <td>lat</td>\n",
       "      <td>2</td>\n",
       "    </tr>\n",
       "    <tr>\n",
       "      <th>22</th>\n",
       "      <td>Oed. Abest pavoris crimen ac probrum procul, v...</td>\n",
       "      <td>urn:cts:latinLit:phi1017.phi006.perseus-lat2</td>\n",
       "      <td>Seneca, Lucius Annaeus (Plays)</td>\n",
       "      <td>Oedipus, Tragoediae</td>\n",
       "      <td>Seneca, Lucius Annaeus, ca. 4 B.C.-65 A.D, cre...</td>\n",
       "      <td>lat</td>\n",
       "      <td>3</td>\n",
       "    </tr>\n",
       "    <tr>\n",
       "      <th>23</th>\n",
       "      <td>Ioc. Quid sera mortis vota nunc demens facis? ...</td>\n",
       "      <td>urn:cts:latinLit:phi1017.phi006.perseus-lat2</td>\n",
       "      <td>Seneca, Lucius Annaeus (Plays)</td>\n",
       "      <td>Oedipus, Tragoediae</td>\n",
       "      <td>Seneca, Lucius Annaeus, ca. 4 B.C.-65 A.D, cre...</td>\n",
       "      <td>lat</td>\n",
       "      <td>4</td>\n",
       "    </tr>\n",
       "    <tr>\n",
       "      <th>24</th>\n",
       "      <td>Oed. Ille, ille dirus callidi monstri cinis in...</td>\n",
       "      <td>urn:cts:latinLit:phi1017.phi006.perseus-lat2</td>\n",
       "      <td>Seneca, Lucius Annaeus (Plays)</td>\n",
       "      <td>Oedipus, Tragoediae</td>\n",
       "      <td>Seneca, Lucius Annaeus, ca. 4 B.C.-65 A.D, cre...</td>\n",
       "      <td>lat</td>\n",
       "      <td>5</td>\n",
       "    </tr>\n",
       "    <tr>\n",
       "      <th>...</th>\n",
       "      <td>...</td>\n",
       "      <td>...</td>\n",
       "      <td>...</td>\n",
       "      <td>...</td>\n",
       "      <td>...</td>\n",
       "      <td>...</td>\n",
       "      <td>...</td>\n",
       "    </tr>\n",
       "    <tr>\n",
       "      <th>1282</th>\n",
       "      <td>Alcm. Quot \"misera in uno condidi natos parens...</td>\n",
       "      <td>urn:cts:latinLit:phi1017.phi009.perseus-lat2</td>\n",
       "      <td>Seneca, Lucius Annaeus (Plays)</td>\n",
       "      <td>Hercules Oetaeus, Tragoediae</td>\n",
       "      <td>Seneca, Lucius Annaeus, ca. 4 B.C.-65 A.D, cre...</td>\n",
       "      <td>lat</td>\n",
       "      <td>149</td>\n",
       "    </tr>\n",
       "    <tr>\n",
       "      <th>1283</th>\n",
       "      <td>Vox Herculis et Alcmena Quid me tenentem regna...</td>\n",
       "      <td>urn:cts:latinLit:phi1017.phi009.perseus-lat2</td>\n",
       "      <td>Seneca, Lucius Annaeus (Plays)</td>\n",
       "      <td>Hercules Oetaeus, Tragoediae</td>\n",
       "      <td>Seneca, Lucius Annaeus, ca. 4 B.C.-65 A.D, cre...</td>\n",
       "      <td>lat</td>\n",
       "      <td>150</td>\n",
       "    </tr>\n",
       "    <tr>\n",
       "      <th>1284</th>\n",
       "      <td>Alcm. Vnde, unde sonus trepidas aures ferit? u...</td>\n",
       "      <td>urn:cts:latinLit:phi1017.phi009.perseus-lat2</td>\n",
       "      <td>Seneca, Lucius Annaeus (Plays)</td>\n",
       "      <td>Hercules Oetaeus, Tragoediae</td>\n",
       "      <td>Seneca, Lucius Annaeus, ca. 4 B.C.-65 A.D, cre...</td>\n",
       "      <td>lat</td>\n",
       "      <td>151</td>\n",
       "    </tr>\n",
       "    <tr>\n",
       "      <th>1285</th>\n",
       "      <td>Alcm. Mane parumper, cessit, ex oculis, abit, ...</td>\n",
       "      <td>urn:cts:latinLit:phi1017.phi009.perseus-lat2</td>\n",
       "      <td>Seneca, Lucius Annaeus (Plays)</td>\n",
       "      <td>Hercules Oetaeus, Tragoediae</td>\n",
       "      <td>Seneca, Lucius Annaeus, ca. 4 B.C.-65 A.D, cre...</td>\n",
       "      <td>lat</td>\n",
       "      <td>152</td>\n",
       "    </tr>\n",
       "    <tr>\n",
       "      <th>1286</th>\n",
       "      <td>Chorus Numquam Stygias fertur ad umbras inclit...</td>\n",
       "      <td>urn:cts:latinLit:phi1017.phi009.perseus-lat2</td>\n",
       "      <td>Seneca, Lucius Annaeus (Plays)</td>\n",
       "      <td>Hercules Oetaeus, Tragoediae</td>\n",
       "      <td>Seneca, Lucius Annaeus, ca. 4 B.C.-65 A.D, cre...</td>\n",
       "      <td>lat</td>\n",
       "      <td>153</td>\n",
       "    </tr>\n",
       "  </tbody>\n",
       "</table>\n",
       "<p>1265 rows × 7 columns</p>\n",
       "</div>"
      ],
      "text/plain": [
       "                                                   text  \\\n",
       "20    Iam nocte Titan dubius expulsa redit et nube m...   \n",
       "21    Ioc. Quid iuvat, coniunx, mala gravare questu?...   \n",
       "22    Oed. Abest pavoris crimen ac probrum procul, v...   \n",
       "23    Ioc. Quid sera mortis vota nunc demens facis? ...   \n",
       "24    Oed. Ille, ille dirus callidi monstri cinis in...   \n",
       "...                                                 ...   \n",
       "1282  Alcm. Quot \"misera in uno condidi natos parens...   \n",
       "1283  Vox Herculis et Alcmena Quid me tenentem regna...   \n",
       "1284  Alcm. Vnde, unde sonus trepidas aures ferit? u...   \n",
       "1285  Alcm. Mane parumper, cessit, ex oculis, abit, ...   \n",
       "1286  Chorus Numquam Stygias fertur ad umbras inclit...   \n",
       "\n",
       "                                               urn  \\\n",
       "20    urn:cts:latinLit:phi1017.phi006.perseus-lat2   \n",
       "21    urn:cts:latinLit:phi1017.phi006.perseus-lat2   \n",
       "22    urn:cts:latinLit:phi1017.phi006.perseus-lat2   \n",
       "23    urn:cts:latinLit:phi1017.phi006.perseus-lat2   \n",
       "24    urn:cts:latinLit:phi1017.phi006.perseus-lat2   \n",
       "...                                            ...   \n",
       "1282  urn:cts:latinLit:phi1017.phi009.perseus-lat2   \n",
       "1283  urn:cts:latinLit:phi1017.phi009.perseus-lat2   \n",
       "1284  urn:cts:latinLit:phi1017.phi009.perseus-lat2   \n",
       "1285  urn:cts:latinLit:phi1017.phi009.perseus-lat2   \n",
       "1286  urn:cts:latinLit:phi1017.phi009.perseus-lat2   \n",
       "\n",
       "                              author                         title  \\\n",
       "20    Seneca, Lucius Annaeus (Plays)           Oedipus, Tragoediae   \n",
       "21    Seneca, Lucius Annaeus (Plays)           Oedipus, Tragoediae   \n",
       "22    Seneca, Lucius Annaeus (Plays)           Oedipus, Tragoediae   \n",
       "23    Seneca, Lucius Annaeus (Plays)           Oedipus, Tragoediae   \n",
       "24    Seneca, Lucius Annaeus (Plays)           Oedipus, Tragoediae   \n",
       "...                              ...                           ...   \n",
       "1282  Seneca, Lucius Annaeus (Plays)  Hercules Oetaeus, Tragoediae   \n",
       "1283  Seneca, Lucius Annaeus (Plays)  Hercules Oetaeus, Tragoediae   \n",
       "1284  Seneca, Lucius Annaeus (Plays)  Hercules Oetaeus, Tragoediae   \n",
       "1285  Seneca, Lucius Annaeus (Plays)  Hercules Oetaeus, Tragoediae   \n",
       "1286  Seneca, Lucius Annaeus (Plays)  Hercules Oetaeus, Tragoediae   \n",
       "\n",
       "                                            description language  section  \n",
       "20    Seneca, Lucius Annaeus, ca. 4 B.C.-65 A.D, cre...      lat        1  \n",
       "21    Seneca, Lucius Annaeus, ca. 4 B.C.-65 A.D, cre...      lat        2  \n",
       "22    Seneca, Lucius Annaeus, ca. 4 B.C.-65 A.D, cre...      lat        3  \n",
       "23    Seneca, Lucius Annaeus, ca. 4 B.C.-65 A.D, cre...      lat        4  \n",
       "24    Seneca, Lucius Annaeus, ca. 4 B.C.-65 A.D, cre...      lat        5  \n",
       "...                                                 ...      ...      ...  \n",
       "1282  Seneca, Lucius Annaeus, ca. 4 B.C.-65 A.D, cre...      lat      149  \n",
       "1283  Seneca, Lucius Annaeus, ca. 4 B.C.-65 A.D, cre...      lat      150  \n",
       "1284  Seneca, Lucius Annaeus, ca. 4 B.C.-65 A.D, cre...      lat      151  \n",
       "1285  Seneca, Lucius Annaeus, ca. 4 B.C.-65 A.D, cre...      lat      152  \n",
       "1286  Seneca, Lucius Annaeus, ca. 4 B.C.-65 A.D, cre...      lat      153  \n",
       "\n",
       "[1265 rows x 7 columns]"
      ]
     },
     "execution_count": 3,
     "metadata": {},
     "output_type": "execute_result"
    }
   ],
   "source": [
    "# seneca_tragoediae = seneca_df.loc[seneca_df[\"label\"].str.contains(\"Tragoediae\", case = False)]\n",
    "# case = False : just in case there is the word \"Tragoediae\" written in a different way\n",
    "\n",
    "seneca_tragoediae = seneca_df.loc[seneca_df['title'].str.contains(\"Tragoediae\",\n",
    "                                                                  case=False)]\n",
    "seneca_tragoediae"
   ]
  },
  {
   "cell_type": "code",
   "execution_count": 4,
   "id": "d86c2d29",
   "metadata": {
    "ExecuteTime": {
     "end_time": "2022-11-01T12:25:55.330946Z",
     "start_time": "2022-11-01T12:25:55.316064Z"
    }
   },
   "outputs": [],
   "source": [
    "seneca_df = seneca_tragoediae.groupby(['author', 'title', 'urn', 'language'])[\n",
    "    'text'].apply('\\n'.join).reset_index()"
   ]
  },
  {
   "cell_type": "code",
   "execution_count": 5,
   "id": "6e4664a4",
   "metadata": {
    "ExecuteTime": {
     "end_time": "2022-11-01T12:25:55.347418Z",
     "start_time": "2022-11-01T12:25:55.332433Z"
    }
   },
   "outputs": [
    {
     "data": {
      "text/html": [
       "<div>\n",
       "<style scoped>\n",
       "    .dataframe tbody tr th:only-of-type {\n",
       "        vertical-align: middle;\n",
       "    }\n",
       "\n",
       "    .dataframe tbody tr th {\n",
       "        vertical-align: top;\n",
       "    }\n",
       "\n",
       "    .dataframe thead th {\n",
       "        text-align: right;\n",
       "    }\n",
       "</style>\n",
       "<table border=\"1\" class=\"dataframe\">\n",
       "  <thead>\n",
       "    <tr style=\"text-align: right;\">\n",
       "      <th></th>\n",
       "      <th>author</th>\n",
       "      <th>title</th>\n",
       "      <th>genre</th>\n",
       "      <th>urn</th>\n",
       "      <th>language</th>\n",
       "      <th>text</th>\n",
       "    </tr>\n",
       "  </thead>\n",
       "  <tbody>\n",
       "    <tr>\n",
       "      <th>0</th>\n",
       "      <td>Seneca, Lucius Annaeus (Plays)</td>\n",
       "      <td>Agamemnon</td>\n",
       "      <td>Tragoediae</td>\n",
       "      <td>urn:cts:latinLit:phi1017.phi007.perseus-lat2</td>\n",
       "      <td>lat</td>\n",
       "      <td>Opaca linquens Ditis inferni loca adsum profun...</td>\n",
       "    </tr>\n",
       "    <tr>\n",
       "      <th>1</th>\n",
       "      <td>Seneca, Lucius Annaeus (Plays)</td>\n",
       "      <td>Hercules Furens</td>\n",
       "      <td>Tragoediae</td>\n",
       "      <td>urn:cts:latinLit:phi1017.phi001.perseus-lat2</td>\n",
       "      <td>lat</td>\n",
       "      <td>Soror Tonantis (hoc enim solum mihi nomen reli...</td>\n",
       "    </tr>\n",
       "    <tr>\n",
       "      <th>2</th>\n",
       "      <td>Seneca, Lucius Annaeus (Plays)</td>\n",
       "      <td>Hercules Oetaeus</td>\n",
       "      <td>Tragoediae</td>\n",
       "      <td>urn:cts:latinLit:phi1017.phi009.perseus-lat2</td>\n",
       "      <td>lat</td>\n",
       "      <td>Sator deorum, cuius excussum manu utraeque Pho...</td>\n",
       "    </tr>\n",
       "    <tr>\n",
       "      <th>3</th>\n",
       "      <td>Seneca, Lucius Annaeus (Plays)</td>\n",
       "      <td>Medea</td>\n",
       "      <td>Tragoediae</td>\n",
       "      <td>urn:cts:latinLit:phi1017.phi004.perseus-lat2</td>\n",
       "      <td>lat</td>\n",
       "      <td>Di coniugales tuque genialis tori, Lucina, cus...</td>\n",
       "    </tr>\n",
       "    <tr>\n",
       "      <th>4</th>\n",
       "      <td>Seneca, Lucius Annaeus (Plays)</td>\n",
       "      <td>Octavia</td>\n",
       "      <td>Tragoediae</td>\n",
       "      <td>urn:cts:latinLit:phi1017.phi010.perseus-lat2</td>\n",
       "      <td>lat</td>\n",
       "      <td>Iam vaga caelo sidera fulgens Aurora fugat. su...</td>\n",
       "    </tr>\n",
       "    <tr>\n",
       "      <th>5</th>\n",
       "      <td>Seneca, Lucius Annaeus (Plays)</td>\n",
       "      <td>Oedipus</td>\n",
       "      <td>Tragoediae</td>\n",
       "      <td>urn:cts:latinLit:phi1017.phi006.perseus-lat2</td>\n",
       "      <td>lat</td>\n",
       "      <td>Iam nocte Titan dubius expulsa redit et nube m...</td>\n",
       "    </tr>\n",
       "    <tr>\n",
       "      <th>6</th>\n",
       "      <td>Seneca, Lucius Annaeus (Plays)</td>\n",
       "      <td>Phaedra</td>\n",
       "      <td>Tragoediae</td>\n",
       "      <td>urn:cts:latinLit:phi1017.phi005.perseus-lat2</td>\n",
       "      <td>lat</td>\n",
       "      <td>Ite, umbrosas cingite silvas summaque montis i...</td>\n",
       "    </tr>\n",
       "    <tr>\n",
       "      <th>7</th>\n",
       "      <td>Seneca, Lucius Annaeus (Plays)</td>\n",
       "      <td>Phoenissae</td>\n",
       "      <td>Tragoediae</td>\n",
       "      <td>urn:cts:latinLit:phi1017.phi003.perseus-lat2</td>\n",
       "      <td>lat</td>\n",
       "      <td>Caeci parentis regimen et fessi unicum lateris...</td>\n",
       "    </tr>\n",
       "    <tr>\n",
       "      <th>8</th>\n",
       "      <td>Seneca, Lucius Annaeus (Plays)</td>\n",
       "      <td>Thyestes</td>\n",
       "      <td>Tragoediae</td>\n",
       "      <td>urn:cts:latinLit:phi1017.phi008.perseus-lat2</td>\n",
       "      <td>lat</td>\n",
       "      <td>Quis inferorum sede ab infausta extrahit avido...</td>\n",
       "    </tr>\n",
       "    <tr>\n",
       "      <th>9</th>\n",
       "      <td>Seneca, Lucius Annaeus (Plays)</td>\n",
       "      <td>Troades Furens</td>\n",
       "      <td>Tragoediae</td>\n",
       "      <td>urn:cts:latinLit:phi1017.phi002.perseus-lat2</td>\n",
       "      <td>lat</td>\n",
       "      <td>Quicumque regno fidit et magna potens dominatu...</td>\n",
       "    </tr>\n",
       "  </tbody>\n",
       "</table>\n",
       "</div>"
      ],
      "text/plain": [
       "                           author             title        genre  \\\n",
       "0  Seneca, Lucius Annaeus (Plays)         Agamemnon   Tragoediae   \n",
       "1  Seneca, Lucius Annaeus (Plays)   Hercules Furens   Tragoediae   \n",
       "2  Seneca, Lucius Annaeus (Plays)  Hercules Oetaeus   Tragoediae   \n",
       "3  Seneca, Lucius Annaeus (Plays)             Medea   Tragoediae   \n",
       "4  Seneca, Lucius Annaeus (Plays)           Octavia   Tragoediae   \n",
       "5  Seneca, Lucius Annaeus (Plays)           Oedipus   Tragoediae   \n",
       "6  Seneca, Lucius Annaeus (Plays)           Phaedra   Tragoediae   \n",
       "7  Seneca, Lucius Annaeus (Plays)        Phoenissae   Tragoediae   \n",
       "8  Seneca, Lucius Annaeus (Plays)          Thyestes   Tragoediae   \n",
       "9  Seneca, Lucius Annaeus (Plays)    Troades Furens   Tragoediae   \n",
       "\n",
       "                                            urn language  \\\n",
       "0  urn:cts:latinLit:phi1017.phi007.perseus-lat2      lat   \n",
       "1  urn:cts:latinLit:phi1017.phi001.perseus-lat2      lat   \n",
       "2  urn:cts:latinLit:phi1017.phi009.perseus-lat2      lat   \n",
       "3  urn:cts:latinLit:phi1017.phi004.perseus-lat2      lat   \n",
       "4  urn:cts:latinLit:phi1017.phi010.perseus-lat2      lat   \n",
       "5  urn:cts:latinLit:phi1017.phi006.perseus-lat2      lat   \n",
       "6  urn:cts:latinLit:phi1017.phi005.perseus-lat2      lat   \n",
       "7  urn:cts:latinLit:phi1017.phi003.perseus-lat2      lat   \n",
       "8  urn:cts:latinLit:phi1017.phi008.perseus-lat2      lat   \n",
       "9  urn:cts:latinLit:phi1017.phi002.perseus-lat2      lat   \n",
       "\n",
       "                                                text  \n",
       "0  Opaca linquens Ditis inferni loca adsum profun...  \n",
       "1  Soror Tonantis (hoc enim solum mihi nomen reli...  \n",
       "2  Sator deorum, cuius excussum manu utraeque Pho...  \n",
       "3  Di coniugales tuque genialis tori, Lucina, cus...  \n",
       "4  Iam vaga caelo sidera fulgens Aurora fugat. su...  \n",
       "5  Iam nocte Titan dubius expulsa redit et nube m...  \n",
       "6  Ite, umbrosas cingite silvas summaque montis i...  \n",
       "7  Caeci parentis regimen et fessi unicum lateris...  \n",
       "8  Quis inferorum sede ab infausta extrahit avido...  \n",
       "9  Quicumque regno fidit et magna potens dominatu...  "
      ]
     },
     "execution_count": 5,
     "metadata": {},
     "output_type": "execute_result"
    }
   ],
   "source": [
    "# split the title and the genre to two different columns\n",
    "# expand=True in order to break up the lists\n",
    "\n",
    "title_genre = seneca_df['title'].str.split(pat=',', expand=True)\n",
    "seneca_df[['title', 'genre']] = title_genre\n",
    "\n",
    "# reorder the columns\n",
    "seneca_df = seneca_df.reindex(\n",
    "    columns=['author', 'title', 'genre', 'urn', 'language', 'text'])\n",
    "seneca_df"
   ]
  },
  {
   "cell_type": "code",
   "execution_count": 6,
   "id": "f2706a33",
   "metadata": {
    "ExecuteTime": {
     "end_time": "2022-11-01T12:25:55.351821Z",
     "start_time": "2022-11-01T12:25:55.349526Z"
    }
   },
   "outputs": [],
   "source": [
    "# uncomment and run the following command only if you want to store locally in your computer the dataframe above\n",
    "# seneca_df.to_csv(\"seneca_tragoediae.csv\", encoding='utf-8')"
   ]
  },
  {
   "cell_type": "code",
   "execution_count": 7,
   "id": "c34a0db3",
   "metadata": {
    "ExecuteTime": {
     "end_time": "2022-11-01T12:25:55.358748Z",
     "start_time": "2022-11-01T12:25:55.353482Z"
    }
   },
   "outputs": [
    {
     "data": {
      "text/plain": [
       "0     agam\n",
       "1     herf\n",
       "2     hero\n",
       "3     mede\n",
       "4     octa\n",
       "5     oedi\n",
       "6    phaed\n",
       "7     phoe\n",
       "8     thye\n",
       "9     troa\n",
       "dtype: object"
      ]
     },
     "execution_count": 7,
     "metadata": {},
     "output_type": "execute_result"
    }
   ],
   "source": [
    "abbr_titles_list = ['agam', 'herf', 'hero',\n",
    "                    'mede', 'octa', 'oedi',\n",
    "                    'phaed', 'phoe', 'thye', 'troa']\n",
    "abbr_titles = pd.Series(abbr_titles_list)\n",
    "abbr_titles"
   ]
  },
  {
   "cell_type": "code",
   "execution_count": 8,
   "id": "8b11bc35",
   "metadata": {
    "ExecuteTime": {
     "end_time": "2022-11-01T12:25:55.364354Z",
     "start_time": "2022-11-01T12:25:55.360470Z"
    }
   },
   "outputs": [],
   "source": [
    "texts_abbr_titles = pd.concat([seneca_df['text'], abbr_titles],\n",
    "                              axis=1).rename(columns={0: \"abbreviated_title\"})\n",
    "# texts_abbr_titles"
   ]
  },
  {
   "cell_type": "code",
   "execution_count": 9,
   "id": "1b3607ef",
   "metadata": {
    "ExecuteTime": {
     "end_time": "2022-11-01T12:25:55.368974Z",
     "start_time": "2022-11-01T12:25:55.366038Z"
    }
   },
   "outputs": [],
   "source": [
    "def check_path_exist(pathname):\n",
    "    Exist = os.path.exists(pathname)\n",
    "    if not Exist:\n",
    "        # create a new directory since it does not exist\n",
    "        os.makedirs(pathname)\n",
    "        print(\"The new directory was created successfully!\")\n",
    "    else:\n",
    "        print(\"Directory already exists!\")"
   ]
  },
  {
   "cell_type": "code",
   "execution_count": 10,
   "id": "f62d54da",
   "metadata": {
    "ExecuteTime": {
     "end_time": "2022-11-01T12:25:55.376148Z",
     "start_time": "2022-11-01T12:25:55.373337Z"
    }
   },
   "outputs": [
    {
     "name": "stdout",
     "output_type": "stream",
     "text": [
      "Directory already exists!\n"
     ]
    }
   ],
   "source": [
    "pathname = \"../data/corpus/\"\n",
    "check_path_exist(pathname)"
   ]
  },
  {
   "cell_type": "code",
   "execution_count": 11,
   "id": "3794eb6d",
   "metadata": {
    "ExecuteTime": {
     "end_time": "2022-11-01T12:25:55.418446Z",
     "start_time": "2022-11-01T12:25:55.377464Z"
    }
   },
   "outputs": [],
   "source": [
    "path = \"../data/corpus/\"\n",
    "\n",
    "n = 1\n",
    "for text, title in zip(texts_abbr_titles[\"text\"],\n",
    "                       texts_abbr_titles[\"abbreviated_title\"]):\n",
    "    author = \"seneca\"\n",
    "    filename = f\"{author}_{title}{n}.txt\"\n",
    "    with open(path + filename, \"w\", encoding='utf-8') as inp:\n",
    "        n += 1\n",
    "        inp.writelines(str(text))"
   ]
  },
  {
   "cell_type": "code",
   "execution_count": 12,
   "id": "f43bdad3",
   "metadata": {
    "ExecuteTime": {
     "end_time": "2022-11-01T12:25:55.482488Z",
     "start_time": "2022-11-01T12:25:55.419913Z"
    }
   },
   "outputs": [
    {
     "name": "stdout",
     "output_type": "stream",
     "text": [
      "Directory already exists!\n"
     ]
    }
   ],
   "source": [
    "# create another corpus with only the Senecan plays inside\n",
    "pathname = \"../data/corpus_seneca/\"\n",
    "check_path_exist(pathname)\n",
    "\n",
    "n = 1\n",
    "for text, title in zip(texts_abbr_titles[\"text\"],\n",
    "                       texts_abbr_titles[\"abbreviated_title\"]):\n",
    "    author = \"seneca\"\n",
    "    filename = f\"{author}_{title}{n}.txt\"\n",
    "    with open(pathname + filename, \"w\", encoding='utf-8') as inp:\n",
    "        n += 1\n",
    "        inp.writelines(str(text))"
   ]
  },
  {
   "cell_type": "markdown",
   "id": "41b20a4c",
   "metadata": {},
   "source": [
    "By taking a close look to the texts in the previous dataframe about Seneca, someone will see that the play come along with the people that speak in every tragedy (i.e., the characters that participate in the play). An example can be given by the following extract:\n",
    "\n",
    "    `El. Concede mortem,\n",
    "    Aeg. Si recusares, darem, rudis est tyrannus morte qui poenam exigit.\n",
    "    El. Mortem aliquid ultra est?\n",
    "    Aeg. Vita, si cupias mori. abripite, famuli, monstrum et avectam procul ultra Mycenas ultimo in regni angulo vincite saeptam nocte tenebrosi specus, ut inquietam virginem carcer domet.\n",
    "    Clyt. At ista poenas capite persolvet suo captiva coniunx, regii paelex tori. trahite, ut sequatur coniugem ereptum milli.\n",
    "    Cass. Ne trahite. vestros ipsa praecedam gradus. perferre prima nuntium Phrygibus meis propero: repletum ratibus eversis mare, captas Mycenas, mille ductorem ducum, ut paria fata Troicis lueret malis, perisse dono feminae: stupro, dolo. nihil moramur, rapite, quin grates ago. iam, iam iuvat vixisse post Troiam, iuvat.\n",
    "    Clyt. Furiosa, morere.\n",
    "    Cass. Veniet et vobis furor.—`\n",
    "\n",
    "What we are targeting to remove is names such as: \n",
    "        \n",
    "        `\"El.\", \"Aeg.\", \"Clyt.\", etc.`\n",
    "        \n",
    "As it was said before, names like these correspond to the characters that participate in the play and are not vital part of the tragedies themselves.\n",
    "\n",
    "Something that will be really useful for the oncoming analysis, would be to remove the names of these characters from the `.txt` files since otherwise will create a lot of noise to the results.\n",
    "\n"
   ]
  },
  {
   "cell_type": "markdown",
   "id": "70e5ae98",
   "metadata": {},
   "source": [
    "### First level of preprocessing of the Senecan plays\n",
    "\n",
    "**Proceed to this level only if you want to remove the names of the characters from the texts**\n",
    "\n",
    "A first level of preprocessing in the Senecan plays in order to prepare them for the extraction into `.txt` files that do not contain the names of the characters.\n",
    "\n",
    "The first function `extracting_speaking_people` takes as an argument a filename. Aim of this function is to extract only the first token of every line. \n",
    "\n",
    "Why do we traget at the first token? \n",
    "\n",
    "In the files that were generated previously every speaking line is literally one line, which means that every character no matter how long they speak their words will be contained in one line. Following this line of thought, the first token of every line is the character that speaks at each moment of the play. In other words, this function extracts the first word of each line and then stores every name of every character that speaks in a list."
   ]
  },
  {
   "cell_type": "code",
   "execution_count": 13,
   "id": "eda93519",
   "metadata": {
    "ExecuteTime": {
     "end_time": "2022-11-01T12:25:55.488239Z",
     "start_time": "2022-11-01T12:25:55.484310Z"
    }
   },
   "outputs": [],
   "source": [
    "def extract_speaking_characters(filename):\n",
    "    with open(filename, encoding='utf8') as inp:\n",
    "        text = inp.read()\n",
    "    lines = text.split(\"\\n\")[3:]\n",
    "# start splitting after index = 3 because otherwise it will remove\n",
    "# essential words of the text, since in the first line\n",
    "# there is no speaking character\n",
    "    names = []\n",
    "    for line in lines:\n",
    "        first_token = line.split()[0]\n",
    "        names.append(first_token)\n",
    "    return names"
   ]
  },
  {
   "cell_type": "markdown",
   "id": "25e75360",
   "metadata": {},
   "source": [
    "The next function, `remove_speaking_characters` takes two positional arguments, a filename and the list of the names that was generated by calling the function `extract_speaking_characters`.\n",
    "\n",
    "This function aims to go through every token in the text and check if this token is in the list of names. It will only store the tokens that are not contained in the name list.\n",
    "\n",
    "With a `for` loop both of these functions will be applied to the `.txt` files of the repository `data_txt_files` that have the following filename:\n",
    "    `seneca_{number}.txt)`\n",
    "\n",
    "The output will be stored in an overarching dictionary that has as keys the names of the files (i.e., `seneca_{number}.txt`) and as values the cleaned texts (i.e., the texts of the plays without the names of the characters in them."
   ]
  },
  {
   "cell_type": "code",
   "execution_count": 14,
   "id": "96bb04eb",
   "metadata": {
    "ExecuteTime": {
     "end_time": "2022-11-01T12:25:55.499929Z",
     "start_time": "2022-11-01T12:25:55.493848Z"
    }
   },
   "outputs": [],
   "source": [
    "def remove_speaking_characters(fname, names):\n",
    "    with open(fname, encoding='utf-8') as inp:\n",
    "        text = inp.read()\n",
    "    clean_text = ' '.join([token for token in text.split()\n",
    "                           if not any(word in token for word in names)])\n",
    "    return clean_text"
   ]
  },
  {
   "cell_type": "code",
   "execution_count": 15,
   "id": "d9949157",
   "metadata": {
    "ExecuteTime": {
     "end_time": "2022-11-01T12:25:55.503816Z",
     "start_time": "2022-11-01T12:25:55.501430Z"
    }
   },
   "outputs": [],
   "source": [
    "# result_seneca = {}\n",
    "# for filename in glob('/Users/paschalis/Documents/MA_DH/Thesis/Code/Collection_data/data_txt_files/*seneca_[0-9]*.txt'):\n",
    "#     print(filename)\n",
    "#     speaking_characters = extract_speaking_characters(filename)\n",
    "#     clean_text = remove_speaking_characters(filename, speaking_characters)\n",
    "#     name = basename(filename)\n",
    "#     result_seneca[name] = clean_text"
   ]
  },
  {
   "cell_type": "code",
   "execution_count": 16,
   "id": "44a95a0c",
   "metadata": {
    "ExecuteTime": {
     "end_time": "2022-11-01T12:25:56.728354Z",
     "start_time": "2022-11-01T12:25:55.505303Z"
    }
   },
   "outputs": [
    {
     "ename": "IndexError",
     "evalue": "list index out of range",
     "output_type": "error",
     "traceback": [
      "\u001b[0;31m---------------------------------------------------------------------------\u001b[0m",
      "\u001b[0;31mIndexError\u001b[0m                                Traceback (most recent call last)",
      "Input \u001b[0;32mIn [16]\u001b[0m, in \u001b[0;36m<cell line: 3>\u001b[0;34m()\u001b[0m\n\u001b[1;32m      2\u001b[0m result_seneca \u001b[38;5;241m=\u001b[39m {}\n\u001b[1;32m      3\u001b[0m \u001b[38;5;28;01mfor\u001b[39;00m filename \u001b[38;5;129;01min\u001b[39;00m glob(\u001b[38;5;124m'\u001b[39m\u001b[38;5;124m../data/corpus/*\u001b[39m\u001b[38;5;124m'\u001b[39m):\n\u001b[0;32m----> 4\u001b[0m     speaking_characters \u001b[38;5;241m=\u001b[39m \u001b[43mextract_speaking_characters\u001b[49m\u001b[43m(\u001b[49m\u001b[43mfilename\u001b[49m\u001b[43m)\u001b[49m\n\u001b[1;32m      5\u001b[0m     clean_text \u001b[38;5;241m=\u001b[39m remove_speaking_characters(filename, speaking_characters)\n\u001b[1;32m      6\u001b[0m     name \u001b[38;5;241m=\u001b[39m basename(filename)\n",
      "Input \u001b[0;32mIn [13]\u001b[0m, in \u001b[0;36mextract_speaking_characters\u001b[0;34m(filename)\u001b[0m\n\u001b[1;32m      8\u001b[0m names \u001b[38;5;241m=\u001b[39m []\n\u001b[1;32m      9\u001b[0m \u001b[38;5;28;01mfor\u001b[39;00m line \u001b[38;5;129;01min\u001b[39;00m lines:\n\u001b[0;32m---> 10\u001b[0m     first_token \u001b[38;5;241m=\u001b[39m \u001b[43mline\u001b[49m\u001b[38;5;241;43m.\u001b[39;49m\u001b[43msplit\u001b[49m\u001b[43m(\u001b[49m\u001b[43m)\u001b[49m\u001b[43m[\u001b[49m\u001b[38;5;241;43m0\u001b[39;49m\u001b[43m]\u001b[49m\n\u001b[1;32m     11\u001b[0m     names\u001b[38;5;241m.\u001b[39mappend(first_token)\n\u001b[1;32m     12\u001b[0m \u001b[38;5;28;01mreturn\u001b[39;00m names\n",
      "\u001b[0;31mIndexError\u001b[0m: list index out of range"
     ]
    }
   ],
   "source": [
    "# don't run this command if other files have been generated\n",
    "result_seneca = {}\n",
    "for filename in glob('../data/corpus/*'):\n",
    "    speaking_characters = extract_speaking_characters(filename)\n",
    "    clean_text = remove_speaking_characters(filename, speaking_characters)\n",
    "    name = basename(filename)\n",
    "    result_seneca[name] = clean_text"
   ]
  },
  {
   "cell_type": "markdown",
   "id": "8cbd97eb",
   "metadata": {},
   "source": [
    "After that, the only thing that remains is to rewrite the `.txt` files. This time, they will contain the plays without the speaking characters."
   ]
  },
  {
   "cell_type": "code",
   "execution_count": 17,
   "id": "e5a8797e",
   "metadata": {
    "ExecuteTime": {
     "end_time": "2022-11-01T12:26:10.554905Z",
     "start_time": "2022-11-01T12:26:10.538427Z"
    }
   },
   "outputs": [],
   "source": [
    "# path = \"/Users/paschalis/Documents/MA_DH/Thesis/Code/Analysis/corpus/\"\n",
    "\n",
    "n = 1\n",
    "for key, value in result_seneca.items():\n",
    "    with open(path + key, \"w\", encoding='utf-8') as inp:\n",
    "        n += 1\n",
    "        inp.write(str(value))"
   ]
  },
  {
   "cell_type": "code",
   "execution_count": 18,
   "id": "65a9ba55",
   "metadata": {
    "ExecuteTime": {
     "end_time": "2022-11-01T12:26:11.170186Z",
     "start_time": "2022-11-01T12:26:11.162057Z"
    }
   },
   "outputs": [],
   "source": [
    "# check if the repository is empty\n",
    "# otherwise print the number of files that exist there\n",
    "\n",
    "def check_repository_length(directory_path, directory_files):\n",
    "    # Checking the length of list\n",
    "    if len(directory_files) == 0:\n",
    "        print(\"No files found in the directory.\")\n",
    "    else:\n",
    "        print(f'''{len(directory_files)} files found in the directory.\n",
    "        The following files are contained in this directory:\\n''')\n",
    "    cli.columnize(directory_files,\n",
    "                  displaywidth=55)"
   ]
  },
  {
   "cell_type": "code",
   "execution_count": 19,
   "id": "a5032adb",
   "metadata": {
    "ExecuteTime": {
     "end_time": "2022-11-01T12:26:11.642370Z",
     "start_time": "2022-11-01T12:26:11.630457Z"
    }
   },
   "outputs": [
    {
     "name": "stdout",
     "output_type": "stream",
     "text": [
      "34 files found in the directory.\n",
      "        The following files are contained in this directory:\n",
      "\n",
      ".DS_Store          persius_sati2.txt  seneca_phoe8.txt \n",
      "lucan_beci1.txt    persius_sati3.txt  seneca_thye9.txt \n",
      "lucan_beci10.txt   persius_sati4.txt  seneca_troa10.txt\n",
      "lucan_beci2.txt    persius_sati5.txt  statius_achi1.txt\n",
      "lucan_beci3.txt    persius_sati6.txt  statius_achi2.txt\n",
      "lucan_beci4.txt    seneca_agam1.txt   statius_silv3.txt\n",
      "lucan_beci5.txt    seneca_herf2.txt   statius_silv4.txt\n",
      "lucan_beci6.txt    seneca_hero3.txt   statius_silv5.txt\n",
      "lucan_beci7.txt    seneca_mede4.txt   statius_silv6.txt\n",
      "lucan_beci8.txt    seneca_octa5.txt   statius_silv7.txt\n",
      "lucan_beci9.txt    seneca_oedi6.txt \n",
      "persius_sati1.txt  seneca_phaed7.txt\n"
     ]
    }
   ],
   "source": [
    "directoryPath = \"../data/corpus/\"\n",
    "directory_files = sorted(os.listdir(directoryPath))\n",
    "cli = cmd.Cmd()\n",
    "\n",
    "\n",
    "check_repository_length(directoryPath, directory_files)\n",
    "# when running the cell for the first time the number should be 11\n",
    "# 10 tragedies by Seneca and 1 DS_Store file"
   ]
  },
  {
   "cell_type": "markdown",
   "id": "7ab0e78c",
   "metadata": {},
   "source": [
    "## Collecting Persius' *Satires*"
   ]
  },
  {
   "cell_type": "markdown",
   "id": "ca1720fa",
   "metadata": {},
   "source": [
    "*Satires* or *Satures* by Aulus Persius Flaccus were collected from the [Project Gutenberg](https://www.gutenberg.org/ebooks/22119) and they were saved in an overarching `.rtf` format file. The file contained the 6 *Satires* written by Persius."
   ]
  },
  {
   "cell_type": "code",
   "execution_count": 20,
   "id": "118a6efd",
   "metadata": {
    "ExecuteTime": {
     "end_time": "2022-11-01T12:26:13.000508Z",
     "start_time": "2022-11-01T12:26:12.902569Z"
    }
   },
   "outputs": [],
   "source": [
    "with open(\"../raw_text/satires_perseus.rtf\") as infile:\n",
    "    content = infile.read()  # reading the file\n",
    "    satires = rtf_to_text(content)  # convert into a string\n",
    "    satires_cleaned = re.sub('[\\d-]', '', satires).split(\"SATURA\")[1:]\n",
    "    # split the text in each Satura\n",
    "    # [1:] because otherwise creates an empty list\n",
    "    # `\\d` regex matches any digit character\n",
    "    # digit character were removed because the file contained the number of the lines"
   ]
  },
  {
   "cell_type": "markdown",
   "id": "1318a63d",
   "metadata": {},
   "source": [
    "### First level of preprocessing to the *Satires* by Persius\n",
    "\n",
    "Since the current format of the text has a whitespace in front of every line we need to remove these whitespaces. Every satira now looks like this:\n",
    "```\n",
    "|  O curas hominum! o quantum est in rebus inane!\n",
    "|  ‘Quis leget haec?’ Min tu istud ais? nemo hercule! ‘Nemo?’\n",
    "|  Vel duo, vel nemo. ‘Turpe et miserabile!’ Quare?\n",
    "|  ne mihi Polydamas et Troiades Labeonem\n",
    "|  praetulerint? nugae. non, si quid turbida Roma                   \n",
    "|  elevet, accedas examenque inprobum in illa\n",
    "|  castiges trutina, nec te quaesiveris extra.\n",
    "```\n",
    "Moreover, every *Satira* contains in the first three lines of every Satira there is the number of the book in a latin number (I, II, III, etc.) and also some extra spaces that can be removed, because they are not essential part of the original text.\n",
    "\n",
    "To accomplish these two targets, a function was created (`def remove_leading_whitespaces`. This function takes one positional argument: a set of texts.\n",
    "\n",
    "The result of this function will be saved in a dictionary and then the values of this dictionary will be written in separate `.txt` files."
   ]
  },
  {
   "cell_type": "code",
   "execution_count": 21,
   "id": "88f14433",
   "metadata": {
    "ExecuteTime": {
     "end_time": "2022-11-01T12:26:13.474962Z",
     "start_time": "2022-11-01T12:26:13.468315Z"
    }
   },
   "outputs": [],
   "source": [
    "def remove_leading_whitespaces(texts, n_index):\n",
    "    stripped_texts = [line.strip()\n",
    "                      for line in str(texts).splitlines()][n_index:]\n",
    "    output = \"\\n\".join(stripped_texts).strip()\n",
    "    return output"
   ]
  },
  {
   "cell_type": "code",
   "execution_count": 22,
   "id": "5d9fa438",
   "metadata": {
    "ExecuteTime": {
     "end_time": "2022-11-01T12:26:13.720341Z",
     "start_time": "2022-11-01T12:26:13.711164Z"
    }
   },
   "outputs": [],
   "source": [
    "num = 1\n",
    "n_index = 1\n",
    "# return only after [1:] because otherwise we will have information\n",
    "# that is not included in the original text\n",
    "result_persius = {}\n",
    "for text in satires_cleaned:\n",
    "    values = remove_leading_whitespaces(text, n_index)\n",
    "    result_persius[num] = values\n",
    "    num += 1"
   ]
  },
  {
   "cell_type": "code",
   "execution_count": 23,
   "id": "a3d0e2fa",
   "metadata": {
    "ExecuteTime": {
     "end_time": "2022-11-01T12:26:13.935199Z",
     "start_time": "2022-11-01T12:26:13.926705Z"
    }
   },
   "outputs": [],
   "source": [
    "path = \"../data/corpus/\"\n",
    "n = 1\n",
    "author = \"persius\"\n",
    "for satira in result_persius.values():\n",
    "    filename = f\"{author}_sati{n}.txt\"\n",
    "    with open(path + filename, \"w\", encoding='utf-8') as inp:\n",
    "        n += 1\n",
    "        inp.writelines(satira)"
   ]
  },
  {
   "cell_type": "code",
   "execution_count": 24,
   "id": "d114f902",
   "metadata": {
    "ExecuteTime": {
     "end_time": "2022-11-01T12:26:14.138582Z",
     "start_time": "2022-11-01T12:26:14.134286Z"
    }
   },
   "outputs": [
    {
     "name": "stdout",
     "output_type": "stream",
     "text": [
      "34 files found in the directory.\n",
      "        The following files are contained in this directory:\n",
      "\n",
      ".DS_Store          persius_sati2.txt  seneca_phoe8.txt \n",
      "lucan_beci1.txt    persius_sati3.txt  seneca_thye9.txt \n",
      "lucan_beci10.txt   persius_sati4.txt  seneca_troa10.txt\n",
      "lucan_beci2.txt    persius_sati5.txt  statius_achi1.txt\n",
      "lucan_beci3.txt    persius_sati6.txt  statius_achi2.txt\n",
      "lucan_beci4.txt    seneca_agam1.txt   statius_silv3.txt\n",
      "lucan_beci5.txt    seneca_herf2.txt   statius_silv4.txt\n",
      "lucan_beci6.txt    seneca_hero3.txt   statius_silv5.txt\n",
      "lucan_beci7.txt    seneca_mede4.txt   statius_silv6.txt\n",
      "lucan_beci8.txt    seneca_octa5.txt   statius_silv7.txt\n",
      "lucan_beci9.txt    seneca_oedi6.txt \n",
      "persius_sati1.txt  seneca_phaed7.txt\n"
     ]
    }
   ],
   "source": [
    "directoryPath = \"../data/corpus/\"\n",
    "directory_files = sorted(os.listdir(directoryPath))\n",
    "cli = cmd.Cmd()\n",
    "check_repository_length(directoryPath, directory_files)\n",
    "\n",
    "# when running this cell for the first time the number should be 17\n",
    "# 10 tragedies by Seneca\n",
    "# 6 Satires by Persius\n",
    "# and 1 DS_Store file"
   ]
  },
  {
   "cell_type": "markdown",
   "id": "28bb413b",
   "metadata": {},
   "source": [
    "## Collecting Lucan's *Bellum Civile*\n",
    "\n",
    "The work *De Bellum Civile* by Marcus Annaeus Lucanus were collected in an overarching `.rtf` format file from [The Latin Library](http://thelatinlibrary.com/lucan.html). This file contained the 10 books that consist the *Bellum Civile* corpus."
   ]
  },
  {
   "cell_type": "code",
   "execution_count": 25,
   "id": "28b9c85a",
   "metadata": {
    "ExecuteTime": {
     "end_time": "2022-11-01T12:26:19.067186Z",
     "start_time": "2022-11-01T12:26:14.551738Z"
    }
   },
   "outputs": [],
   "source": [
    "with open(\"../raw_text/lucan_bellum_civile.rtf\") as infile:\n",
    "    content = infile.read()  # reading the file\n",
    "    # convertinf rtf into a single string\n",
    "    bellum_civile = rtf_to_text(content).strip()\n",
    "    bellum_civile_cleaned = re.sub(\n",
    "        '[\\d-]', '', bellum_civile).split(\"Liber \")[1:]\n",
    "    # removing the line numbers and split according to the books (\"Liber\")\n",
    "    # skipping the index 0 list since it is empty"
   ]
  },
  {
   "cell_type": "code",
   "execution_count": 26,
   "id": "1524a0b2",
   "metadata": {
    "ExecuteTime": {
     "end_time": "2022-11-01T12:26:19.173581Z",
     "start_time": "2022-11-01T12:26:19.167859Z"
    }
   },
   "outputs": [],
   "source": [
    "num = 1\n",
    "result_lucan = {}\n",
    "for text in bellum_civile_cleaned:\n",
    "    values = remove_leading_whitespaces(text, n_index=None)\n",
    "    result_lucan[num] = values\n",
    "    num += 1"
   ]
  },
  {
   "cell_type": "code",
   "execution_count": 27,
   "id": "4b1399f7",
   "metadata": {
    "ExecuteTime": {
     "end_time": "2022-11-01T12:26:19.287719Z",
     "start_time": "2022-11-01T12:26:19.254127Z"
    }
   },
   "outputs": [],
   "source": [
    "path = \"../data/corpus/\"\n",
    "n = 1\n",
    "author = \"lucan\"\n",
    "for book in result_lucan.values():\n",
    "    filename = f\"{author}_beci{n}.txt\"\n",
    "    with open(path + filename, \"w\", encoding='utf-8') as inp:\n",
    "        n += 1\n",
    "        inp.writelines(book)"
   ]
  },
  {
   "cell_type": "code",
   "execution_count": 28,
   "id": "6dbfbc0d",
   "metadata": {
    "ExecuteTime": {
     "end_time": "2022-11-01T12:26:19.370629Z",
     "start_time": "2022-11-01T12:26:19.366346Z"
    }
   },
   "outputs": [
    {
     "name": "stdout",
     "output_type": "stream",
     "text": [
      "34 files found in the directory.\n",
      "        The following files are contained in this directory:\n",
      "\n",
      ".DS_Store          persius_sati2.txt  seneca_phoe8.txt \n",
      "lucan_beci1.txt    persius_sati3.txt  seneca_thye9.txt \n",
      "lucan_beci10.txt   persius_sati4.txt  seneca_troa10.txt\n",
      "lucan_beci2.txt    persius_sati5.txt  statius_achi1.txt\n",
      "lucan_beci3.txt    persius_sati6.txt  statius_achi2.txt\n",
      "lucan_beci4.txt    seneca_agam1.txt   statius_silv3.txt\n",
      "lucan_beci5.txt    seneca_herf2.txt   statius_silv4.txt\n",
      "lucan_beci6.txt    seneca_hero3.txt   statius_silv5.txt\n",
      "lucan_beci7.txt    seneca_mede4.txt   statius_silv6.txt\n",
      "lucan_beci8.txt    seneca_octa5.txt   statius_silv7.txt\n",
      "lucan_beci9.txt    seneca_oedi6.txt \n",
      "persius_sati1.txt  seneca_phaed7.txt\n"
     ]
    }
   ],
   "source": [
    "# the number now should be 27 (.txt files):\n",
    "# 10 tragedies by Seneca the Younger\n",
    "# 6 Satires by Persius\n",
    "# 10 Books of De Bellum Civile by Lucan\n",
    "# + 1(.DS_Store is an automatically generated file by the Macintosh OSX operating system)\n",
    "\n",
    "# calling the function\n",
    "directoryPath = \"../data/corpus/\"\n",
    "directory_files = sorted(os.listdir(directoryPath))\n",
    "cli = cmd.Cmd()\n",
    "\n",
    "check_repository_length(directoryPath, directory_files)"
   ]
  },
  {
   "cell_type": "markdown",
   "id": "76a27f8a",
   "metadata": {},
   "source": [
    "## Collecting Statius *Silvae* and *Achilleid*\n",
    "*Silvae* and *Achilleid* that are attributed to Publius Papinius Statius were all manually collected from the [Latin Library](http://thelatinlibrary.com/statius.html).\n",
    "\n",
    "They were saved in two overarching `.rtf` documents; one for *Achilleis* and one for *Silvae*."
   ]
  },
  {
   "cell_type": "markdown",
   "id": "67b20e96",
   "metadata": {},
   "source": [
    "### First level of preprocessing of *Achilleid*\n",
    "As with the *Satires* by Persius, we need to remove the leading whitespace and the numbers of the verses from each line. We will follow the same process for both of the texts, *Achilleid* and *Silvae*."
   ]
  },
  {
   "cell_type": "code",
   "execution_count": 29,
   "id": "155a89ac",
   "metadata": {
    "ExecuteTime": {
     "end_time": "2022-11-01T12:26:19.597958Z",
     "start_time": "2022-11-01T12:26:19.447305Z"
    }
   },
   "outputs": [],
   "source": [
    "with open(\"../raw_text/statius_achilleid.rtf\") as infile:\n",
    "    content = infile.read()  # reading the file\n",
    "    achilleid = rtf_to_text(content).strip()  # convert into a string\n",
    "    achilleid_cleaned = re.sub('[\\d-]', '', achilleid).split(\"Achilleid\")[1:]"
   ]
  },
  {
   "cell_type": "code",
   "execution_count": 30,
   "id": "2aeb2be1",
   "metadata": {
    "ExecuteTime": {
     "end_time": "2022-11-01T12:26:19.678940Z",
     "start_time": "2022-11-01T12:26:19.675715Z"
    }
   },
   "outputs": [],
   "source": [
    "num = 1\n",
    "result_achilleid = {}\n",
    "for text in achilleid_cleaned:\n",
    "    values = remove_leading_whitespaces(text, n_index=2)\n",
    "    result_achilleid[num] = values\n",
    "    num += 1"
   ]
  },
  {
   "cell_type": "code",
   "execution_count": 31,
   "id": "a8e577f1",
   "metadata": {
    "ExecuteTime": {
     "end_time": "2022-11-01T12:26:19.766094Z",
     "start_time": "2022-11-01T12:26:19.757924Z"
    }
   },
   "outputs": [],
   "source": [
    "path = \"../data/corpus/\"\n",
    "n = 1\n",
    "author = \"statius\"\n",
    "for book in result_achilleid.values():\n",
    "    filename = f\"{author}_achi{n}.txt\"\n",
    "    with open(path + filename, \"w\", encoding='utf-8') as inp:\n",
    "        n += 1\n",
    "        inp.writelines(book)"
   ]
  },
  {
   "cell_type": "code",
   "execution_count": 32,
   "id": "6b69d1e9",
   "metadata": {
    "ExecuteTime": {
     "end_time": "2022-11-01T12:26:19.874135Z",
     "start_time": "2022-11-01T12:26:19.869356Z"
    }
   },
   "outputs": [
    {
     "name": "stdout",
     "output_type": "stream",
     "text": [
      "34 files found in the directory.\n",
      "        The following files are contained in this directory:\n",
      "\n",
      ".DS_Store          persius_sati2.txt  seneca_phoe8.txt \n",
      "lucan_beci1.txt    persius_sati3.txt  seneca_thye9.txt \n",
      "lucan_beci10.txt   persius_sati4.txt  seneca_troa10.txt\n",
      "lucan_beci2.txt    persius_sati5.txt  statius_achi1.txt\n",
      "lucan_beci3.txt    persius_sati6.txt  statius_achi2.txt\n",
      "lucan_beci4.txt    seneca_agam1.txt   statius_silv3.txt\n",
      "lucan_beci5.txt    seneca_herf2.txt   statius_silv4.txt\n",
      "lucan_beci6.txt    seneca_hero3.txt   statius_silv5.txt\n",
      "lucan_beci7.txt    seneca_mede4.txt   statius_silv6.txt\n",
      "lucan_beci8.txt    seneca_octa5.txt   statius_silv7.txt\n",
      "lucan_beci9.txt    seneca_oedi6.txt \n",
      "persius_sati1.txt  seneca_phaed7.txt\n"
     ]
    }
   ],
   "source": [
    "directoryPath = \"../data/corpus/\"\n",
    "directory_files = sorted(os.listdir(directoryPath))\n",
    "cli = cmd.Cmd()\n",
    "\n",
    "# calling the function\n",
    "\n",
    "check_repository_length(directoryPath, directory_files)"
   ]
  },
  {
   "cell_type": "markdown",
   "id": "49619138",
   "metadata": {},
   "source": [
    "### First level of preprocessing of *Silvae*"
   ]
  },
  {
   "cell_type": "code",
   "execution_count": 33,
   "id": "4eda0326",
   "metadata": {
    "ExecuteTime": {
     "end_time": "2022-11-01T12:26:21.140876Z",
     "start_time": "2022-11-01T12:26:19.957283Z"
    }
   },
   "outputs": [],
   "source": [
    "with open(\"../raw_text/statius_silvae.rtf\") as infile:\n",
    "    text = infile.read()  # reading the file\n",
    "    silvae = rtf_to_text(text).strip()  # convert into a string\n",
    "    silvae_cleaned = re.sub('[\\d-]', '', silvae).split(\"SILVAE\")[1:]"
   ]
  },
  {
   "cell_type": "code",
   "execution_count": 34,
   "id": "fbe35838",
   "metadata": {
    "ExecuteTime": {
     "end_time": "2022-11-01T12:26:21.230490Z",
     "start_time": "2022-11-01T12:26:21.226722Z"
    }
   },
   "outputs": [],
   "source": [
    "num = 1\n",
    "result_silvae = {}\n",
    "for book in silvae_cleaned:\n",
    "    values = remove_leading_whitespaces(book, n_index=None)\n",
    "    result_silvae[num] = values\n",
    "    num += 1"
   ]
  },
  {
   "cell_type": "code",
   "execution_count": 35,
   "id": "0f770018",
   "metadata": {
    "ExecuteTime": {
     "end_time": "2022-11-01T12:26:21.337477Z",
     "start_time": "2022-11-01T12:26:21.319059Z"
    }
   },
   "outputs": [],
   "source": [
    "path = \"../data/corpus/\"\n",
    "n = 3\n",
    "# n = 3 since we want to continue the counting from the two book of Achilleid and onwards\n",
    "author = \"statius\"\n",
    "for book in result_silvae.values():\n",
    "    filename = f\"{author}_silv{n}.txt\"\n",
    "    with open(path + filename, \"w\", encoding='utf-8') as inp:\n",
    "        n += 1\n",
    "        inp.writelines(book)"
   ]
  },
  {
   "cell_type": "code",
   "execution_count": 36,
   "id": "d7c020eb",
   "metadata": {
    "ExecuteTime": {
     "end_time": "2022-11-01T12:26:21.434335Z",
     "start_time": "2022-11-01T12:26:21.429789Z"
    }
   },
   "outputs": [
    {
     "name": "stdout",
     "output_type": "stream",
     "text": [
      "34 files found in the directory.\n",
      "        The following files are contained in this directory:\n",
      "\n",
      ".DS_Store          persius_sati2.txt  seneca_phoe8.txt \n",
      "lucan_beci1.txt    persius_sati3.txt  seneca_thye9.txt \n",
      "lucan_beci10.txt   persius_sati4.txt  seneca_troa10.txt\n",
      "lucan_beci2.txt    persius_sati5.txt  statius_achi1.txt\n",
      "lucan_beci3.txt    persius_sati6.txt  statius_achi2.txt\n",
      "lucan_beci4.txt    seneca_agam1.txt   statius_silv3.txt\n",
      "lucan_beci5.txt    seneca_herf2.txt   statius_silv4.txt\n",
      "lucan_beci6.txt    seneca_hero3.txt   statius_silv5.txt\n",
      "lucan_beci7.txt    seneca_mede4.txt   statius_silv6.txt\n",
      "lucan_beci8.txt    seneca_octa5.txt   statius_silv7.txt\n",
      "lucan_beci9.txt    seneca_oedi6.txt \n",
      "persius_sati1.txt  seneca_phaed7.txt\n"
     ]
    }
   ],
   "source": [
    "directoryPath = \"../data/corpus/\"\n",
    "directory_files = sorted(os.listdir(directoryPath))\n",
    "cli = cmd.Cmd()\n",
    "\n",
    "# calling the function\n",
    "\n",
    "check_repository_length(directoryPath, directory_files)"
   ]
  }
 ],
 "metadata": {
  "hide_input": false,
  "kernelspec": {
   "display_name": "Python 3 (ipykernel)",
   "language": "python",
   "name": "python3"
  },
  "language_info": {
   "codemirror_mode": {
    "name": "ipython",
    "version": 3
   },
   "file_extension": ".py",
   "mimetype": "text/x-python",
   "name": "python",
   "nbconvert_exporter": "python",
   "pygments_lexer": "ipython3",
   "version": "3.8.2"
  },
  "toc": {
   "base_numbering": 1,
   "nav_menu": {},
   "number_sections": true,
   "sideBar": true,
   "skip_h1_title": false,
   "title_cell": "Table of Contents",
   "title_sidebar": "Contents",
   "toc_cell": false,
   "toc_position": {},
   "toc_section_display": true,
   "toc_window_display": false
  },
  "varInspector": {
   "cols": {
    "lenName": 16,
    "lenType": 16,
    "lenVar": 40
   },
   "kernels_config": {
    "python": {
     "delete_cmd_postfix": "",
     "delete_cmd_prefix": "del ",
     "library": "var_list.py",
     "varRefreshCmd": "print(var_dic_list())"
    },
    "r": {
     "delete_cmd_postfix": ") ",
     "delete_cmd_prefix": "rm(",
     "library": "var_list.r",
     "varRefreshCmd": "cat(var_dic_list()) "
    }
   },
   "types_to_exclude": [
    "module",
    "function",
    "builtin_function_or_method",
    "instance",
    "_Feature"
   ],
   "window_display": false
  }
 },
 "nbformat": 4,
 "nbformat_minor": 5
}

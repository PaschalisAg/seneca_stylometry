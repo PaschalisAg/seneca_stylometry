{
 "cells": [
  {
   "cell_type": "markdown",
   "id": "91db34f3",
   "metadata": {},
   "source": [
    "# Hercules Oetaeus chunks\n",
    "Split Hercules Oetaeus into 2 chunks. According to the overall number of tokens the text is split exactly in half by having 5705 tokens into each chunk. Then write these chunks into separate txt files following the format: `sen_her_p_chunk{n).txt`."
   ]
  },
  {
   "cell_type": "code",
   "execution_count": 1,
   "id": "400bfc74",
   "metadata": {
    "ExecuteTime": {
     "end_time": "2023-03-10T11:23:36.596777Z",
     "start_time": "2023-03-10T11:23:35.404862Z"
    }
   },
   "outputs": [],
   "source": [
    "from cltk.tokenize.word import WordTokenizer\n",
    "import re"
   ]
  },
  {
   "cell_type": "code",
   "execution_count": 2,
   "id": "73124a44",
   "metadata": {
    "ExecuteTime": {
     "end_time": "2023-03-10T11:23:36.606527Z",
     "start_time": "2023-03-10T11:23:36.604538Z"
    }
   },
   "outputs": [],
   "source": [
    "# read the hercules oetaes from the verse corpus\n",
    "def read_text(filename):\n",
    "    with open(filename) as inp:\n",
    "        herc_o = inp.read()\n",
    "    return herc_o"
   ]
  },
  {
   "cell_type": "code",
   "execution_count": 3,
   "id": "c9ce69b4",
   "metadata": {
    "ExecuteTime": {
     "end_time": "2023-03-10T11:24:25.095501Z",
     "start_time": "2023-03-10T11:24:25.045939Z"
    }
   },
   "outputs": [],
   "source": [
    "def word_tokenize_latin(text):\n",
    "    text = read_text(text)\n",
    "    clean_text = re.sub(r\"[^\\w\\s]\", \"\", text)  # remove punctuation numbers\n",
    "    word_tokenizer = WordTokenizer(\"latin\")  # object to tokenize using cltk\n",
    "    # apply the tokenizer to the clean text\n",
    "    tokens = word_tokenizer.tokenize(clean_text)\n",
    "    return tokens\n",
    "\n",
    "\n",
    "herco_tokens = word_tokenize_latin(\n",
    "    '../analysis/verse_corpus_imposters/sen_her_o.txt')"
   ]
  },
  {
   "cell_type": "code",
   "execution_count": 77,
   "id": "427e6234",
   "metadata": {
    "ExecuteTime": {
     "end_time": "2023-03-09T18:24:27.077493Z",
     "start_time": "2023-03-09T18:24:27.070099Z"
    }
   },
   "outputs": [
    {
     "name": "stdout",
     "output_type": "stream",
     "text": [
      "Wrote 5705 tokens to sen_her_o_chunk1.txt\n",
      "Wrote 5705 tokens to sen_her_o_chunk2.txt\n"
     ]
    }
   ],
   "source": [
    "tokens_per_chunk = int(len(herco_tokens)/2)  # i.e., 5705 tokens\n",
    "\n",
    "\n",
    "# Split the text into chunks of `tokens_per_chunk` tokens\n",
    "herco_chunks = [herco_tokens[chunks:chunks+tokens_per_chunk]\n",
    "                for chunks in range(0, len(herco_tokens), tokens_per_chunk)]\n",
    "\n",
    "# Write each chunk to a separate file\n",
    "for n, chunk in enumerate(herco_chunks):\n",
    "    # Create a file name based on the chunk number\n",
    "    filename = f\"sen_her_o_chunk{n+1}.txt\"\n",
    "    # Convert each chunk to a lowercase string\n",
    "    chunk_text = \" \".join(chunk).lower()\n",
    "    # Write the chunk to a file\n",
    "    with open(filename, 'w', encoding='utf-8') as outp:\n",
    "        outp.write(chunk_text)\n",
    "    # Print the number of tokens in the chunk\n",
    "    print(f\"Wrote {len(chunk)} tokens to {filename}\")"
   ]
  }
 ],
 "metadata": {
  "kernelspec": {
   "display_name": "Python 3 (ipykernel)",
   "language": "python",
   "name": "python3"
  },
  "language_info": {
   "codemirror_mode": {
    "name": "ipython",
    "version": 3
   },
   "file_extension": ".py",
   "mimetype": "text/x-python",
   "name": "python",
   "nbconvert_exporter": "python",
   "pygments_lexer": "ipython3",
   "version": "3.8.2"
  },
  "toc": {
   "base_numbering": 1,
   "nav_menu": {},
   "number_sections": true,
   "sideBar": true,
   "skip_h1_title": false,
   "title_cell": "Table of Contents",
   "title_sidebar": "Contents",
   "toc_cell": false,
   "toc_position": {},
   "toc_section_display": true,
   "toc_window_display": false
  },
  "varInspector": {
   "cols": {
    "lenName": 16,
    "lenType": 16,
    "lenVar": 40
   },
   "kernels_config": {
    "python": {
     "delete_cmd_postfix": "",
     "delete_cmd_prefix": "del ",
     "library": "var_list.py",
     "varRefreshCmd": "print(var_dic_list())"
    },
    "r": {
     "delete_cmd_postfix": ") ",
     "delete_cmd_prefix": "rm(",
     "library": "var_list.r",
     "varRefreshCmd": "cat(var_dic_list()) "
    }
   },
   "types_to_exclude": [
    "module",
    "function",
    "builtin_function_or_method",
    "instance",
    "_Feature"
   ],
   "window_display": false
  }
 },
 "nbformat": 4,
 "nbformat_minor": 5
}

{
 "cells": [
  {
   "cell_type": "code",
   "execution_count": null,
   "id": "79930d2c",
   "metadata": {
    "lines_to_next_cell": 1
   },
   "outputs": [],
   "source": [
    "import os\n",
    "from sklearn.feature_extraction.text import CountVectorizer\n",
    "import matplotlib.pyplot as plt\n",
    "import seaborn as sns"
   ]
  },
  {
   "cell_type": "code",
   "execution_count": null,
   "id": "57c78887",
   "metadata": {
    "lines_to_next_cell": 1
   },
   "outputs": [],
   "source": [
    "# define a function to read all text files in a directory and combine them into a single string:\n",
    "def read_corpus(directory):\n",
    "    corpus = \"\"\n",
    "    for filename in os.listdir(directory):\n",
    "        # check for this condition, otherwise listdir takes into account binary files\n",
    "        if filename.endswith(\".txt\"): \n",
    "            with open(os.path.join(directory, filename), 'r') as f:\n",
    "                text = f.read().strip() # remove preceding and following whitespaces\n",
    "                corpus += text # combine every text into one corpus\n",
    "    return corpus"
   ]
  },
  {
   "cell_type": "code",
   "execution_count": null,
   "id": "be0d9f3d",
   "metadata": {},
   "outputs": [],
   "source": [
    "# call the read_corpus function to get a single string containing all the text:\n",
    "corpus = read_corpus('../verse_corpus_imposters/')"
   ]
  },
  {
   "cell_type": "code",
   "execution_count": null,
   "id": "dfd81104",
   "metadata": {},
   "outputs": [],
   "source": [
    "# use CountVectorizer to transform the corpus into a matrix of charcter 4-gram counts:\n",
    "vectorizer = CountVectorizer(analyzer='char', ngram_range=(4,4))\n",
    "X = vectorizer.fit_transform([corpus])"
   ]
  },
  {
   "cell_type": "code",
   "execution_count": null,
   "id": "8285ba1f",
   "metadata": {
    "lines_to_next_cell": 2
   },
   "outputs": [],
   "source": [
    "# convert the matrix to a list of tuples containing the n-grams and their counts:\n",
    "ngram_counts = list(zip(vectorizer.get_feature_names_out(), X.toarray()[0]))"
   ]
  },
  {
   "cell_type": "code",
   "execution_count": null,
   "id": "1335317d",
   "metadata": {},
   "outputs": [],
   "source": [
    "# sort the list in descending order of the counts:\n",
    "ngram_counts_sorted = sorted(ngram_counts, key=lambda x: x[1], reverse=True)\n",
    "# extract the counts and plot them as a line graph:"
   ]
  },
  {
   "cell_type": "code",
   "execution_count": null,
   "id": "bccc54a6",
   "metadata": {
    "lines_to_next_cell": 2
   },
   "outputs": [],
   "source": [
    "counts = [count for _, count in ngram_counts_sorted]"
   ]
  },
  {
   "cell_type": "code",
   "execution_count": null,
   "id": "14d6f66f",
   "metadata": {},
   "outputs": [],
   "source": [
    "sns.set_palette(\"colorblind\")\n",
    "sns.set_style(\"darkgrid\")\n",
    "# plot counts into a lineplot\n",
    "sns.lineplot(counts)\n",
    "# plt.plot(counts)\n",
    "plt.xlim(0, 600)\n",
    "plt.ylim(0, 28000)\n",
    "plt.ylabel(\"Frequency\")\n",
    "plt.xlabel(\"Index\")\n",
    "plt.title(\"Frequency distribution among character 4grams\\n9 authors - 90 texts\")\n",
    "plt.savefig(\"freq_dist_char_ngrams.png\", dpi=300)  # save the plot high res - save must be before show\n",
    "plt.show()"
   ]
  },
  {
   "cell_type": "code",
   "execution_count": null,
   "id": "7a43f764",
   "metadata": {},
   "outputs": [],
   "source": [
    "import pprint\n",
    "print(\"Top 100 MFC 4grams along with their overall frequency:\\n\")\n",
    "pprint.pprint(ngram_counts_sorted[:100], width=110, compact=True)"
   ]
  }
 ],
 "metadata": {
  "jupytext": {
   "cell_metadata_filter": "-all",
   "main_language": "python",
   "notebook_metadata_filter": "-all",
   "text_representation": {
    "extension": ".py",
    "format_name": "light"
   }
  },
  "kernelspec": {
   "display_name": "Python 3 (ipykernel)",
   "language": "python",
   "name": "python3"
  },
  "language_info": {
   "codemirror_mode": {
    "name": "ipython",
    "version": 3
   },
   "file_extension": ".py",
   "mimetype": "text/x-python",
   "name": "python",
   "nbconvert_exporter": "python",
   "pygments_lexer": "ipython3",
   "version": "3.8.2"
  },
  "toc": {
   "base_numbering": 1,
   "nav_menu": {},
   "number_sections": true,
   "sideBar": true,
   "skip_h1_title": false,
   "title_cell": "Table of Contents",
   "title_sidebar": "Contents",
   "toc_cell": false,
   "toc_position": {},
   "toc_section_display": true,
   "toc_window_display": false
  },
  "varInspector": {
   "cols": {
    "lenName": 16,
    "lenType": 16,
    "lenVar": 40
   },
   "kernels_config": {
    "python": {
     "delete_cmd_postfix": "",
     "delete_cmd_prefix": "del ",
     "library": "var_list.py",
     "varRefreshCmd": "print(var_dic_list())"
    },
    "r": {
     "delete_cmd_postfix": ") ",
     "delete_cmd_prefix": "rm(",
     "library": "var_list.r",
     "varRefreshCmd": "cat(var_dic_list()) "
    }
   },
   "types_to_exclude": [
    "module",
    "function",
    "builtin_function_or_method",
    "instance",
    "_Feature"
   ],
   "window_display": false
  }
 },
 "nbformat": 4,
 "nbformat_minor": 5
}

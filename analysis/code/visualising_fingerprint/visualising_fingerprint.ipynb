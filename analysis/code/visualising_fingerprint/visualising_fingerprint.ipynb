{
 "cells": [
  {
   "cell_type": "markdown",
   "id": "1f51d116-917a-4ff9-b3f9-021bc5e5384b",
   "metadata": {},
   "source": [
    "# Organise the dataset"
   ]
  },
  {
   "cell_type": "code",
   "execution_count": 7,
   "id": "70fd8cf8-7369-4a5f-b4b9-755f3ca0c18c",
   "metadata": {
    "ExecuteTime": {
     "end_time": "2023-07-30T15:14:52.236308Z",
     "start_time": "2023-07-30T15:14:52.190450Z"
    },
    "tags": []
   },
   "outputs": [
    {
     "data": {
      "text/plain": [
       "array(['argon_6', 'phars_10', 'ag', 'argon_7', 'tristia', 'thy',\n",
       "       'argon_5', 'argon_4', 'argon_1', 'argon_3', 'theb_8', 'theb_9',\n",
       "       'argon_2', 'fasti', 'theb_11', 'fables_6', 'her_f', 'sati_6',\n",
       "       'phars_1', 'theb_10', 'pun_8', 'theb_12', 'phars_3', 'fables_5',\n",
       "       'sati_4', 'sati_5', 'ponto', 'fables_4', 'phars_2', 'pun_9',\n",
       "       'meta', 'phars_6', 'remed', 'sati_1', 'fables_1', 'phars_7',\n",
       "       'phars_5', 'fables_3', 'sati_2', 'sati_3', 'fables_2', 'phars_4',\n",
       "       'epist', 'pun_13', 'pun_2', 'phars_9', 'her_o', 'phars_8', 'pun_3',\n",
       "       'ars', 'pun_12', 'pun_10', 'am', 'pun_1', 'oct', 'pun_11',\n",
       "       'pun_15', 'pun_4', 'pun_5', 'pun_14', 'pun_16', 'pun_7', 'medicam',\n",
       "       'pun_6', 'pun_17', 'theb_4', 'astro_4', 'astro_5', 'theb_5',\n",
       "       'phaed', 'achill', 'silv_4', 'theb_7', 'theb_6', 'silv_5', 'phoen',\n",
       "       'silv_1', 'theb_2', 'astro_2', 'astro_3', 'theb_3', 'oed',\n",
       "       'argon_8', 'silv_2', 'ibis', 'med', 'tro', 'theb_1', 'astro_1',\n",
       "       'silv_3'], dtype=object)"
      ]
     },
     "execution_count": 7,
     "metadata": {},
     "output_type": "execute_result"
    }
   ],
   "source": [
    "import glob\n",
    "import os\n",
    "import re\n",
    "\n",
    "import matplotlib.pyplot as plt\n",
    "import pandas as pd\n",
    "import seaborn as sns\n",
    "from sklearn.feature_extraction.text import TfidfVectorizer\n",
    "\n",
    "directory_path = \"../../corpus_imposters/\"\n",
    "file_pattern = \"*.txt\"\n",
    "file_paths = glob.glob(os.path.join(directory_path, file_pattern))\n",
    "\n",
    "# latin corpus verse dataframe\n",
    "data = []\n",
    "\n",
    "for file_path in file_paths:\n",
    "    file_name = os.path.splitext(file_path)[0]\n",
    "    author_name, work_name = os.path.basename(file_name).split(\"_\", maxsplit=1)\n",
    "    with open(file_path, \"r\", encoding=\"utf-8\") as inp:\n",
    "        text = inp.read()\n",
    "        data.append({\"Author\": author_name, \"Title\": work_name, \"Text\": text})\n",
    "latin_corpus_verse = pd.DataFrame(data)\n",
    "\n",
    "latin_corpus_verse[\"Title\"].unique()"
   ]
  },
  {
   "cell_type": "code",
   "execution_count": 8,
   "id": "d703f226-5041-4fba-b021-f4124959d066",
   "metadata": {
    "ExecuteTime": {
     "end_time": "2023-07-30T15:14:52.669266Z",
     "start_time": "2023-07-30T15:14:52.540400Z"
    }
   },
   "outputs": [],
   "source": [
    "# def process_author_names(author_name):\n",
    "author_mapping = {\n",
    "    \"valflac\": \"Valerius Flaccus\",\n",
    "    \"luc\": \"Lucan\",\n",
    "    \"sen\": \"Seneca (Younger)\",\n",
    "    \"ovid\": \"Ovid\",\n",
    "    \"stat\": \"Statius\",\n",
    "    \"phaed\": \"Phaedrus\",\n",
    "    \"persius\": \"Persius\",\n",
    "    \"sil.ita\": \"Silius Italicus\",\n",
    "    \"manil\": \"Manilius\",\n",
    "}\n",
    "#     return author_mapping.get(author_name, author_name)\n",
    "\n",
    "\n",
    "def process_titles(title):\n",
    "    title = title.split(\"_\", maxsplit=1)[0]\n",
    "    book_number = title.split(\"_\", maxsplit=1)\n",
    "    if len(book_number) == 2:  # if we have both title and book_number, thus length = 2\n",
    "        return book_number[1]\n",
    "    else:\n",
    "        return \" \"\n",
    "    # return title_mapping.get(title, title)\n",
    "\n",
    "\n",
    "latin_corpus_verse[\"Author\"] = latin_corpus_verse[\"Author\"].map(author_mapping)\n",
    "# latin_corpus_verse[\"Title\"] = latin_corpus_verse[\"Title\"].apply(process_titles)\n",
    "# create new directory if not exist\n",
    "os.makedirs(\"../../latin_corpus_verse_df/\", exist_ok=True)\n",
    "latin_corpus_verse.to_csv(\n",
    "    \"../../latin_corpus_verse_df/latin_corpus_verse.csv\", encoding=\"utf-8\")"
   ]
  },
  {
   "cell_type": "code",
   "execution_count": 9,
   "id": "0f6f27ab-2f93-45c7-9e5c-2290328ef5b8",
   "metadata": {
    "ExecuteTime": {
     "end_time": "2023-07-30T15:14:52.982482Z",
     "start_time": "2023-07-30T15:14:52.958145Z"
    }
   },
   "outputs": [
    {
     "data": {
      "text/html": [
       "<div>\n",
       "<style scoped>\n",
       "    .dataframe tbody tr th:only-of-type {\n",
       "        vertical-align: middle;\n",
       "    }\n",
       "\n",
       "    .dataframe tbody tr th {\n",
       "        vertical-align: top;\n",
       "    }\n",
       "\n",
       "    .dataframe thead th {\n",
       "        text-align: right;\n",
       "    }\n",
       "</style>\n",
       "<table border=\"1\" class=\"dataframe\">\n",
       "  <thead>\n",
       "    <tr style=\"text-align: right;\">\n",
       "      <th></th>\n",
       "      <th>Author</th>\n",
       "      <th>Title</th>\n",
       "      <th>Text</th>\n",
       "    </tr>\n",
       "  </thead>\n",
       "  <tbody>\n",
       "    <tr>\n",
       "      <th>0</th>\n",
       "      <td>Valerius Flaccus</td>\n",
       "      <td>argon_6</td>\n",
       "      <td>At vigil isdem ardet furiis Gradivus et acri\\n...</td>\n",
       "    </tr>\n",
       "    <tr>\n",
       "      <th>1</th>\n",
       "      <td>Lucan</td>\n",
       "      <td>phars_10</td>\n",
       "      <td>Ut primum terras, Pompeii colla secutus,\\nAdti...</td>\n",
       "    </tr>\n",
       "    <tr>\n",
       "      <th>2</th>\n",
       "      <td>Seneca (Younger)</td>\n",
       "      <td>ag</td>\n",
       "      <td>Opaca linquens Ditis inferni loca\\nadsum profu...</td>\n",
       "    </tr>\n",
       "    <tr>\n",
       "      <th>3</th>\n",
       "      <td>Valerius Flaccus</td>\n",
       "      <td>argon_7</td>\n",
       "      <td>Te quoque Thessalico iam serus ab hospite vesp...</td>\n",
       "    </tr>\n",
       "    <tr>\n",
       "      <th>4</th>\n",
       "      <td>Ovid</td>\n",
       "      <td>tristia</td>\n",
       "      <td>Parve—nec invideo—sine me, liber, ibis in urbe...</td>\n",
       "    </tr>\n",
       "    <tr>\n",
       "      <th>...</th>\n",
       "      <td>...</td>\n",
       "      <td>...</td>\n",
       "      <td>...</td>\n",
       "    </tr>\n",
       "    <tr>\n",
       "      <th>85</th>\n",
       "      <td>Seneca (Younger)</td>\n",
       "      <td>med</td>\n",
       "      <td>Di coniugales tuque genialis tori,\\nLucina, cu...</td>\n",
       "    </tr>\n",
       "    <tr>\n",
       "      <th>86</th>\n",
       "      <td>Seneca (Younger)</td>\n",
       "      <td>tro</td>\n",
       "      <td>Quicumque regno fidit et magna potens\\ndominat...</td>\n",
       "    </tr>\n",
       "    <tr>\n",
       "      <th>87</th>\n",
       "      <td>Statius</td>\n",
       "      <td>theb_1</td>\n",
       "      <td>Fraternas acies alternaque regna profanis dece...</td>\n",
       "    </tr>\n",
       "    <tr>\n",
       "      <th>88</th>\n",
       "      <td>Manilius</td>\n",
       "      <td>astro_1</td>\n",
       "      <td>Carmine divinas artes et conscia fati \\nsidera...</td>\n",
       "    </tr>\n",
       "    <tr>\n",
       "      <th>89</th>\n",
       "      <td>Statius</td>\n",
       "      <td>silv_3</td>\n",
       "      <td>Statius Pollio suo salutem  Tibi certe, Polli ...</td>\n",
       "    </tr>\n",
       "  </tbody>\n",
       "</table>\n",
       "<p>90 rows × 3 columns</p>\n",
       "</div>"
      ],
      "text/plain": [
       "              Author     Title  \\\n",
       "0   Valerius Flaccus   argon_6   \n",
       "1              Lucan  phars_10   \n",
       "2   Seneca (Younger)        ag   \n",
       "3   Valerius Flaccus   argon_7   \n",
       "4               Ovid   tristia   \n",
       "..               ...       ...   \n",
       "85  Seneca (Younger)       med   \n",
       "86  Seneca (Younger)       tro   \n",
       "87           Statius    theb_1   \n",
       "88          Manilius   astro_1   \n",
       "89           Statius    silv_3   \n",
       "\n",
       "                                                 Text  \n",
       "0   At vigil isdem ardet furiis Gradivus et acri\\n...  \n",
       "1   Ut primum terras, Pompeii colla secutus,\\nAdti...  \n",
       "2   Opaca linquens Ditis inferni loca\\nadsum profu...  \n",
       "3   Te quoque Thessalico iam serus ab hospite vesp...  \n",
       "4   Parve—nec invideo—sine me, liber, ibis in urbe...  \n",
       "..                                                ...  \n",
       "85  Di coniugales tuque genialis tori,\\nLucina, cu...  \n",
       "86  Quicumque regno fidit et magna potens\\ndominat...  \n",
       "87  Fraternas acies alternaque regna profanis dece...  \n",
       "88  Carmine divinas artes et conscia fati \\nsidera...  \n",
       "89  Statius Pollio suo salutem  Tibi certe, Polli ...  \n",
       "\n",
       "[90 rows x 3 columns]"
      ]
     },
     "execution_count": 9,
     "metadata": {},
     "output_type": "execute_result"
    }
   ],
   "source": [
    "latin_corpus_verse"
   ]
  }
 ],
 "metadata": {
  "kernelspec": {
   "display_name": "Python 3 (ipykernel)",
   "language": "python",
   "name": "python3"
  },
  "language_info": {
   "codemirror_mode": {
    "name": "ipython",
    "version": 3
   },
   "file_extension": ".py",
   "mimetype": "text/x-python",
   "name": "python",
   "nbconvert_exporter": "python",
   "pygments_lexer": "ipython3",
   "version": "3.8.2"
  },
  "toc": {
   "base_numbering": 1,
   "nav_menu": {},
   "number_sections": true,
   "sideBar": true,
   "skip_h1_title": false,
   "title_cell": "Table of Contents",
   "title_sidebar": "Contents",
   "toc_cell": false,
   "toc_position": {},
   "toc_section_display": true,
   "toc_window_display": false
  },
  "varInspector": {
   "cols": {
    "lenName": 16,
    "lenType": 16,
    "lenVar": 40
   },
   "kernels_config": {
    "python": {
     "delete_cmd_postfix": "",
     "delete_cmd_prefix": "del ",
     "library": "var_list.py",
     "varRefreshCmd": "print(var_dic_list())"
    },
    "r": {
     "delete_cmd_postfix": ") ",
     "delete_cmd_prefix": "rm(",
     "library": "var_list.r",
     "varRefreshCmd": "cat(var_dic_list()) "
    }
   },
   "types_to_exclude": [
    "module",
    "function",
    "builtin_function_or_method",
    "instance",
    "_Feature"
   ],
   "window_display": false
  }
 },
 "nbformat": 4,
 "nbformat_minor": 5
}

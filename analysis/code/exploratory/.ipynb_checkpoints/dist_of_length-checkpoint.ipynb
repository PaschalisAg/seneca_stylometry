{
 "cells": [
  {
   "cell_type": "code",
   "execution_count": 8,
   "id": "8d3b5ffe-221a-495f-a313-cd9089268adc",
   "metadata": {
    "ExecuteTime": {
     "end_time": "2023-12-15T10:54:33.897283Z",
     "start_time": "2023-12-15T10:54:33.868114Z"
    }
   },
   "outputs": [
    {
     "ename": "ModuleNotFoundError",
     "evalue": "No module named 'cltk.tokenize'",
     "output_type": "error",
     "traceback": [
      "\u001b[0;31m---------------------------------------------------------------------------\u001b[0m",
      "\u001b[0;31mModuleNotFoundError\u001b[0m                       Traceback (most recent call last)",
      "File \u001b[0;32m<timed exec>:6\u001b[0m\n",
      "\u001b[0;31mModuleNotFoundError\u001b[0m: No module named 'cltk.tokenize'"
     ]
    }
   ],
   "source": [
    "%%time\n",
    "\n",
    "import os\n",
    "\n",
    "# import matplotlib.pyplot as plt\n",
    "import numpy as np\n",
    "# import seaborn as sns  # Import seaborn for better violin plots\n",
    "from cltk.tokenize.word import WordTokenizer\n",
    "\n",
    "# Define the directory containing your text files\n",
    "directory = \"../../corpora/corpus_imposters/\"\n",
    "\n",
    "# Initialize the CLTK Latin tokenizer\n",
    "tokenizer = WordTokenizer(\"latin\")\n",
    "\n",
    "# Initialize a list to store token lengths\n",
    "text_lengths = list()\n",
    "filenames = list()\n",
    "\n",
    "\n",
    "# Loop through each text file in the directory\n",
    "for filename in os.listdir(directory):\n",
    "    if filename.endswith(\".txt\"):\n",
    "        file_path = os.path.join(directory, filename)\n",
    "        with open(file_path, \"r\", encoding=\"utf-8\") as file:\n",
    "            text = file.read()\n",
    "            tokens = tokenizer.tokenize(text)\n",
    "            text_length = len(tokens)\n",
    "            text_lengths.append(text_length)\n",
    "            filenames.append((filename, text_length))  # Store filename and text length"
   ]
  },
  {
   "cell_type": "code",
   "execution_count": 74,
   "id": "f4670b45-66bd-4746-85d0-f5bc744c504b",
   "metadata": {},
   "outputs": [
    {
     "data": {
      "image/png": "[encoded data removed]",
      "text/plain": [
       "<Figure size 640x480 with 1 Axes>"
      ]
     },
     "metadata": {},
     "output_type": "display_data"
    }
   ],
   "source": [
    "sns.set_palette(\"colorblind\")\n",
    "\n",
    "# violin plot of token lengths that is filled with inner points\n",
    "sns.violinplot(x=text_lengths, fill=False, inner=\"point\")\n",
    "plt.xlabel(\"Text Length\")\n",
    "plt.title(\"Violin Plot of Text Lengths in the main corpus\")\n",
    "# Show the plot\n",
    "plt.show()"
   ]
  },
  {
   "cell_type": "code",
   "execution_count": 120,
   "id": "681a3d74-66e8-4b86-bb4e-a64db347600b",
   "metadata": {},
   "outputs": [
    {
     "name": "stdout",
     "output_type": "stream",
     "text": [
      "Persius Sati 4 :\t 424 tokens \n",
      "\n",
      "Persius Sati 2 :\t 644 tokens \n",
      "\n",
      "Persius Sati 6 :\t 711 tokens \n",
      "\n",
      "Ovid Medicam :\t 747 tokens \n",
      "\n",
      "Persius Sati 3 :\t 1069 tokens \n",
      "\n",
      "\n",
      "\n",
      "Ovid Ponto :\t 26661 tokens \n",
      "\n",
      "Ovid Tristia :\t 28693 tokens \n",
      "\n",
      "Ovid Epist :\t 32529 tokens \n",
      "\n",
      "Ovid Fasti :\t 39064 tokens \n",
      "\n",
      "Ovid Meta :\t 97721 tokens \n",
      "\n"
     ]
    }
   ],
   "source": [
    "# Sort filenames and their corresponding text lengths in ascending order based on length\n",
    "sorted_files = sorted(zip(filenames, text_lengths), key=lambda x: x[1])\n",
    "\n",
    "# Unzip the sorted pairs to separate filenames and lengths\n",
    "sorted_filenames, sorted_lengths = zip(*sorted_files)\n",
    "\n",
    "\n",
    "# print the 5 first shortest texts\n",
    "for filename, text_length in sorted_filenames[:5]:\n",
    "    filename = os.path.splitext(filename)[0].replace(\"_\", \" \").title()\n",
    "    print(filename, \":\\t\", text_length, \"tokens\", \"\\n\")\n",
    "\n",
    "print(\"\\n\")\n",
    "# print the 5 longest texts\n",
    "for filename, text_length in sorted_filenames[-5::]:\n",
    "    filename = os.path.splitext(filename)[0].replace(\"_\", \" \").title()\n",
    "    print(filename, \":\\t\", text_length, \"tokens\", \"\\n\")"
   ]
  },
  {
   "cell_type": "markdown",
   "id": "82a63cb1-40a3-4ed9-a24b-6db2f02a69bd",
   "metadata": {},
   "source": [
    "Given the distribution of the length of the texts in the main corpus, there are some texts that behave as outliers. For example, on the violinplot someone can clearly see that Ovid's text, *Metamorphoses*, has almost 98k words, a size that creates a huge distance from the rest of the texts. On the other hand, some of Persius' Satires (specifically *Satire* 2, 4, and 6) have 644, 424, 711 tokens respectively, therefore they can also be removed from the dataset in order to create more stable examples.\n",
    "\n",
    "(the idea behind the removal of the texts in order to create a more stable corpus to compare with the disputed texts come from Cafiero and Camps' paper (2019), *Why Molière most likely did write his plays*, Science Advances)."
   ]
  }
 ],
 "metadata": {
  "kernelspec": {
   "display_name": "Python 3 (ipykernel)",
   "language": "python",
   "name": "python3"
  },
  "language_info": {
   "codemirror_mode": {
    "name": "ipython",
    "version": 3
   },
   "file_extension": ".py",
   "mimetype": "text/x-python",
   "name": "python",
   "nbconvert_exporter": "python",
   "pygments_lexer": "ipython3",
   "version": "3.11.5"
  },
  "toc": {
   "base_numbering": 1,
   "nav_menu": {},
   "number_sections": true,
   "sideBar": true,
   "skip_h1_title": false,
   "title_cell": "Table of Contents",
   "title_sidebar": "Contents",
   "toc_cell": false,
   "toc_position": {},
   "toc_section_display": true,
   "toc_window_display": false
  },
  "varInspector": {
   "cols": {
    "lenName": 16,
    "lenType": 16,
    "lenVar": 40
   },
   "kernels_config": {
    "python": {
     "delete_cmd_postfix": "",
     "delete_cmd_prefix": "del ",
     "library": "var_list.py",
     "varRefreshCmd": "print(var_dic_list())"
    },
    "r": {
     "delete_cmd_postfix": ") ",
     "delete_cmd_prefix": "rm(",
     "library": "var_list.r",
     "varRefreshCmd": "cat(var_dic_list()) "
    }
   },
   "types_to_exclude": [
    "module",
    "function",
    "builtin_function_or_method",
    "instance",
    "_Feature"
   ],
   "window_display": false
  }
 },
 "nbformat": 4,
 "nbformat_minor": 5
}

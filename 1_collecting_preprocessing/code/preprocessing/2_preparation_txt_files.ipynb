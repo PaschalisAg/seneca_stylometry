{
 "cells": [
  {
   "cell_type": "raw",
   "id": "0bc7b50a",
   "metadata": {},
   "source": [
    "---\n",
    "title: Preprocessing of the text files (Authorship Verification Seneca)\n",
    "author: Paschalis Agapitos\n",
    "---"
   ]
  },
  {
   "cell_type": "markdown",
   "id": "0d06e28f-bfe8-472a-8972-1d2982a5d410",
   "metadata": {},
   "source": [
    "# Import libraries and define functions"
   ]
  },
  {
   "cell_type": "code",
   "execution_count": 31,
   "id": "e2256d95-bea0-4e82-8428-586f9bf2b00a",
   "metadata": {},
   "outputs": [],
   "source": [
    "from pathlib import Path\n",
    "import re\n",
    "import os\n",
    "from os.path import basename\n",
    "\n",
    "def read_file(filepath):\n",
    "    \"\"\"\n",
    "    Reads the content of a file.\n",
    "    \n",
    "    Args:\n",
    "        filepath (Path): Path to the file.\n",
    "        \n",
    "    Returns:\n",
    "        str: Content of the file.\n",
    "    \"\"\"\n",
    "    with filepath.open('r', encoding='utf-8') as inp:\n",
    "        return inp.read()\n",
    "\n",
    "def remove_digits(text):\n",
    "    \"\"\"\n",
    "    Removes digits from the given text.\n",
    "    \n",
    "    Args:\n",
    "        text (str): Input text.\n",
    "        \n",
    "    Returns:\n",
    "        str: Text without digits.\n",
    "    \"\"\"\n",
    "    return re.sub(r'\\d', '', text)\n",
    "\n",
    "def check_dir_exists(directory_path):\n",
    "    \"\"\"\n",
    "    Checks if a directory exists and creates it if it does not.\n",
    "    \n",
    "    Args:\n",
    "        directory_path (str): Path to the directory.\n",
    "        \n",
    "    Returns:\n",
    "        str: Directory path.\n",
    "    \"\"\"\n",
    "    if not os.path.exists(directory_path):\n",
    "        os.makedirs(directory_path, exist_ok=True)\n",
    "        print(\"New directory created!\")\n",
    "    else:\n",
    "        print(\"Directory already exists.\")\n",
    "    return directory_path\n",
    "\n",
    "def write_txt(text_list, author, title):\n",
    "    \"\"\"\n",
    "    Writes each text in the list to a separate file.\n",
    "    \n",
    "    Args:\n",
    "        text_list (list): List of texts.\n",
    "        author (str): Author of the texts.\n",
    "        title (str): Title of the text.\n",
    "    \"\"\"\n",
    "    directory_path = check_dir_exists(Path('../data/verse_corpus/'))\n",
    "    for i, book in enumerate(text_list, start=1):\n",
    "        filename = directory_path / f'{author}_{title}_{i}.txt'\n",
    "        with filename.open('w', encoding='utf-8') as out:\n",
    "            out.write(book.strip())\n",
    "    print(\"Text files written to the directory.\")\n",
    "\n",
    "def write_txt_no_loop(text, author, title):\n",
    "    \"\"\"\n",
    "    Writes the text to a single file.\n",
    "    \n",
    "    Args:\n",
    "        text (str): Input text.\n",
    "        author (str): Author of the text.\n",
    "        title (str): Title of the text.\n",
    "        \n",
    "    Returns:\n",
    "        str: Confirmation message.\n",
    "    \"\"\"\n",
    "    directory_path = check_dir_exists(Path('../data/verse_corpus/'))\n",
    "    filename = directory_path / f'{author}_{title}.txt'\n",
    "    with filename.open('w', encoding='utf-8') as out:\n",
    "        out.write(text)\n",
    "    return \"The file has been written to the directory.\"\n",
    "\n",
    "def write_different_titles(list_, author, title):\n",
    "    \"\"\"\n",
    "    Writes texts to separate files with different titles.\n",
    "    \n",
    "    Args:\n",
    "        list_ (list): List of texts.\n",
    "        author (str): Author of the texts.\n",
    "        titles (list): List of titles for the texts.\n",
    "        \n",
    "    Returns:\n",
    "        str: Confirmation message.\n",
    "    \"\"\"\n",
    "    directory_path = check_dir_exists('../data/verse_corpus/')\n",
    "    for n, book in enumerate(list_):\n",
    "        # for title, book in zip(title, list_):\n",
    "        filename = f'{directory_path}{author}_{title[n]}.txt'\n",
    "        with open(filename, 'w', encoding='utf-8') as out:\n",
    "            out.write(book.strip())\n",
    "    return \"The files have been written to the appointed directory\"\n",
    "\n",
    "def remove_personae(filepath):\n",
    "    \"\"\"\n",
    "    Removes character names (personae) from the text.\n",
    "\n",
    "    Args:\n",
    "        filepath (Path): Path to the file.\n",
    "        \n",
    "    Returns:\n",
    "        str: Text without character names.\n",
    "    \"\"\"\n",
    "    words_not_to_remove = [\"spectemus.\", \"spectate.\", \"adeste.\", \"occidam.\", \"renavigari.\", \"puto.\", \"tibi.\",\n",
    "                           \"quod.\", \"'immane.\", \"eructat.\", \"gemuere.\", \"eatur.\", \"adeste.\", \"nihil.\", \"certos.\",\n",
    "                           \"docet.\", \"occidam.\", \"nefas.\", \"quo.\", \"pulsabis.\", \"arsisti.\", \"distendit.\", \"iam.\",\n",
    "                           \"sibi.\", \"simul.\", \"tamen.\", \"age.\", \"Neronis\", \"inquirite.\", \"non.\", \"aequas.\",\n",
    "                           \"vincatur.\", \"ascribo.\", \"concipiat.\", \"novetur.\", \"effare.\", \"prius.\", \"donis.\",\n",
    "                           \"scelus.\", \"supplicis.\", \"oblitterentur.\", \"timemur.\", \"canitque.\", \"peragite.\",\n",
    "                           \"malum.\", \"Phoebusque.\", \"demissa.\"]\n",
    "\n",
    "    text_no_digits = remove_digits(read_file(filepath)).replace(\n",
    "        \".\", \". \").split('\\t\\n')[1:]  # split the text from personae and add \". \" every time a dot occurs\n",
    "    personae = read_file(filepath).strip().split('\\t\\n')[0].split()\n",
    "    text_lines = \" \".join(text_no_digits).strip().split(\"\\n\")\n",
    "    for line in text_lines:\n",
    "        if line:  # check if line is not empty\n",
    "            first_token = line.split(maxsplit=1)\n",
    "            if len(first_token) >= 2 and first_token[1].startswith(\"(\"):\n",
    "                continue\n",
    "            if first_token and first_token[0].endswith(\".\"):\n",
    "                personae.append(first_token[0])\n",
    "    personae_set = set(personae) - set(words_not_to_remove)\n",
    "    result = \"\\n\".join([\" \".join([token for token in line.split() if token not in personae_set]) for line in text_lines])\n",
    "    return result\n",
    "\n",
    "def remove_titles(text):\n",
    "    \"\"\"\n",
    "    Removes specified titles from the text.\n",
    "    \n",
    "    Args:\n",
    "        text (str): Input text.\n",
    "        \n",
    "    Returns:\n",
    "        str: Text without the specified titles.\n",
    "    \"\"\"\n",
    "    titles_to_remove = [...]  # Your list of titles\n",
    "    for title in titles_to_remove:\n",
    "        text = text.replace(title, '')\n",
    "    return text\n",
    "\n",
    "def remove_latin_numbering(text):\n",
    "    \"\"\"\n",
    "    Removes Latin numerals from the text.\n",
    "    \n",
    "    Args:\n",
    "        text (str): Input text.\n",
    "        \n",
    "    Returns:\n",
    "        str: Text without Latin numerals.\n",
    "    \"\"\"\n",
    "    pattern = r\"\\b(?=[MDCLXVIΙ])M{0,4}(CM|CD|D?C{0,3})(XC|XL|L?X{0,3})([IΙ]X|[IΙ]V|V?[IΙ]{0,3})\\b\\.?\"\n",
    "    return re.sub(pattern, '', text)"
   ]
  },
  {
   "cell_type": "markdown",
   "id": "0f9b47f7",
   "metadata": {},
   "source": [
    "# M. Annaeus Lucanus, *Pharsalia*"
   ]
  },
  {
   "cell_type": "code",
   "execution_count": 2,
   "id": "f8593fe2",
   "metadata": {
    "ExecuteTime": {
     "end_time": "2023-02-26T16:26:22.171066Z",
     "start_time": "2023-02-26T16:26:22.158172Z"
    }
   },
   "outputs": [
    {
     "name": "stdout",
     "output_type": "stream",
     "text": [
      "Directory already exists.\n",
      "Text files written to the directory.\n"
     ]
    }
   ],
   "source": [
    "# read the text file\n",
    "pharsalia_path = Path(\"../data/corpus_perseus_txt/luc_phar.txt\")\n",
    "pharsalia = read_file(pharsalia_path)\n",
    "\n",
    "# two consecutive new lines indicate a book boundary in Pharsalia\n",
    "# splitting using this delimiter will allow us to distinguish the books\n",
    "pharsalia = pharsalia.split('\\n\\n')\n",
    "\n",
    "# write texts\n",
    "write_txt(pharsalia, author='luc', title='phars')"
   ]
  },
  {
   "cell_type": "markdown",
   "id": "0497ced1",
   "metadata": {},
   "source": [
    "# Ovid, *Amores, Ars Amatoria, Epistulae (vel Heroides), Medicamina faciei femineae, Ars amatoria, Remedia amoris*"
   ]
  },
  {
   "cell_type": "code",
   "execution_count": 11,
   "id": "dccb6abe",
   "metadata": {
    "ExecuteTime": {
     "end_time": "2023-02-26T16:26:22.182529Z",
     "start_time": "2023-02-26T16:26:22.175783Z"
    }
   },
   "outputs": [
    {
     "name": "stdout",
     "output_type": "stream",
     "text": [
      "Directory already exists.\n"
     ]
    },
    {
     "data": {
      "text/plain": [
       "'The files have been written to the appointed directory'"
      ]
     },
     "execution_count": 11,
     "metadata": {},
     "output_type": "execute_result"
    }
   ],
   "source": [
    "# read the text file\n",
    "ovid_am_path = Path(\"../data/corpus_perseus_txt/ovid_am.txt\")\n",
    "ovid_am = read_file(ovid_am_path)\n",
    "\n",
    "# two consecutive new lines show limit its book in ovid\n",
    "# (these two lines were added manually after the removal of the titles)\n",
    "ovid_works = ovid_am.split('\\n\\n')\n",
    "\n",
    "# ovid_books = list(filter(lambda x: x and x.strip(), ovid_books))\n",
    "# equivalent to: [book for book in books if book != None]\n",
    "# and list(filter(lambda x: x.strip(), ovid_books))\n",
    "# x on its own checks if value is truth (i.e., not None)\n",
    "write_different_titles(ovid_works, author='ovid', title=[\n",
    "    'am', 'epist', 'medicam', 'ars', 'remed'])"
   ]
  },
  {
   "cell_type": "markdown",
   "id": "1b5de05d",
   "metadata": {},
   "source": [
    "# Ovid, *Fasti*"
   ]
  },
  {
   "cell_type": "code",
   "execution_count": 4,
   "id": "171605d2",
   "metadata": {
    "ExecuteTime": {
     "end_time": "2023-02-26T16:26:22.218129Z",
     "start_time": "2023-02-26T16:26:22.209198Z"
    }
   },
   "outputs": [
    {
     "name": "stdout",
     "output_type": "stream",
     "text": [
      "Directory already exists.\n"
     ]
    },
    {
     "data": {
      "text/plain": [
       "'The file has been written to the directory.'"
      ]
     },
     "execution_count": 4,
     "metadata": {},
     "output_type": "execute_result"
    }
   ],
   "source": [
    "fasti_path = Path(\"../data/corpus_perseus_txt/ovid_fast.txt\")\n",
    "fasti = read_file(fasti_path)\n",
    "\n",
    "# remove numbers that remained in the text as broken links\n",
    "fasti = re.sub(r'\\d', \"\", fasti)\n",
    "write_txt_no_loop(fasti, author='ovid', title='fasti')"
   ]
  },
  {
   "cell_type": "markdown",
   "id": "2220efcb",
   "metadata": {},
   "source": [
    "# Ovid, *Metamorphoses*"
   ]
  },
  {
   "cell_type": "code",
   "execution_count": 12,
   "id": "27aeb4d1",
   "metadata": {
    "ExecuteTime": {
     "end_time": "2023-02-26T16:26:22.244199Z",
     "start_time": "2023-02-26T16:26:22.233949Z"
    }
   },
   "outputs": [
    {
     "name": "stdout",
     "output_type": "stream",
     "text": [
      "Directory already exists.\n"
     ]
    },
    {
     "data": {
      "text/plain": [
       "'The file has been written to the directory.'"
      ]
     },
     "execution_count": 12,
     "metadata": {},
     "output_type": "execute_result"
    }
   ],
   "source": [
    "metamorphoses_path = Path(\"../data/corpus_perseus_txt/ovid_met.txt\")\n",
    "metamorphoses = read_file(metamorphoses_path)\n",
    "\n",
    "# nothing needs to be done so just write\n",
    "write_txt_no_loop(metamorphoses, author='ovid', title='meta')"
   ]
  },
  {
   "cell_type": "markdown",
   "id": "db6f1943",
   "metadata": {},
   "source": [
    "# Ovid, *Ex Ponto*"
   ]
  },
  {
   "cell_type": "code",
   "execution_count": 15,
   "id": "7bf16cff",
   "metadata": {
    "ExecuteTime": {
     "end_time": "2023-02-26T16:26:22.271308Z",
     "start_time": "2023-02-26T16:26:22.258167Z"
    }
   },
   "outputs": [
    {
     "name": "stdout",
     "output_type": "stream",
     "text": [
      "Directory already exists.\n"
     ]
    },
    {
     "data": {
      "text/plain": [
       "'The file has been written to the directory.'"
      ]
     },
     "execution_count": 15,
     "metadata": {},
     "output_type": "execute_result"
    }
   ],
   "source": [
    "ponto_path = Path(\"../data/corpus_perseus_txt/ovid_pont.txt\")\n",
    "ponto = read_file(ponto_path).strip('Ex Ponto')\n",
    "\n",
    "# remove digits as footnotes inside the text\n",
    "ponto = remove_digits(ponto)\n",
    "\n",
    "# write file\n",
    "write_txt_no_loop(ponto, author='ovid', title='ponto')"
   ]
  },
  {
   "cell_type": "markdown",
   "id": "7cf8406d",
   "metadata": {},
   "source": [
    "# Ovid, *Tristia*"
   ]
  },
  {
   "cell_type": "code",
   "execution_count": 16,
   "id": "016787d4",
   "metadata": {
    "ExecuteTime": {
     "end_time": "2023-02-26T16:26:22.299947Z",
     "start_time": "2023-02-26T16:26:22.288251Z"
    }
   },
   "outputs": [
    {
     "name": "stdout",
     "output_type": "stream",
     "text": [
      "Directory already exists.\n"
     ]
    },
    {
     "data": {
      "text/plain": [
       "'The file has been written to the directory.'"
      ]
     },
     "execution_count": 16,
     "metadata": {},
     "output_type": "execute_result"
    }
   ],
   "source": [
    "tristia_path = Path('../data/corpus_perseus_txt/ovid_tr.txt')\n",
    "tristia = read_file(tristia_path)\n",
    "\n",
    "# remove digits, if any\n",
    "tristia = str(remove_digits(tristia))\n",
    "\n",
    "# manually remove all the comments that were inside the text\n",
    "write_txt_no_loop(tristia, author='ovid', title='tristia')"
   ]
  },
  {
   "cell_type": "markdown",
   "id": "0a1ac436",
   "metadata": {},
   "source": [
    "# Ovid, *Ibis*"
   ]
  },
  {
   "cell_type": "code",
   "execution_count": 17,
   "id": "3598e6a5",
   "metadata": {
    "ExecuteTime": {
     "end_time": "2023-02-26T16:26:22.330406Z",
     "start_time": "2023-02-26T16:26:22.319857Z"
    }
   },
   "outputs": [
    {
     "name": "stdout",
     "output_type": "stream",
     "text": [
      "Directory already exists.\n"
     ]
    },
    {
     "data": {
      "text/plain": [
       "'The file has been written to the directory.'"
      ]
     },
     "execution_count": 17,
     "metadata": {},
     "output_type": "execute_result"
    }
   ],
   "source": [
    "ibis_path = Path(\"../data/corpus_perseus_txt/ovid_ibis.txt\")\n",
    "ibis = read_file(ibis_path).replace(\">\", \"\").replace(\"  \", \"\\n\").strip()\n",
    "\n",
    "# check if there are numbers from the lines or as hypernotes\n",
    "ibis = remove_digits(ibis)\n",
    "\n",
    "# write the file\n",
    "write_txt_no_loop(ibis, author='ovid', title='ibis')"
   ]
  },
  {
   "cell_type": "markdown",
   "id": "57704314",
   "metadata": {},
   "source": [
    "# Persius, *Satires*"
   ]
  },
  {
   "cell_type": "code",
   "execution_count": 18,
   "id": "75f3031f",
   "metadata": {
    "ExecuteTime": {
     "end_time": "2023-02-26T16:26:22.366829Z",
     "start_time": "2023-02-26T16:26:22.354519Z"
    }
   },
   "outputs": [
    {
     "name": "stdout",
     "output_type": "stream",
     "text": [
      "Directory already exists.\n",
      "Text files written to the directory.\n"
     ]
    }
   ],
   "source": [
    "satires_path = Path(\"../data/corpus_perseus_txt/persius_sat.txt\")\n",
    "satires = read_file(satires_path)\n",
    "\n",
    "# remove forgotten line numbers or comments\n",
    "satires = remove_digits(satires)\n",
    "\n",
    "# split to individual satires ('\\n\\n')\n",
    "satires = satires.split('\\n\\n')\n",
    "\n",
    "write_txt(satires, author='persius', title='sati')"
   ]
  },
  {
   "cell_type": "markdown",
   "id": "b2affd39",
   "metadata": {},
   "source": [
    "# Seneca,"
   ]
  },
  {
   "cell_type": "code",
   "execution_count": 19,
   "id": "aafdb3a6",
   "metadata": {
    "ExecuteTime": {
     "end_time": "2023-04-02T09:16:12.737477Z",
     "start_time": "2023-04-02T09:16:12.656395Z"
    }
   },
   "outputs": [
    {
     "name": "stdout",
     "output_type": "stream",
     "text": [
      "Directory already exists.\n",
      "Directory already exists.\n",
      "Directory already exists.\n",
      "Directory already exists.\n",
      "Directory already exists.\n",
      "Directory already exists.\n",
      "Directory already exists.\n",
      "Directory already exists.\n",
      "Directory already exists.\n",
      "Directory already exists.\n"
     ]
    }
   ],
   "source": [
    "# iterate over all files matching the pattern\n",
    "for filepath in Path(\"../data/corpus_perseus_txt/\").glob(\"sen_*.txt\"):\n",
    "    text_no_personae = remove_personae(filepath)\n",
    "    # extract the author and title from the filename\n",
    "    title = filepath.stem.split(\"_\", 1)[1]\n",
    "    author = filepath.stem.split(\"_\", 1)[0]\n",
    "    # write the cleaned text to a file\n",
    "    write_txt_no_loop(text_no_personae, author=author, title=title)"
   ]
  },
  {
   "cell_type": "markdown",
   "id": "9ec1d911",
   "metadata": {},
   "source": [
    "# Silius Italicus , *Punica*"
   ]
  },
  {
   "cell_type": "code",
   "execution_count": 20,
   "id": "017ea068",
   "metadata": {
    "ExecuteTime": {
     "end_time": "2023-02-26T16:26:22.585171Z",
     "start_time": "2023-02-26T16:26:22.532039Z"
    }
   },
   "outputs": [
    {
     "name": "stdout",
     "output_type": "stream",
     "text": [
      "Directory already exists.\n",
      "Text files written to the directory.\n"
     ]
    }
   ],
   "source": [
    "punica_path = Path(\"../data/corpus_perseus_txt/silius_punica.txt\")\n",
    "punica = remove_digits(\n",
    "    read_file(punica_path))[7:].replace(\"  \", \"\\n\").strip().split(\"\\n\\n\\n\")\n",
    "# [7:] because the first line has the word Punica (i.e., the title of the work, thus it can be removed)\n",
    "\n",
    "# write the files\n",
    "write_txt(punica, author=\"sil.ita\", title=\"pun\")"
   ]
  },
  {
   "cell_type": "markdown",
   "id": "8fcc2fe1",
   "metadata": {},
   "source": [
    "# Statius, *Achilleis*"
   ]
  },
  {
   "cell_type": "code",
   "execution_count": 23,
   "id": "0caf1f77",
   "metadata": {
    "ExecuteTime": {
     "end_time": "2023-02-26T16:26:22.612561Z",
     "start_time": "2023-02-26T16:26:22.592464Z"
    }
   },
   "outputs": [
    {
     "name": "stdout",
     "output_type": "stream",
     "text": [
      "Directory already exists.\n"
     ]
    },
    {
     "data": {
      "text/plain": [
       "'The file has been written to the directory.'"
      ]
     },
     "execution_count": 23,
     "metadata": {},
     "output_type": "execute_result"
    }
   ],
   "source": [
    "achilleid_path = Path(\"../data/corpus_perseus_txt/stat_achill.txt\")\n",
    "achilleid = remove_digits(\n",
    "    read_file(achilleid_path)).replace(\"  \", \"\\n\")\n",
    "\n",
    "# write file\n",
    "write_txt_no_loop(achilleid, author=\"stat\", title=\"achill\")"
   ]
  },
  {
   "cell_type": "markdown",
   "id": "10bc3f3a",
   "metadata": {},
   "source": [
    "# Statius, *Silvae*"
   ]
  },
  {
   "cell_type": "code",
   "execution_count": 24,
   "id": "a170dd69",
   "metadata": {
    "ExecuteTime": {
     "end_time": "2023-02-26T16:26:22.642923Z",
     "start_time": "2023-02-26T16:26:22.620107Z"
    }
   },
   "outputs": [
    {
     "name": "stdout",
     "output_type": "stream",
     "text": [
      "Directory already exists.\n",
      "Text files written to the directory.\n"
     ]
    }
   ],
   "source": [
    "silvae_path = Path(\"../data/corpus_perseus_txt/stat_silvae.txt\")\n",
    "silvae = remove_digits(\n",
    "    read_file(silvae_path)).strip().split(\"\\n\\n\\n\")\n",
    "\n",
    "# write separate files to test Ferri's hypothesis\n",
    "write_txt(silvae, author=\"stat\", title=\"silv\")"
   ]
  },
  {
   "cell_type": "markdown",
   "id": "27b9e2ab",
   "metadata": {},
   "source": [
    "# Statius, *Thebais*"
   ]
  },
  {
   "cell_type": "code",
   "execution_count": 25,
   "id": "11c4c52b",
   "metadata": {
    "ExecuteTime": {
     "end_time": "2023-02-26T16:26:22.692335Z",
     "start_time": "2023-02-26T16:26:22.648573Z"
    }
   },
   "outputs": [
    {
     "name": "stdout",
     "output_type": "stream",
     "text": [
      "Directory already exists.\n",
      "Text files written to the directory.\n"
     ]
    }
   ],
   "source": [
    "thebais_path = Path(\"../data/corpus_perseus_txt/stat_theb.txt\")\n",
    "thebais = remove_digits(\n",
    "    read_file(thebais_path)).strip().split(\"\\n\\n\")\n",
    "\n",
    "# write separate files\n",
    "write_txt(thebais, author=\"stat\", title=\"theb\")"
   ]
  },
  {
   "cell_type": "markdown",
   "id": "5724f630",
   "metadata": {},
   "source": [
    "# Valerius Flaccus, *Argonautica*"
   ]
  },
  {
   "cell_type": "code",
   "execution_count": 26,
   "id": "ae2f41cf",
   "metadata": {
    "ExecuteTime": {
     "end_time": "2023-02-26T16:26:22.729509Z",
     "start_time": "2023-02-26T16:26:22.699346Z"
    }
   },
   "outputs": [
    {
     "name": "stdout",
     "output_type": "stream",
     "text": [
      "Directory already exists.\n",
      "Text files written to the directory.\n"
     ]
    }
   ],
   "source": [
    "argonautica_path = Path(\"../data/corpus_perseus_txt/valflac_argo.txt\")\n",
    "argonautica = remove_digits(\n",
    "    read_file(argonautica_path)).strip().split(\"\\n\\n\\n\")\n",
    "\n",
    "write_txt(argonautica, author=\"valflac\", title=\"argon\")"
   ]
  },
  {
   "cell_type": "markdown",
   "id": "740c5140",
   "metadata": {},
   "source": [
    "# Phaedrus, *Fables*"
   ]
  },
  {
   "cell_type": "code",
   "execution_count": 33,
   "id": "069d7ba0-e576-4884-944d-316fc897474b",
   "metadata": {},
   "outputs": [],
   "source": [
    "fables_path = Path('../data/corpus_perseus_txt/phaed_fables.txt')\n",
    "clean_fables = remove_titles(fables_path).split('\\n\\n')  # split into books\n",
    "\n",
    "# write each book to an individual file\n",
    "write_txt(clean_fables, author='phaed', title='fables')"
   ]
  },
  {
   "cell_type": "markdown",
   "id": "bef1983e",
   "metadata": {},
   "source": [
    "# Manilius, *Astronomica*"
   ]
  },
  {
   "cell_type": "code",
   "execution_count": 32,
   "id": "d148a9d8",
   "metadata": {
    "ExecuteTime": {
     "end_time": "2023-02-26T16:29:58.021168Z",
     "start_time": "2023-02-26T16:29:57.996109Z"
    }
   },
   "outputs": [
    {
     "name": "stdout",
     "output_type": "stream",
     "text": [
      "Directory already exists.\n",
      "Directory already exists.\n",
      "Directory already exists.\n",
      "Directory already exists.\n",
      "Directory already exists.\n"
     ]
    }
   ],
   "source": [
    "# loop over each file that follows the pattern manil.astro_*.txt\n",
    "for filename in Path(\"../data/corpus_perseus_txt/\").glob(\"manil.astro_*.txt\"):\n",
    "    astronomica = remove_digits(read_file(filename)).splitlines()[11:-11]\n",
    "    # removes digits within the text,\n",
    "    # split into lines to remove lines added by The Latin Library editors using index\n",
    "    # join into a string to be able to write the whole poem and not lines\n",
    "    astronomica = \"\\n\".join(astronomica)\n",
    "    author = os.path.splitext(basename(filename))[0].split(\n",
    "        \".\", 1)[0]  # extract the author name from the path\n",
    "    title = os.path.splitext(basename(filename))[0].split(\n",
    "        \".\", 1)[1]  # extract the title name from the path\n",
    "    # write books to individual txt files\n",
    "    write_txt_no_loop(astronomica, author=author, title=title)"
   ]
  },
  {
   "cell_type": "markdown",
   "id": "e5ab723e-4f89-495f-8240-96b170bf1560",
   "metadata": {},
   "source": [
    "# Martial, *Epigrammata*"
   ]
  },
  {
   "cell_type": "code",
   "execution_count": 34,
   "id": "22d44baa-d01a-4470-859c-25f807134865",
   "metadata": {},
   "outputs": [
    {
     "name": "stdout",
     "output_type": "stream",
     "text": [
      "Directory already exists.\n",
      "Text files written to the directory.\n"
     ]
    }
   ],
   "source": [
    "martial_path = Path(\"../../collection_data/data/corpus_perseus_txt/martial_lat_.txt\")\n",
    "martial = read_file(martial_path)\n",
    "books = martial.split(\"\\n\\n\")\n",
    "processed_books = [remove_latin_numbering(book) for book in books]\n",
    "if len(processed_books) == 14:\n",
    "    # write each book to a separate file with continued numbering\n",
    "    write_txt(processed_books, author='martial', title='epigr')"
   ]
  }
 ],
 "metadata": {
  "kernelspec": {
   "display_name": "Python 3 (ipykernel)",
   "language": "python",
   "name": "python3"
  },
  "language_info": {
   "codemirror_mode": {
    "name": "ipython",
    "version": 3
   },
   "file_extension": ".py",
   "mimetype": "text/x-python",
   "name": "python",
   "nbconvert_exporter": "python",
   "pygments_lexer": "ipython3",
   "version": "3.11.7"
  },
  "toc": {
   "base_numbering": 1,
   "nav_menu": {},
   "number_sections": true,
   "sideBar": true,
   "skip_h1_title": false,
   "title_cell": "Table of Contents",
   "title_sidebar": "Contents",
   "toc_cell": false,
   "toc_position": {},
   "toc_section_display": true,
   "toc_window_display": false
  },
  "varInspector": {
   "cols": {
    "lenName": 16,
    "lenType": 16,
    "lenVar": 40
   },
   "kernels_config": {
    "python": {
     "delete_cmd_postfix": "",
     "delete_cmd_prefix": "del ",
     "library": "var_list.py",
     "varRefreshCmd": "print(var_dic_list())"
    },
    "r": {
     "delete_cmd_postfix": ") ",
     "delete_cmd_prefix": "rm(",
     "library": "var_list.r",
     "varRefreshCmd": "cat(var_dic_list()) "
    }
   },
   "types_to_exclude": [
    "module",
    "function",
    "builtin_function_or_method",
    "instance",
    "_Feature"
   ],
   "window_display": false
  }
 },
 "nbformat": 4,
 "nbformat_minor": 5
}







import os
import re
from glob import glob
from os.path import basename, splitext

def read_file(filepath):
    """
    Reads the content of a file.
    
    Args:
        filepath (str): Path to the file.
        
    Returns:
        str: Content of the file.
    """
    with open(filepath, 'r', encoding='utf-8') as inp:
        return inp.read()

def remove_digits(text):
    """
    Removes digits from the given text.
    
    Args:
        text (str): Input text.
        
    Returns:
        str: Text without digits.
    """
    if re.search(r'\d', text):
        return re.sub(r'\d', '', text)
    return text


def check_dir_exists(directory_path):
    """
    Checks if a directory exists and creates it if it does not.
    
    Args:
        directory_path (str): Path to the directory.
        
    Returns:
        str: Directory path.
    """
    if not os.path.exists(directory_path):
        os.makedirs(directory_path, exist_ok=True)
        print("New directory created!")
    else:
        print("Directory already exists.")
    return directory_path

def write_txt(text_list, author, title):
    """
    Writes each text in the list to a separate file.
    
    Args:
        text_list (list): List of texts.
        author (str): Author of the texts.
        title (str): Title of the text.
    """
    directory_path = check_dir_exists('../data/verse_corpus/')
    for i, book in enumerate(text_list, start=1):
        filename = f'{directory_path}{author}_{title}_{i}.txt'
        with open(filename, 'w', encoding='utf-8') as out:
            out.write(book.strip())
    print("Text files written to the directory.")

def write_txt_no_loop(text, author, title):
    """
    Writes the text to a single file.
    
    Args:
        text (str): Input text.
        author (str): Author of the text.
        title (str): Title of the text.
        
    Returns:
        str: Confirmation message.
    """
    directory_path = check_dir_exists('../data/verse_corpus/')
    filename = f'{directory_path}{author}_{title}.txt'
    with open(filename, 'w', encoding='utf-8') as out:
        out.write(text)
    return "The file has been written to the directory."

def write_different_titles(list_, author, title):
    """
    Writes texts to separate files with different titles.
    
    Args:
        list_ (list): List of texts.
        author (str): Author of the texts.
        titles (list): List of titles for the texts.
        
    Returns:
        str: Confirmation message.
    """
    directory_path = check_dir_exists('../data/verse_corpus/')
    for n, book in enumerate(list_):
        # for title, book in zip(title, list_):
        filename = f'{directory_path}{author}_{title[n]}.txt'
        with open(filename, 'w', encoding='utf-8') as out:
            out.write(book.strip())
    return "The files have been written to the appointed directory"

def remove_personae(filename):
    """
    Removes character names (personae) from the text.

    Args:
        filename (str): Path to the file.
        
    Returns:
        str: Text without character names.
    """
    # words not to be removed from the text because they are essential part of it
    words_not_to_remove = ["spectemus.", "spectate.", "adeste.", "occidam.", "renavigari." "puto.", "tibi.",
                           "quod.", "'immane.", "eructat.", "gemuere.", "eatur.", "adeste.", "nihil.", "certos.",
                           "docet.", "occidam.", "nefas.", "quo.", "pulsabis.", "arsisti.", "distendit.", "iam.",
                           "sibi.", "simul.", "tamen.", "age.", "Neronis", "inquirite.", "non.", "aequas.",
                           "vincatur.", "ascribo.", "concipiat.", "novetur.", "effare.", "prius.", "donis.",
                           "scelus.", "supplicis.", "oblitterentur.", "timemur.", "canitque.", "peragite.",
                           "malum.", "Phoebusque.", "demissa."]

    text_no_digits = remove_digits(read_file(filename)).replace(
        ".", ". ").split('\t\n')[1:]  # split the text from personae and add ". " every time a dot occurs
    # this will help us to distinguish easier some lines from personae that were not properly formatted
    personae = read_file(filename).strip().split('\t\n')[0].split()
    text_lines = " ".join(text_no_digits).strip().split("\n")
    for line in text_lines:
        if line:  # check if line is not empty
            # one split at the beginning of each line
            first_token = line.split(maxsplit=1)
            # don't do nothing
            if len(first_token) >= 2 and first_token[1].startswith("("):
                continue
            if first_token and first_token[0].endswith("."):
                personae.append(first_token[0])
    personae_set = set(personae) - set(words_not_to_remove)
    # from the set of personae remove the set of words we need
    result = "\n".join([" ".join([token for token in line.split() if token not in personae_set]) for line in text_lines])
    return result

def remove_titles(text):
    """
    Removes specified titles from the text.
    
    Args:
        text (str): Input text.
        
    Returns:
        str: Text without the specified titles.
    """
    titles_to_remove = ['PROLOGUS', 'Lupus et agnus.', 'Ranae regem petierunt.', 'Graculus superbus et pavo.', 'Canis per fluvium carnem ferens.', 'Vacca, capella, ovis, et leo.',
                        'Ranae ad solem.', 'Vulpis ad personam tragicam.', 'Lupus et gruis.', 'Passer ad leporem consiliator.', 'Lupus et vulpes iudice simio.',
                        'Asinus et leo venantes.', 'Cervus ad fontem.', 'Vulpes et corvus.', 'Ex sutore medicus.', 'Asinus ad senem pastorem.', 'Ovis, cervus, et lupus.',
                        'Mulier parturiens.', 'Canis parturiens.', 'Canes famelici.', 'Leo senex, aper, taurus, et asinus.', 'Mustela et homo', 'Canis fidelis.',
                        'Rana rupta et bos.', 'Canes et corcodili.', 'Vulpes et ciconia.', 'Canis et thesaurus et vulturius.', 'Vulpes et aquila.', 'Asinus inridens aprum.',
                        'Ranae metuentes taurorum proelia.', 'Milvus et columbae.', 'Auctor.', 'Iuvencus, leo, et praedator.', 'Anus diligens iuvenem, item puella.',
                        'Aesopus ad quendam de successu improborum.', 'Aquila, feles, et aper.', 'Caesar ad atriensem.', 'Aquila et cornix.', 'Muli duo et vectores.',
                        'Cervus ad boves.', 'Auctor', 'Phaedrus ad Eutychum.', 'Anus ad amphoram.', 'Panthera et pastores.', 'Aesopus et rusticus.', 'Lanius et simius.',
                        'Aesopus et petulans.', 'Musca et mula.', 'Lupus ad canem.', 'Soror et frater.', 'Socrates ad amicos.', 'Poeta', 'Eunuchus ad improbum.',
                        'Pullus ad margaritam.', 'Apes et fuci vespa iudice.', 'De lusu et severitate.', 'Canis ad agnum.', 'Cicada et noctua.', 'Arbores in deorum tutela.',
                        'Pavo ad Iunonem de voce sua.', 'Aesopus respondet garrulo.', 'Poeta.', 'Poeta ad Particulonem.', 'Asinus et Galli.', 'Poeta.',
                        'De vulpe et uva.', 'Equus et aper.', 'Poeta.', 'Pugna murium et mustelarum.', 'Phaedrus.', 'Serpens ad fabrum ferrarium.',
                        'Vulpes et caper.', 'De vitiis hominum.', 'Fur et lucerna.', 'Malas esse divitias.', 'De leone regnante.', 'Prometheus.', 'Idem.',
                        'De capris barbatis.', 'De fortunis hominum.', 'Canum legati ad Iovem.', 'Serpens. Misericordia nociva.', 'Vulpes et draco.', 'De Simonide.',
                        'Mons parturiens.', 'Formica et musca.', 'Poeta.', 'Poeta ad Particulonem.', 'Idem poeta.', 'Demetrius rex et Menander poeta: Quomodo saepe fallatur hominum iudicium.',
                        'Viatores et latro.', 'Calvus et musca.', 'Asinus et porcellus.', 'Scurra et rusticus.', 'Calvus et quidam aeque pilis defectus.',
                        'Princeps tibicen.', 'Tempus.', 'Taurus et vitulus.', 'Canis et sus et venator.', 'Simius et vulpes: Avarum etiam quod sibi superest non libenter dare.',
                        'Auctor: Non esse plus aequo petendum.', 'Mercurius et duae mulieres: De eodem alia fabella.', 'Prometheus et Dolus: De veritate et mendacio.',
                        'Auctor: Sensum aestimandum esse non verba.', 'Auctor.', 'Aesopus et scriptor.', 'Pompeius Magnus et eius miles: Quam difficile sit hominem nosse.', 'Iuno, Venus et gallina.',
                        'Paterfamilias et Aesopus: Quomodo domanda sit ferox iuventus.', 'Aesopus et victor gymnicus: Quomodo conprimatur aliquando iactantia.', 'Asinus ad lyram.',
                        'Mulier vidua et miles: Quanta sit inconstantia et libido mulierum.', 'Duo iuvenes sponsi dives et pauper: Fortunam interdum praeter spem hominibus favere.',
                        'Aesopus et domina: Quam noceat saepe verum dicere.', 'Gallus lectica a felibus vectus: Nimiam securitatem saepe in periculum homines ducere.',
                        'Scrofa parturiens et lupus: Faciendum prius de homine periculum, quam eius te committas fidei.', 'Aesopus et servus profugus: Non esse malo addendum malum.',
                        'Equus quadrigalis in pistrinum venumdatus: Ferendum esse aequo animo quicquid acciderit.', 'Ursus esuriens.', 'Viator et corvus: Verbis saepenumero homines decipi solere.',
                        'Pastor et capella: Nihil ita occultum esse, quod non reveletur.', 'Serpens et lacerta: Ubi leonis pellis deficit, vulpinam insuendam esse, hoc est, ubi deficiunt vires, astu utendum.',
                        'Cornix et ovis: Multos lacessere debiles et cedere fortibus.', 'Servus et dominus: Nullum maledictum esse gravius conscientia.',
                        'Lepus et bubulcus: Multos verbis blandos esse, pectore infideles.', 'Meretrix et iuvenis: Multa esse nobis iocunda quae tamen sunt incommoda.', 'Fiber.',
                        'Papilio et vespa: Non praeteritam sed praesentem aspiciendam esse fortunam.', 'Terraneola et vulpes: Pravis non esse fidem adhibendam.', 'Epilogus'
                        ]
    for title in titles_to_remove:
        text = text.replace(title, '')
    return text





# read the text file
pharsalia = read_file("../data/corpus_perseus_txt/luc_phar.txt")
# two consecutive new lines show limit its book in Pharsalia
# therefore splitting using this delimeter will allow us to distinguish the books
pharsalia = pharsalia.split('\n\n')

# write texts
write_txt(pharsalia, author='luc', title='phars')





ovid_am = read_file("../data/corpus_perseus_txt/ovid_am.txt")

# two consecutive new lines show limit its book in ovid
# (these two lines were added manually after the removal of the titles)
ovid_works = ovid_am.split('\n\n')

# ovid_books = list(filter(lambda x: x and x.strip(), ovid_books))
# equivalent to: [book for book in books if book != None]
# and list(filter(lambda x: x.strip(), ovid_books))
# x on its own checks if value is truth (i.e., not None)
write_different_titles(ovid_works, author='ovid', title=[
    'am', 'epist', 'medicam', 'ars', 'remed'])





fasti = read_file("../data/corpus_perseus_txt/ovid_fast.txt")

# remove numbers that remained in the text as broken links
fasti = re.sub('\d', "", fasti)
write_txt_no_loop(fasti, author='ovid', title='fasti')





metamorphoses = read_file("../data/corpus_perseus_txt/ovid_met.txt")

# nothing needs to be done so just write
write_txt_no_loop(metamorphoses, author='ovid', title='meta')





ponto = read_file("../data/corpus_perseus_txt/ovid_pont.txt").strip('Ex Ponto')

# remove digits as footnotes inside the text
ponto = remove_digits(ponto)

# write file
write_txt_no_loop(ponto, author='ovid', title='ponto')





tristia = read_file('../data/corpus_perseus_txt/ovid_tr.txt')

# remove digits, if any
tristia = str(remove_digits(tristia))

# manually remove all the comments that were inside the text
write_txt_no_loop(tristia, author='ovid', title='tristia')





ibis = read_file("../data/corpus_perseus_txt/ovid_ibis.txt").replace(">", "").replace("  ", "\n").strip()

# check if there are numbers from the lines or as hypernotes
ibis = remove_digits(ibis)

# write the file
write_txt_no_loop(ibis, author='ovid', title='ibis')





satires = read_file("../data/corpus_perseus_txt/persius_sat.txt")

# remove forgotten line numbers or comments
satires = remove_digits(satires)

# split to individual satires ('\n\n')
satires = satires.split('\n\n')

write_txt(satires, author='persius', title='sati')





for filename in glob("../data/corpus_perseus_txt/sen_*.txt"):
    text_no_personae = remove_personae(filename)
    # play with the paths to extract the author and the titles of the works
    title = os.path.splitext(basename(filename))[0].split("_", 1)[1]
    author = os.path.splitext(basename(filename))[0].split("_", 1)[0]
    write_txt_no_loop(text_no_personae, author=author, title=title)





punica = remove_digits(read_file(
    "../data/corpus_perseus_txt/silius_punica.txt"))[7:].replace("  ", "\n").strip().split("\n\n\n")
# [7:] because the first line has the word Punica (i.e., the title of the work, thus it can be removed)

# write the files
write_txt(punica, author="sil.ita", title="pun")





achilleid = remove_digits(
    read_file("../data/corpus_perseus_txt/stat_achill.txt")).replace("  ", "\n")

# write file
write_txt_no_loop(achilleid, author="stat", title="achill")





silvae = remove_digits(read_file(
    "../data/corpus_perseus_txt/stat_silvae.txt")).strip().split("\n\n\n")

# write separate files to test Ferri's hypothesis
write_txt(silvae, author="stat", title="silv")





thebais = remove_digits(
    read_file("../data/corpus_perseus_txt/stat_theb.txt")).strip().split("\n\n")

# write separate files
write_txt(thebais, author="stat", title="theb")





argonautica = remove_digits(read_file(
    "../data/corpus_perseus_txt/valflac_argo.txt")).strip().split("\n\n\n")

write_txt(argonautica, author="valflac", title="argon")





clean_fables = remove_titles(
    '../data/corpus_perseus_txt/phaed_fables.txt').split('\n\n')  # split into books

# write each book to an individual file
write_txt(clean_fables, author='phaed', title='fables')





# loop over each file that follows the pattern manil.astro_*.txt
for filename in glob("../data/corpus_perseus_txt/manil.astro_*.txt"):
    astronomica = remove_digits(read_file(filename)).splitlines()[11:-11]
    # removes digits within the text,
    # split into lines to remove lines added by The Latin Library editors using index
    # join into a string to be able to write the whole poem and not lines
    astronomica = "\n".join(astronomica)
    author = os.path.splitext(basename(filename))[0].split(
        ".", 1)[0]  # extract the author name from the path
    title = os.path.splitext(basename(filename))[0].split(
        ".", 1)[1]  # extract the title name from the path
    # write books to individual txt files
    write_txt_no_loop(astronomica, author=author, title=title)
